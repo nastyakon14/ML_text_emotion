{
 "cells": [
  {
   "cell_type": "markdown",
   "metadata": {
    "id": "-CLVN4cP6mRv"
   },
   "source": [
    "## **«Предварительный анализ данных и построение признаков в задачах распознавания эмоций в тексте»**"
   ]
  },
  {
   "cell_type": "markdown",
   "metadata": {
    "id": "E53QMYmixY06"
   },
   "source": [
    "**Цель**: Произвести классификацию текстовых данных по классам-эмоциям при помощи инструментов машинного обучения"
   ]
  },
  {
   "cell_type": "markdown",
   "metadata": {
    "id": "yEU2gl4vyQSN"
   },
   "source": [
    "**Задачи:**\n",
    "* Реализовать анализ имеющегося набора данных\n",
    "* Произвести обработку естественного языка\n",
    "* Выявить наилучшую модель классификации с наиболее выскоими показателями качества обучения модели"
   ]
  },
  {
   "cell_type": "markdown",
   "metadata": {
    "id": "QfTzSEzyx6wN"
   },
   "source": [
    "**Ожидаемый результат** -- создание модели, которая сможет распознавать эмоциональный окрас текстов. "
   ]
  },
  {
   "cell_type": "markdown",
   "metadata": {
    "id": "OwKPXSHP6LPO"
   },
   "source": [
    "**План работы:**\n",
    "*   Загрузка и описание датасета\n",
    "*   Предварительный анализ и очистка данных\n",
    "*   Обработка естественного языка\n",
    "*   Преобразование текстовых данных в числовые. Векторизация текста\n",
    "*   Построение моделей классификации\n",
    "*   Сравнение моделей\n",
    "*   Улучшение модели\n",
    "*   Заключение\n"
   ]
  },
  {
   "cell_type": "markdown",
   "metadata": {
    "id": "tWNfxKyTpOKe"
   },
   "source": [
    "# Загрузка и описание датасета"
   ]
  },
  {
   "cell_type": "markdown",
   "metadata": {
    "id": "mKKfM3cUVKgI"
   },
   "source": [
    "## Импорт библиотек"
   ]
  },
  {
   "cell_type": "code",
   "execution_count": 4,
   "metadata": {},
   "outputs": [
    {
     "name": "stdout",
     "output_type": "stream",
     "text": [
      "Collecting gensim\n",
      "  Downloading gensim-4.3.1-cp38-cp38-win_amd64.whl (24.0 MB)\n",
      "Requirement already satisfied: numpy>=1.18.5 in c:\\users\\admin\\anaconda3\\lib\\site-packages (from gensim) (1.20.1)\n",
      "Collecting scipy>=1.7.0\n",
      "  Downloading scipy-1.10.1-cp38-cp38-win_amd64.whl (42.2 MB)\n",
      "Collecting smart-open>=1.8.1\n",
      "  Downloading smart_open-6.3.0-py3-none-any.whl (56 kB)\n",
      "Installing collected packages: smart-open, scipy, gensim\n",
      "  Attempting uninstall: scipy\n",
      "    Found existing installation: scipy 1.6.2\n",
      "    Uninstalling scipy-1.6.2:\n",
      "      Successfully uninstalled scipy-1.6.2\n",
      "Successfully installed gensim-4.3.1 scipy-1.10.1 smart-open-6.3.0\n",
      "Note: you may need to restart the kernel to use updated packages.\n"
     ]
    }
   ],
   "source": [
    "pip install gensim"
   ]
  },
  {
   "cell_type": "code",
   "execution_count": 7,
   "metadata": {},
   "outputs": [
    {
     "name": "stdout",
     "output_type": "stream",
     "text": [
      "Collecting wordcloud\n",
      "  Downloading wordcloud-1.9.1.1-cp38-cp38-win_amd64.whl (153 kB)\n",
      "Requirement already satisfied: numpy>=1.6.1 in c:\\users\\admin\\anaconda3\\lib\\site-packages (from wordcloud) (1.20.1)\n",
      "Requirement already satisfied: pillow in c:\\users\\admin\\anaconda3\\lib\\site-packages (from wordcloud) (8.2.0)\n",
      "Requirement already satisfied: matplotlib in c:\\users\\admin\\anaconda3\\lib\\site-packages (from wordcloud) (3.3.4)\n",
      "Requirement already satisfied: cycler>=0.10 in c:\\users\\admin\\anaconda3\\lib\\site-packages (from matplotlib->wordcloud) (0.10.0)\n",
      "Requirement already satisfied: pyparsing!=2.0.4,!=2.1.2,!=2.1.6,>=2.0.3 in c:\\users\\admin\\anaconda3\\lib\\site-packages (from matplotlib->wordcloud) (2.4.7)\n",
      "Requirement already satisfied: kiwisolver>=1.0.1 in c:\\users\\admin\\anaconda3\\lib\\site-packages (from matplotlib->wordcloud) (1.3.1)\n",
      "Requirement already satisfied: python-dateutil>=2.1 in c:\\users\\admin\\anaconda3\\lib\\site-packages (from matplotlib->wordcloud) (2.8.1)\n",
      "Requirement already satisfied: six in c:\\users\\admin\\anaconda3\\lib\\site-packages (from cycler>=0.10->matplotlib->wordcloud) (1.15.0)\n",
      "Installing collected packages: wordcloud\n",
      "Successfully installed wordcloud-1.9.1.1\n",
      "Note: you may need to restart the kernel to use updated packages.\n"
     ]
    }
   ],
   "source": [
    "pip install wordcloud"
   ]
  },
  {
   "cell_type": "code",
   "execution_count": 41,
   "metadata": {
    "id": "l_wZyb2E6iVe"
   },
   "outputs": [],
   "source": [
    "# Импортируем необходимые для работы библиотеки\n",
    "\n",
    "import numpy as np\n",
    "import pandas as pd\n",
    "import matplotlib.pyplot as plt\n",
    "import seaborn as sns\n",
    "import time\n",
    "# from matplotlib.pyplot import bar_label\n",
    "\n",
    "# обработка естественного языка\n",
    "from gensim.parsing.preprocessing import remove_stopwords \n",
    "import re\n",
    "import nltk\n",
    "from nltk.tokenize import word_tokenize   \n",
    "from nltk.stem import WordNetLemmatizer \n",
    "from wordcloud import WordCloud\n",
    "\n",
    "# векторизация текста\n",
    "from sklearn.model_selection import train_test_split\n",
    "from sklearn.preprocessing import LabelEncoder\n",
    "from sklearn.feature_extraction.text import TfidfVectorizer\n",
    "from sklearn.feature_extraction.text import CountVectorizer\n",
    "from sklearn import preprocessing\n",
    "\n",
    "# модели машинного обучения\n",
    "from sklearn.pipeline import Pipeline\n",
    "from sklearn.linear_model import LogisticRegression\n",
    "from sklearn.ensemble import RandomForestClassifier\n",
    "from sklearn import svm\n",
    "\n",
    "# метрики точности моделей\n",
    "from sklearn.metrics import f1_score\n",
    "from sklearn.metrics import accuracy_score\n",
    "from sklearn.metrics import confusion_matrix\n",
    "from sklearn.metrics import classification_report\n",
    "from sklearn.metrics import multilabel_confusion_matrix\n",
    "\n",
    "# from yellowbrick.model_selection import LearningCurve"
   ]
  },
  {
   "cell_type": "markdown",
   "metadata": {
    "id": "Af1p1tMqkC5Z"
   },
   "source": [
    "## Описание данных"
   ]
  },
  {
   "cell_type": "markdown",
   "metadata": {
    "id": "mVqh7RDGXPUr"
   },
   "source": [
    "Загрузим датасет и выведем первые строки, чтобы посмотреть на его содержимое"
   ]
  },
  {
   "cell_type": "code",
   "execution_count": 10,
   "metadata": {
    "colab": {
     "base_uri": "https://localhost:8080/",
     "height": 206
    },
    "id": "ZAR1FWDX704U",
    "outputId": "b6a5d324-41a9-4393-dd53-7cf003766ee2"
   },
   "outputs": [
    {
     "data": {
      "text/html": [
       "<div>\n",
       "<style scoped>\n",
       "    .dataframe tbody tr th:only-of-type {\n",
       "        vertical-align: middle;\n",
       "    }\n",
       "\n",
       "    .dataframe tbody tr th {\n",
       "        vertical-align: top;\n",
       "    }\n",
       "\n",
       "    .dataframe thead th {\n",
       "        text-align: right;\n",
       "    }\n",
       "</style>\n",
       "<table border=\"1\" class=\"dataframe\">\n",
       "  <thead>\n",
       "    <tr style=\"text-align: right;\">\n",
       "      <th></th>\n",
       "      <th>tweet_id</th>\n",
       "      <th>sentiment</th>\n",
       "      <th>content</th>\n",
       "    </tr>\n",
       "  </thead>\n",
       "  <tbody>\n",
       "    <tr>\n",
       "      <th>0</th>\n",
       "      <td>1956967341</td>\n",
       "      <td>empty</td>\n",
       "      <td>@tiffanylue i know  i was listenin to bad habi...</td>\n",
       "    </tr>\n",
       "    <tr>\n",
       "      <th>1</th>\n",
       "      <td>1956967666</td>\n",
       "      <td>sadness</td>\n",
       "      <td>Layin n bed with a headache  ughhhh...waitin o...</td>\n",
       "    </tr>\n",
       "    <tr>\n",
       "      <th>2</th>\n",
       "      <td>1956967696</td>\n",
       "      <td>sadness</td>\n",
       "      <td>Funeral ceremony...gloomy friday...</td>\n",
       "    </tr>\n",
       "    <tr>\n",
       "      <th>3</th>\n",
       "      <td>1956967789</td>\n",
       "      <td>enthusiasm</td>\n",
       "      <td>wants to hang out with friends SOON!</td>\n",
       "    </tr>\n",
       "    <tr>\n",
       "      <th>4</th>\n",
       "      <td>1956968416</td>\n",
       "      <td>neutral</td>\n",
       "      <td>@dannycastillo We want to trade with someone w...</td>\n",
       "    </tr>\n",
       "  </tbody>\n",
       "</table>\n",
       "</div>"
      ],
      "text/plain": [
       "     tweet_id   sentiment                                            content\n",
       "0  1956967341       empty  @tiffanylue i know  i was listenin to bad habi...\n",
       "1  1956967666     sadness  Layin n bed with a headache  ughhhh...waitin o...\n",
       "2  1956967696     sadness                Funeral ceremony...gloomy friday...\n",
       "3  1956967789  enthusiasm               wants to hang out with friends SOON!\n",
       "4  1956968416     neutral  @dannycastillo We want to trade with someone w..."
      ]
     },
     "execution_count": 10,
     "metadata": {},
     "output_type": "execute_result"
    }
   ],
   "source": [
    "data = pd.read_csv('C://Users//Admin//Downloads//tweet_emotions.csv')   # загрузка датасета\n",
    "data.head()"
   ]
  },
  {
   "cell_type": "code",
   "execution_count": 11,
   "metadata": {
    "colab": {
     "base_uri": "https://localhost:8080/"
    },
    "id": "VQ5OdfoxZX9y",
    "outputId": "032662b7-7fff-4835-f68c-29438bf2e949"
   },
   "outputs": [
    {
     "data": {
      "text/plain": [
       "(40000, 3)"
      ]
     },
     "execution_count": 11,
     "metadata": {},
     "output_type": "execute_result"
    }
   ],
   "source": [
    "data.shape    #размерность датасета"
   ]
  },
  {
   "cell_type": "markdown",
   "metadata": {
    "id": "FJTj6c59RkCr"
   },
   "source": [
    "Датасет содержит $40000$ строк и $3$ столбца"
   ]
  },
  {
   "cell_type": "code",
   "execution_count": 12,
   "metadata": {
    "colab": {
     "base_uri": "https://localhost:8080/"
    },
    "id": "hY3OGaWkh9Z4",
    "outputId": "f6a5d512-a527-47ea-fd4f-d75cefed6cfb"
   },
   "outputs": [
    {
     "data": {
      "text/plain": [
       "tweet_id      int64\n",
       "sentiment    object\n",
       "content      object\n",
       "dtype: object"
      ]
     },
     "execution_count": 12,
     "metadata": {},
     "output_type": "execute_result"
    }
   ],
   "source": [
    "data.dtypes"
   ]
  },
  {
   "cell_type": "markdown",
   "metadata": {
    "id": "EWOcn3kQh-ZP"
   },
   "source": [
    "Датасет сожержит $1$ числовой столбец (количественный признак) и $2$ нечисловых (категориальные признаки)\n",
    "\n",
    "\n"
   ]
  },
  {
   "cell_type": "code",
   "execution_count": 13,
   "metadata": {
    "colab": {
     "base_uri": "https://localhost:8080/"
    },
    "id": "jM_Z4OZJcJoH",
    "outputId": "827e6ebc-f13b-47d2-ef6a-49157e99705b"
   },
   "outputs": [
    {
     "data": {
      "text/plain": [
       "Index(['tweet_id', 'sentiment', 'content'], dtype='object')"
      ]
     },
     "execution_count": 13,
     "metadata": {},
     "output_type": "execute_result"
    }
   ],
   "source": [
    "data.columns   # наименования столбцов"
   ]
  },
  {
   "cell_type": "markdown",
   "metadata": {
    "id": "gNN8Xb8wW0sr"
   },
   "source": [
    "Датасет содержит $3$ столбца и $40000$ строк \\\n",
    "Столбцы:\n",
    "\n",
    "*   ```tweet_id```-- id каждого пользователя, оставившего сооющение в твиттере\n",
    "*  ```sentiment```\t-- целевой столбец, определяющий эмоцию в тексте столбца content\n",
    "*   ```content  ```-- текст-сообщение пользовател в твиттере, у которого необходимо распознать эмоцию\n"
   ]
  },
  {
   "cell_type": "code",
   "execution_count": 14,
   "metadata": {
    "colab": {
     "base_uri": "https://localhost:8080/"
    },
    "id": "03SfYdrJTFTx",
    "outputId": "0a7f87ab-cb72-4e11-f895-84a129a95cc7"
   },
   "outputs": [
    {
     "data": {
      "text/plain": [
       "13"
      ]
     },
     "execution_count": 14,
     "metadata": {},
     "output_type": "execute_result"
    }
   ],
   "source": [
    "len(data['sentiment'].unique())\n",
    "# количество уникальных значений в столбце с эмоциями"
   ]
  },
  {
   "cell_type": "markdown",
   "metadata": {
    "id": "7bgG49rlVZOm"
   },
   "source": [
    "В столбце ```sentiment``` сожержится 13 уникальных значений => имеется $13$ классов эмоций, по которым предстоит проклассифицировать текст"
   ]
  },
  {
   "cell_type": "markdown",
   "metadata": {
    "id": "zjY8vt0NXLxo"
   },
   "source": [
    ">**Решаемая проблема** -- множество объектов текста разделить на $13$ классов эмоций (**задача классификации текста**), и обработки естественного языка. Задача классификации относится к задачам обучения с учителем, поскольку нам заранее известен результат, который мы хотим получить."
   ]
  },
  {
   "cell_type": "markdown",
   "metadata": {
    "id": "dvSSACWsXdSg"
   },
   "source": [
    "# Предварительный анализ и очистка данных"
   ]
  },
  {
   "cell_type": "markdown",
   "metadata": {
    "id": "Y3IJRqneXpYn"
   },
   "source": [
    "Для построения более точных и качественных моделей изучим и проанализируем данные"
   ]
  },
  {
   "cell_type": "code",
   "execution_count": 15,
   "metadata": {
    "colab": {
     "base_uri": "https://localhost:8080/",
     "height": 300
    },
    "id": "7r8Tdg8_PuQD",
    "outputId": "0c56d0a2-0400-45ed-fb15-dd7e507d78a4"
   },
   "outputs": [
    {
     "data": {
      "text/html": [
       "<div>\n",
       "<style scoped>\n",
       "    .dataframe tbody tr th:only-of-type {\n",
       "        vertical-align: middle;\n",
       "    }\n",
       "\n",
       "    .dataframe tbody tr th {\n",
       "        vertical-align: top;\n",
       "    }\n",
       "\n",
       "    .dataframe thead th {\n",
       "        text-align: right;\n",
       "    }\n",
       "</style>\n",
       "<table border=\"1\" class=\"dataframe\">\n",
       "  <thead>\n",
       "    <tr style=\"text-align: right;\">\n",
       "      <th></th>\n",
       "      <th>tweet_id</th>\n",
       "    </tr>\n",
       "  </thead>\n",
       "  <tbody>\n",
       "    <tr>\n",
       "      <th>count</th>\n",
       "      <td>4.000000e+04</td>\n",
       "    </tr>\n",
       "    <tr>\n",
       "      <th>mean</th>\n",
       "      <td>1.845184e+09</td>\n",
       "    </tr>\n",
       "    <tr>\n",
       "      <th>std</th>\n",
       "      <td>1.188579e+08</td>\n",
       "    </tr>\n",
       "    <tr>\n",
       "      <th>min</th>\n",
       "      <td>1.693956e+09</td>\n",
       "    </tr>\n",
       "    <tr>\n",
       "      <th>25%</th>\n",
       "      <td>1.751431e+09</td>\n",
       "    </tr>\n",
       "    <tr>\n",
       "      <th>50%</th>\n",
       "      <td>1.855443e+09</td>\n",
       "    </tr>\n",
       "    <tr>\n",
       "      <th>75%</th>\n",
       "      <td>1.962781e+09</td>\n",
       "    </tr>\n",
       "    <tr>\n",
       "      <th>max</th>\n",
       "      <td>1.966441e+09</td>\n",
       "    </tr>\n",
       "  </tbody>\n",
       "</table>\n",
       "</div>"
      ],
      "text/plain": [
       "           tweet_id\n",
       "count  4.000000e+04\n",
       "mean   1.845184e+09\n",
       "std    1.188579e+08\n",
       "min    1.693956e+09\n",
       "25%    1.751431e+09\n",
       "50%    1.855443e+09\n",
       "75%    1.962781e+09\n",
       "max    1.966441e+09"
      ]
     },
     "execution_count": 15,
     "metadata": {},
     "output_type": "execute_result"
    }
   ],
   "source": [
    "data.describe()   # описательная статистика, основная статистическая информация об атрибутах (по столбцу tweet_id, тк только он сожержит числовые данные)"
   ]
  },
  {
   "cell_type": "markdown",
   "metadata": {
    "id": "1utQnWGfilV0"
   },
   "source": [
    "Столбец ```tweet_id``` представляет количественную харкатеристику датасета"
   ]
  },
  {
   "cell_type": "code",
   "execution_count": 16,
   "metadata": {
    "colab": {
     "base_uri": "https://localhost:8080/",
     "height": 175
    },
    "id": "umb9etdcibFB",
    "outputId": "50ddc1a0-6905-4f4e-956c-f9a05141b5aa"
   },
   "outputs": [
    {
     "data": {
      "text/html": [
       "<div>\n",
       "<style scoped>\n",
       "    .dataframe tbody tr th:only-of-type {\n",
       "        vertical-align: middle;\n",
       "    }\n",
       "\n",
       "    .dataframe tbody tr th {\n",
       "        vertical-align: top;\n",
       "    }\n",
       "\n",
       "    .dataframe thead th {\n",
       "        text-align: right;\n",
       "    }\n",
       "</style>\n",
       "<table border=\"1\" class=\"dataframe\">\n",
       "  <thead>\n",
       "    <tr style=\"text-align: right;\">\n",
       "      <th></th>\n",
       "      <th>sentiment</th>\n",
       "    </tr>\n",
       "  </thead>\n",
       "  <tbody>\n",
       "    <tr>\n",
       "      <th>count</th>\n",
       "      <td>40000</td>\n",
       "    </tr>\n",
       "    <tr>\n",
       "      <th>unique</th>\n",
       "      <td>13</td>\n",
       "    </tr>\n",
       "    <tr>\n",
       "      <th>top</th>\n",
       "      <td>neutral</td>\n",
       "    </tr>\n",
       "    <tr>\n",
       "      <th>freq</th>\n",
       "      <td>8638</td>\n",
       "    </tr>\n",
       "  </tbody>\n",
       "</table>\n",
       "</div>"
      ],
      "text/plain": [
       "       sentiment\n",
       "count      40000\n",
       "unique        13\n",
       "top      neutral\n",
       "freq        8638"
      ]
     },
     "execution_count": 16,
     "metadata": {},
     "output_type": "execute_result"
    }
   ],
   "source": [
    "data[['sentiment']].describe()"
   ]
  },
  {
   "cell_type": "code",
   "execution_count": 17,
   "metadata": {
    "colab": {
     "base_uri": "https://localhost:8080/",
     "height": 175
    },
    "id": "9fp14hABi0ep",
    "outputId": "fd5ca76d-7794-436e-c14e-107a34b13752"
   },
   "outputs": [
    {
     "data": {
      "text/html": [
       "<div>\n",
       "<style scoped>\n",
       "    .dataframe tbody tr th:only-of-type {\n",
       "        vertical-align: middle;\n",
       "    }\n",
       "\n",
       "    .dataframe tbody tr th {\n",
       "        vertical-align: top;\n",
       "    }\n",
       "\n",
       "    .dataframe thead th {\n",
       "        text-align: right;\n",
       "    }\n",
       "</style>\n",
       "<table border=\"1\" class=\"dataframe\">\n",
       "  <thead>\n",
       "    <tr style=\"text-align: right;\">\n",
       "      <th></th>\n",
       "      <th>content</th>\n",
       "    </tr>\n",
       "  </thead>\n",
       "  <tbody>\n",
       "    <tr>\n",
       "      <th>count</th>\n",
       "      <td>40000</td>\n",
       "    </tr>\n",
       "    <tr>\n",
       "      <th>unique</th>\n",
       "      <td>39827</td>\n",
       "    </tr>\n",
       "    <tr>\n",
       "      <th>top</th>\n",
       "      <td>I just received a mothers day card from my lov...</td>\n",
       "    </tr>\n",
       "    <tr>\n",
       "      <th>freq</th>\n",
       "      <td>14</td>\n",
       "    </tr>\n",
       "  </tbody>\n",
       "</table>\n",
       "</div>"
      ],
      "text/plain": [
       "                                                  content\n",
       "count                                               40000\n",
       "unique                                              39827\n",
       "top     I just received a mothers day card from my lov...\n",
       "freq                                                   14"
      ]
     },
     "execution_count": 17,
     "metadata": {},
     "output_type": "execute_result"
    }
   ],
   "source": [
    " data[['content']].describe()"
   ]
  },
  {
   "cell_type": "markdown",
   "metadata": {
    "id": "chg4B-u1eEcF"
   },
   "source": [
    ">Столбцы ```sentiment``` и ```content``` являются категориальными признаками"
   ]
  },
  {
   "cell_type": "markdown",
   "metadata": {
    "id": "uMhTBM1vtf6G"
   },
   "source": [
    "---\n",
    "**Значимость каждого из атрибутов для предсказания целевой переменной**\n",
    " \n",
    "\n",
    "*   ```tweet_id``` является лишь идентификатором пользователя, оставившего текст. Данный атрибут не оказывает влияния на целевую переменную ```sentiment```, поскольку нам не важно кто оставил текст, а важно лишь содержимое текста для дальнейшей классификации текстов\n",
    "*   ```content``` вкслючает в себя текст, который необходимо проклассифицировать по классам $=>$ оказывает влияние на целевую переменную ```sentiment```"
   ]
  },
  {
   "cell_type": "raw",
   "metadata": {
    "id": "nqZFbRJBiXQh"
   },
   "source": [
    "Очистка данных"
   ]
  },
  {
   "cell_type": "markdown",
   "metadata": {
    "id": "AkE-x_lOgTe2"
   },
   "source": [
    "Просмотрим датасет на наличие:\n",
    "* отсутствующих данных;\n",
    "* неинформативных данных – дубликатов;\n",
    "* несогласованных данных – одних и тех же данных, представленных в разных регистрах или форматах."
   ]
  },
  {
   "cell_type": "markdown",
   "metadata": {
    "id": "FOUl6RqiX8pI"
   },
   "source": [
    "> Проверка датасета на наличие пустых значений:"
   ]
  },
  {
   "cell_type": "code",
   "execution_count": 18,
   "metadata": {
    "colab": {
     "base_uri": "https://localhost:8080/"
    },
    "id": "gCgRgC8BpCz0",
    "outputId": "ba9afcf8-d214-4382-dd4e-44e19c9dc73b"
   },
   "outputs": [
    {
     "name": "stdout",
     "output_type": "stream",
     "text": [
      "<class 'pandas.core.frame.DataFrame'>\n",
      "RangeIndex: 40000 entries, 0 to 39999\n",
      "Data columns (total 3 columns):\n",
      " #   Column     Non-Null Count  Dtype \n",
      "---  ------     --------------  ----- \n",
      " 0   tweet_id   40000 non-null  int64 \n",
      " 1   sentiment  40000 non-null  object\n",
      " 2   content    40000 non-null  object\n",
      "dtypes: int64(1), object(2)\n",
      "memory usage: 937.6+ KB\n"
     ]
    }
   ],
   "source": [
    "data.info()   # типы данных, кол-во значений в каждом столбце, тип данных каждого столбца"
   ]
  },
  {
   "cell_type": "code",
   "execution_count": 19,
   "metadata": {
    "colab": {
     "base_uri": "https://localhost:8080/"
    },
    "id": "TAI48vL8Y83S",
    "outputId": "844ef4ab-bad6-4473-8696-b1470e10c32a"
   },
   "outputs": [
    {
     "data": {
      "text/plain": [
       "tweet_id     0\n",
       "sentiment    0\n",
       "content      0\n",
       "dtype: int64"
      ]
     },
     "execution_count": 19,
     "metadata": {},
     "output_type": "execute_result"
    }
   ],
   "source": [
    "data.isnull().sum()    # количество пропущенных значений"
   ]
  },
  {
   "cell_type": "markdown",
   "metadata": {
    "id": "eiODPTUPY44_"
   },
   "source": [
    "Датасет не содержит пустых (пропущенных) значений => не требует очистки"
   ]
  },
  {
   "cell_type": "code",
   "execution_count": 20,
   "metadata": {
    "colab": {
     "base_uri": "https://localhost:8080/"
    },
    "id": "l4ljJ7-ubYUT",
    "outputId": "3f6a9a0a-930c-412e-ecfa-bd6914337a1f"
   },
   "outputs": [
    {
     "name": "stdout",
     "output_type": "stream",
     "text": [
      "Max length --> 167,    \n",
      "Mean length --> 73.40555, \n",
      "Min length --> 1\n"
     ]
    }
   ],
   "source": [
    "print(f'''Max length --> {data['content'].str.len().max()},    \n",
    "Mean length --> {data['content'].str.len().mean()}, \n",
    "Min length --> {data['content'].str.len().min()}''')   # максимальная, средняя и минимальная длина текста в датасете в поле content"
   ]
  },
  {
   "cell_type": "markdown",
   "metadata": {
    "id": "-foF1ejMcIBE"
   },
   "source": [
    "Максимальная длина текстового сообщения $167$, средняя ~ $73$, минимальная -- $1$ символ\\\n",
    "Датасет содержит несколько записей, состоящих из $1$ символа.\\\n",
    "Посмотрим на содержимое данных строк. При отсутсвии смысловой значимости данным удалим эти строки из датасета"
   ]
  },
  {
   "cell_type": "code",
   "execution_count": 21,
   "metadata": {
    "colab": {
     "base_uri": "https://localhost:8080/",
     "height": 175
    },
    "id": "MWPxv7UfcetE",
    "outputId": "db1370c5-cb93-435f-fd42-c0e0e614b8ee"
   },
   "outputs": [
    {
     "data": {
      "text/html": [
       "<div>\n",
       "<style scoped>\n",
       "    .dataframe tbody tr th:only-of-type {\n",
       "        vertical-align: middle;\n",
       "    }\n",
       "\n",
       "    .dataframe tbody tr th {\n",
       "        vertical-align: top;\n",
       "    }\n",
       "\n",
       "    .dataframe thead th {\n",
       "        text-align: right;\n",
       "    }\n",
       "</style>\n",
       "<table border=\"1\" class=\"dataframe\">\n",
       "  <thead>\n",
       "    <tr style=\"text-align: right;\">\n",
       "      <th></th>\n",
       "      <th>tweet_id</th>\n",
       "      <th>sentiment</th>\n",
       "      <th>content</th>\n",
       "    </tr>\n",
       "  </thead>\n",
       "  <tbody>\n",
       "    <tr>\n",
       "      <th>340</th>\n",
       "      <td>1957042734</td>\n",
       "      <td>empty</td>\n",
       "      <td>0</td>\n",
       "    </tr>\n",
       "    <tr>\n",
       "      <th>15028</th>\n",
       "      <td>1964712204</td>\n",
       "      <td>neutral</td>\n",
       "      <td>0</td>\n",
       "    </tr>\n",
       "    <tr>\n",
       "      <th>29869</th>\n",
       "      <td>1751394197</td>\n",
       "      <td>neutral</td>\n",
       "      <td>0</td>\n",
       "    </tr>\n",
       "    <tr>\n",
       "      <th>39415</th>\n",
       "      <td>1753819910</td>\n",
       "      <td>neutral</td>\n",
       "      <td>0</td>\n",
       "    </tr>\n",
       "  </tbody>\n",
       "</table>\n",
       "</div>"
      ],
      "text/plain": [
       "         tweet_id sentiment content\n",
       "340    1957042734     empty       0\n",
       "15028  1964712204   neutral       0\n",
       "29869  1751394197   neutral       0\n",
       "39415  1753819910   neutral       0"
      ]
     },
     "execution_count": 21,
     "metadata": {},
     "output_type": "execute_result"
    }
   ],
   "source": [
    "data[data['content'].str.len() == 1]    # строки, длина которых = 1"
   ]
  },
  {
   "cell_type": "markdown",
   "metadata": {
    "id": "TllWMhsueVmF"
   },
   "source": [
    "Содержимое данных строк $= 0$. Данные записи можно удалить из датасета, поскольку их наличие не имеет смысла для дальнейшей классификации"
   ]
  },
  {
   "cell_type": "code",
   "execution_count": 22,
   "metadata": {
    "colab": {
     "base_uri": "https://localhost:8080/"
    },
    "id": "2IRomj70ee_m",
    "outputId": "a6e0973e-0602-4dbd-df24-f6ed7e851399"
   },
   "outputs": [
    {
     "data": {
      "text/plain": [
       "Int64Index([340, 15028, 29869, 39415], dtype='int64')"
      ]
     },
     "execution_count": 22,
     "metadata": {},
     "output_type": "execute_result"
    }
   ],
   "source": [
    "drop_index = data[data['content'].str.len() == 1].index; drop_index   # индексы строк, сотсоящих из 0, для удаления"
   ]
  },
  {
   "cell_type": "code",
   "execution_count": 23,
   "metadata": {
    "colab": {
     "base_uri": "https://localhost:8080/",
     "height": 206
    },
    "id": "yFY6kizXemkZ",
    "outputId": "9030c30d-7eb2-4b18-8703-dadb9dc75b60"
   },
   "outputs": [
    {
     "data": {
      "text/html": [
       "<div>\n",
       "<style scoped>\n",
       "    .dataframe tbody tr th:only-of-type {\n",
       "        vertical-align: middle;\n",
       "    }\n",
       "\n",
       "    .dataframe tbody tr th {\n",
       "        vertical-align: top;\n",
       "    }\n",
       "\n",
       "    .dataframe thead th {\n",
       "        text-align: right;\n",
       "    }\n",
       "</style>\n",
       "<table border=\"1\" class=\"dataframe\">\n",
       "  <thead>\n",
       "    <tr style=\"text-align: right;\">\n",
       "      <th></th>\n",
       "      <th>tweet_id</th>\n",
       "      <th>sentiment</th>\n",
       "      <th>content</th>\n",
       "    </tr>\n",
       "  </thead>\n",
       "  <tbody>\n",
       "    <tr>\n",
       "      <th>0</th>\n",
       "      <td>1956967341</td>\n",
       "      <td>empty</td>\n",
       "      <td>@tiffanylue i know  i was listenin to bad habi...</td>\n",
       "    </tr>\n",
       "    <tr>\n",
       "      <th>1</th>\n",
       "      <td>1956967666</td>\n",
       "      <td>sadness</td>\n",
       "      <td>Layin n bed with a headache  ughhhh...waitin o...</td>\n",
       "    </tr>\n",
       "    <tr>\n",
       "      <th>2</th>\n",
       "      <td>1956967696</td>\n",
       "      <td>sadness</td>\n",
       "      <td>Funeral ceremony...gloomy friday...</td>\n",
       "    </tr>\n",
       "    <tr>\n",
       "      <th>3</th>\n",
       "      <td>1956967789</td>\n",
       "      <td>enthusiasm</td>\n",
       "      <td>wants to hang out with friends SOON!</td>\n",
       "    </tr>\n",
       "    <tr>\n",
       "      <th>4</th>\n",
       "      <td>1956968416</td>\n",
       "      <td>neutral</td>\n",
       "      <td>@dannycastillo We want to trade with someone w...</td>\n",
       "    </tr>\n",
       "  </tbody>\n",
       "</table>\n",
       "</div>"
      ],
      "text/plain": [
       "     tweet_id   sentiment                                            content\n",
       "0  1956967341       empty  @tiffanylue i know  i was listenin to bad habi...\n",
       "1  1956967666     sadness  Layin n bed with a headache  ughhhh...waitin o...\n",
       "2  1956967696     sadness                Funeral ceremony...gloomy friday...\n",
       "3  1956967789  enthusiasm               wants to hang out with friends SOON!\n",
       "4  1956968416     neutral  @dannycastillo We want to trade with someone w..."
      ]
     },
     "execution_count": 23,
     "metadata": {},
     "output_type": "execute_result"
    }
   ],
   "source": [
    "data = data.drop(labels =drop_index, axis = 0); data.head()   # удаление строк по индексам"
   ]
  },
  {
   "cell_type": "code",
   "execution_count": 24,
   "metadata": {
    "colab": {
     "base_uri": "https://localhost:8080/"
    },
    "id": "NXS-DgCOe3mY",
    "outputId": "18d3427e-8711-4590-db43-7d84cc22790f"
   },
   "outputs": [
    {
     "data": {
      "text/plain": [
       "(6,\n",
       " Empty DataFrame\n",
       " Columns: [tweet_id, sentiment, content]\n",
       " Index: [])"
      ]
     },
     "execution_count": 24,
     "metadata": {},
     "output_type": "execute_result"
    }
   ],
   "source": [
    "data['content'].str.len().min(), data[data['content'].str.len() == 1] "
   ]
  },
  {
   "cell_type": "code",
   "execution_count": 25,
   "metadata": {
    "colab": {
     "base_uri": "https://localhost:8080/"
    },
    "id": "s6euysVshZNO",
    "outputId": "66dfbf51-b257-49f9-f14d-f961d3f16897"
   },
   "outputs": [
    {
     "data": {
      "text/plain": [
       "(39996, 3)"
      ]
     },
     "execution_count": 25,
     "metadata": {},
     "output_type": "execute_result"
    }
   ],
   "source": [
    "data.shape"
   ]
  },
  {
   "cell_type": "markdown",
   "metadata": {
    "id": "fVrEkXgNfEOS"
   },
   "source": [
    "Теперь минимальная длина текстового сообщения $= 6$, столбец больше не содержит записей, содержащих \"0\".\\\n",
    "Из датасета удалили $4$ строки, поэтому теперь количество строк стало $39996$"
   ]
  },
  {
   "cell_type": "markdown",
   "metadata": {
    "id": "-sVbJscZrZpw"
   },
   "source": [
    "> Проверим датасет на наличие неинформативных данных - дубликатов в строках\\\n",
    "Значения столбца ```tweet_id``` не будем учитывать, поскольку его значения всегда уникальны и требуется проверить на дубликаты именно текст пользователй"
   ]
  },
  {
   "cell_type": "code",
   "execution_count": 26,
   "metadata": {
    "colab": {
     "base_uri": "https://localhost:8080/",
     "height": 81
    },
    "id": "3zLZwv2MM2K7",
    "outputId": "e7cd7090-2d30-4756-a84b-2f7d7e6a28b6"
   },
   "outputs": [
    {
     "data": {
      "text/html": [
       "<div>\n",
       "<style scoped>\n",
       "    .dataframe tbody tr th:only-of-type {\n",
       "        vertical-align: middle;\n",
       "    }\n",
       "\n",
       "    .dataframe tbody tr th {\n",
       "        vertical-align: top;\n",
       "    }\n",
       "\n",
       "    .dataframe thead th {\n",
       "        text-align: right;\n",
       "    }\n",
       "</style>\n",
       "<table border=\"1\" class=\"dataframe\">\n",
       "  <thead>\n",
       "    <tr style=\"text-align: right;\">\n",
       "      <th></th>\n",
       "      <th>tweet_id</th>\n",
       "      <th>sentiment</th>\n",
       "      <th>content</th>\n",
       "    </tr>\n",
       "  </thead>\n",
       "  <tbody>\n",
       "    <tr>\n",
       "      <th>value counts</th>\n",
       "      <td>39996</td>\n",
       "      <td>13</td>\n",
       "      <td>39826</td>\n",
       "    </tr>\n",
       "  </tbody>\n",
       "</table>\n",
       "</div>"
      ],
      "text/plain": [
       "              tweet_id  sentiment  content\n",
       "value counts     39996         13    39826"
      ]
     },
     "execution_count": 26,
     "metadata": {},
     "output_type": "execute_result"
    }
   ],
   "source": [
    "uniq_counts = pd.DataFrame(\n",
    "    {\n",
    "        'tweet_id': len(data['tweet_id'].unique()),\n",
    "        'sentiment': len(data['sentiment'].unique()),\n",
    "        'content': len(data['content'].unique()),\n",
    "    }, index = ['value counts']\n",
    ")\n",
    "uniq_counts"
   ]
  },
  {
   "cell_type": "markdown",
   "metadata": {
    "id": "Of0tjWJxQgME"
   },
   "source": [
    "Можем сделать выввод, что:\n",
    "*   Каждый ```\ttweet_id``` уникален\n",
    "*   Датафрейм содержит $13$ классов эмоций\n",
    "* В столбце ```content``` содержатся дубликаты текста, тк количество уникальных значений не равно количествуву строк в датафрейме\n"
   ]
  },
  {
   "cell_type": "code",
   "execution_count": 27,
   "metadata": {
    "colab": {
     "base_uri": "https://localhost:8080/"
    },
    "id": "oC80vfvHOWRh",
    "outputId": "a464b95b-476c-4460-b307-ff41f6bd559b"
   },
   "outputs": [
    {
     "data": {
      "text/plain": [
       "89"
      ]
     },
     "execution_count": 27,
     "metadata": {},
     "output_type": "execute_result"
    }
   ],
   "source": [
    "data[['sentiment','content']].duplicated().sum() # проверка на наличие дубликатов строк для столбцов эмоция - текст"
   ]
  },
  {
   "cell_type": "markdown",
   "metadata": {
    "id": "WTY78SJgqPof"
   },
   "source": [
    "Датасет содержит дубликаты строк (в количестве $89$), которые нужно удалить\\\n",
    "Но для начала просмотрим не имеется ли одинаковых записей в разных регистрах\\\n",
    "Для этого приведем все записи в единому регистру и повторно проверм на наличие дубликатов"
   ]
  },
  {
   "cell_type": "code",
   "execution_count": 28,
   "metadata": {
    "colab": {
     "base_uri": "https://localhost:8080/"
    },
    "id": "O_Thh1zap5fa",
    "outputId": "6ee887af-3c1e-4d8c-d49a-cdb1459de1b2"
   },
   "outputs": [
    {
     "data": {
      "text/plain": [
       "134"
      ]
     },
     "execution_count": 28,
     "metadata": {},
     "output_type": "execute_result"
    }
   ],
   "source": [
    "# принудительное понижение регистра\n",
    "data['content'] = data['content'].str.lower()\n",
    "data[['sentiment','content']].duplicated().sum() # проверка на наличие дубликатов строк для столбцов эмоция - текст"
   ]
  },
  {
   "cell_type": "markdown",
   "metadata": {
    "id": "U_bJB5c1OoEF"
   },
   "source": [
    "Количество дубликатов строк увеличилось. Датасет содержит дубликаты строк (в количестве $134$), которые нужно удалить из датасета"
   ]
  },
  {
   "cell_type": "code",
   "execution_count": 29,
   "metadata": {
    "colab": {
     "base_uri": "https://localhost:8080/",
     "height": 424
    },
    "id": "Lygj7klpOmnn",
    "outputId": "a198e7e7-4016-4506-be80-90d4f620e82d"
   },
   "outputs": [
    {
     "data": {
      "text/html": [
       "<div>\n",
       "<style scoped>\n",
       "    .dataframe tbody tr th:only-of-type {\n",
       "        vertical-align: middle;\n",
       "    }\n",
       "\n",
       "    .dataframe tbody tr th {\n",
       "        vertical-align: top;\n",
       "    }\n",
       "\n",
       "    .dataframe thead th {\n",
       "        text-align: right;\n",
       "    }\n",
       "</style>\n",
       "<table border=\"1\" class=\"dataframe\">\n",
       "  <thead>\n",
       "    <tr style=\"text-align: right;\">\n",
       "      <th></th>\n",
       "      <th>tweet_id</th>\n",
       "      <th>sentiment</th>\n",
       "      <th>content</th>\n",
       "    </tr>\n",
       "  </thead>\n",
       "  <tbody>\n",
       "    <tr>\n",
       "      <th>521</th>\n",
       "      <td>1957088574</td>\n",
       "      <td>worry</td>\n",
       "      <td>somebody please save the polar bears!</td>\n",
       "    </tr>\n",
       "    <tr>\n",
       "      <th>6591</th>\n",
       "      <td>1961366316</td>\n",
       "      <td>sadness</td>\n",
       "      <td>headache</td>\n",
       "    </tr>\n",
       "    <tr>\n",
       "      <th>6718</th>\n",
       "      <td>1961422696</td>\n",
       "      <td>sadness</td>\n",
       "      <td>headache</td>\n",
       "    </tr>\n",
       "    <tr>\n",
       "      <th>8878</th>\n",
       "      <td>1962332251</td>\n",
       "      <td>worry</td>\n",
       "      <td>my throat hurts</td>\n",
       "    </tr>\n",
       "    <tr>\n",
       "      <th>9613</th>\n",
       "      <td>1962653254</td>\n",
       "      <td>worry</td>\n",
       "      <td>my tummy hurts</td>\n",
       "    </tr>\n",
       "    <tr>\n",
       "      <th>...</th>\n",
       "      <td>...</td>\n",
       "      <td>...</td>\n",
       "      <td>...</td>\n",
       "    </tr>\n",
       "    <tr>\n",
       "      <th>39859</th>\n",
       "      <td>1753886681</td>\n",
       "      <td>love</td>\n",
       "      <td>happy mothers day</td>\n",
       "    </tr>\n",
       "    <tr>\n",
       "      <th>39898</th>\n",
       "      <td>1753902524</td>\n",
       "      <td>love</td>\n",
       "      <td>happy mothers day!</td>\n",
       "    </tr>\n",
       "    <tr>\n",
       "      <th>39913</th>\n",
       "      <td>1753902827</td>\n",
       "      <td>happiness</td>\n",
       "      <td>happy mother's day!</td>\n",
       "    </tr>\n",
       "    <tr>\n",
       "      <th>39915</th>\n",
       "      <td>1753903008</td>\n",
       "      <td>love</td>\n",
       "      <td>happy mother's day everyone</td>\n",
       "    </tr>\n",
       "    <tr>\n",
       "      <th>39945</th>\n",
       "      <td>1753903727</td>\n",
       "      <td>love</td>\n",
       "      <td>happy mother's day to all the moms out there!</td>\n",
       "    </tr>\n",
       "  </tbody>\n",
       "</table>\n",
       "<p>134 rows × 3 columns</p>\n",
       "</div>"
      ],
      "text/plain": [
       "         tweet_id  sentiment                                        content\n",
       "521    1957088574      worry          somebody please save the polar bears!\n",
       "6591   1961366316    sadness                                       headache\n",
       "6718   1961422696    sadness                                       headache\n",
       "8878   1962332251      worry                                my throat hurts\n",
       "9613   1962653254      worry                                 my tummy hurts\n",
       "...           ...        ...                                            ...\n",
       "39859  1753886681       love                              happy mothers day\n",
       "39898  1753902524       love                             happy mothers day!\n",
       "39913  1753902827  happiness                            happy mother's day!\n",
       "39915  1753903008       love                    happy mother's day everyone\n",
       "39945  1753903727       love  happy mother's day to all the moms out there!\n",
       "\n",
       "[134 rows x 3 columns]"
      ]
     },
     "execution_count": 29,
     "metadata": {},
     "output_type": "execute_result"
    }
   ],
   "source": [
    "data[data[['sentiment','content']].duplicated() == True]   # строки с дубликатами"
   ]
  },
  {
   "cell_type": "code",
   "execution_count": 30,
   "metadata": {
    "colab": {
     "base_uri": "https://localhost:8080/"
    },
    "id": "KHUYD-NXPh7v",
    "outputId": "ca745dbb-be47-4445-eb1a-8ff694026271"
   },
   "outputs": [
    {
     "data": {
      "text/plain": [
       "Int64Index([  521,  6591,  6718,  8878,  9613, 10918, 11800, 12531, 13491,\n",
       "            14208,\n",
       "            ...\n",
       "            39260, 39277, 39284, 39600, 39772, 39859, 39898, 39913, 39915,\n",
       "            39945],\n",
       "           dtype='int64', length=134)"
      ]
     },
     "execution_count": 30,
     "metadata": {},
     "output_type": "execute_result"
    }
   ],
   "source": [
    "drop_index = data[data[['sentiment','content']].duplicated() == True].index   # индексы строк для удаления\n",
    "drop_index"
   ]
  },
  {
   "cell_type": "code",
   "execution_count": 31,
   "metadata": {
    "colab": {
     "base_uri": "https://localhost:8080/",
     "height": 206
    },
    "id": "ob3RmAKNPNju",
    "outputId": "bdd30ccc-8650-4fe6-ba26-734b677517be"
   },
   "outputs": [
    {
     "data": {
      "text/html": [
       "<div>\n",
       "<style scoped>\n",
       "    .dataframe tbody tr th:only-of-type {\n",
       "        vertical-align: middle;\n",
       "    }\n",
       "\n",
       "    .dataframe tbody tr th {\n",
       "        vertical-align: top;\n",
       "    }\n",
       "\n",
       "    .dataframe thead th {\n",
       "        text-align: right;\n",
       "    }\n",
       "</style>\n",
       "<table border=\"1\" class=\"dataframe\">\n",
       "  <thead>\n",
       "    <tr style=\"text-align: right;\">\n",
       "      <th></th>\n",
       "      <th>tweet_id</th>\n",
       "      <th>sentiment</th>\n",
       "      <th>content</th>\n",
       "    </tr>\n",
       "  </thead>\n",
       "  <tbody>\n",
       "    <tr>\n",
       "      <th>0</th>\n",
       "      <td>1956967341</td>\n",
       "      <td>empty</td>\n",
       "      <td>@tiffanylue i know  i was listenin to bad habi...</td>\n",
       "    </tr>\n",
       "    <tr>\n",
       "      <th>1</th>\n",
       "      <td>1956967666</td>\n",
       "      <td>sadness</td>\n",
       "      <td>layin n bed with a headache  ughhhh...waitin o...</td>\n",
       "    </tr>\n",
       "    <tr>\n",
       "      <th>2</th>\n",
       "      <td>1956967696</td>\n",
       "      <td>sadness</td>\n",
       "      <td>funeral ceremony...gloomy friday...</td>\n",
       "    </tr>\n",
       "    <tr>\n",
       "      <th>3</th>\n",
       "      <td>1956967789</td>\n",
       "      <td>enthusiasm</td>\n",
       "      <td>wants to hang out with friends soon!</td>\n",
       "    </tr>\n",
       "    <tr>\n",
       "      <th>4</th>\n",
       "      <td>1956968416</td>\n",
       "      <td>neutral</td>\n",
       "      <td>@dannycastillo we want to trade with someone w...</td>\n",
       "    </tr>\n",
       "  </tbody>\n",
       "</table>\n",
       "</div>"
      ],
      "text/plain": [
       "     tweet_id   sentiment                                            content\n",
       "0  1956967341       empty  @tiffanylue i know  i was listenin to bad habi...\n",
       "1  1956967666     sadness  layin n bed with a headache  ughhhh...waitin o...\n",
       "2  1956967696     sadness                funeral ceremony...gloomy friday...\n",
       "3  1956967789  enthusiasm               wants to hang out with friends soon!\n",
       "4  1956968416     neutral  @dannycastillo we want to trade with someone w..."
      ]
     },
     "execution_count": 31,
     "metadata": {},
     "output_type": "execute_result"
    }
   ],
   "source": [
    "data = data.drop(labels =drop_index, axis = 0); data.head()   # удаление строк"
   ]
  },
  {
   "cell_type": "code",
   "execution_count": 32,
   "metadata": {
    "colab": {
     "base_uri": "https://localhost:8080/"
    },
    "id": "G2Ql1tGrRIoj",
    "outputId": "ada8efe5-b958-4234-cfa9-4693c0fc190b"
   },
   "outputs": [
    {
     "data": {
      "text/plain": [
       "0"
      ]
     },
     "execution_count": 32,
     "metadata": {},
     "output_type": "execute_result"
    }
   ],
   "source": [
    "data[['sentiment','content']].duplicated().sum() # проверка на наличие дубликатов"
   ]
  },
  {
   "cell_type": "markdown",
   "metadata": {
    "id": "eApm7dWdRLAp"
   },
   "source": [
    "Все дублирующиеся строки были удалены\\\n",
    "Теперь датасет не содержит дублирующихся строк по столбцам ```sentiment - content```"
   ]
  },
  {
   "cell_type": "code",
   "execution_count": 33,
   "metadata": {
    "colab": {
     "base_uri": "https://localhost:8080/"
    },
    "id": "iIVaRWS8qs2M",
    "outputId": "812351cb-5741-457e-f079-74a2d303c0bf"
   },
   "outputs": [
    {
     "data": {
      "text/plain": [
       "(39862, 3)"
      ]
     },
     "execution_count": 33,
     "metadata": {},
     "output_type": "execute_result"
    }
   ],
   "source": [
    "data.shape   # теперь в датасете содержится 39862 записи"
   ]
  },
  {
   "cell_type": "markdown",
   "metadata": {
    "id": "-Itft_j6idR3"
   },
   "source": [
    "## Анализ данных"
   ]
  },
  {
   "cell_type": "markdown",
   "metadata": {
    "id": "ukWUvOsZUgGn"
   },
   "source": [
    "\n",
    "Опрделим, какое количество строк (сколько текстов) относятся к каждому классу эмоций\\\n",
    "Для этого сгруппируем датасет по столбцу ```sentiment```"
   ]
  },
  {
   "cell_type": "code",
   "execution_count": 34,
   "metadata": {
    "colab": {
     "base_uri": "https://localhost:8080/"
    },
    "id": "b5uRk_-LRIl_",
    "outputId": "e8fd47ed-b3c3-47de-affa-89498a8a6e90"
   },
   "outputs": [
    {
     "data": {
      "text/plain": [
       "sentiment\n",
       "anger          110\n",
       "boredom        179\n",
       "empty          826\n",
       "enthusiasm     759\n",
       "fun           1776\n",
       "happiness     5183\n",
       "hate          1323\n",
       "love          3787\n",
       "neutral       8606\n",
       "relief        1524\n",
       "sadness       5155\n",
       "surprise      2186\n",
       "worry         8448\n",
       "Name: content, dtype: int64"
      ]
     },
     "execution_count": 34,
     "metadata": {},
     "output_type": "execute_result"
    }
   ],
   "source": [
    "(data.groupby(['sentiment']))['content'].count()   # соотношение эмоция - кол-во текстов к эмоции"
   ]
  },
  {
   "cell_type": "markdown",
   "metadata": {
    "id": "RIrscE3hAgP0"
   },
   "source": [
    "Визуализация и наглядное представление распрделения эмоций. Гистограмма показывает распределение того, как часто в датасете встречается каждая из эмоций (какое количество раз)"
   ]
  },
  {
   "cell_type": "code",
   "execution_count": 35,
   "metadata": {
    "colab": {
     "base_uri": "https://localhost:8080/",
     "height": 483
    },
    "id": "mCGgAP0LDiBD",
    "outputId": "3c6d79a4-7df9-4008-b7fc-5a5dd529cb57"
   },
   "outputs": [
    {
     "data": {
      "text/plain": [
       "(array([ 826., 5155.,  759., 8606., 8448., 2186., 3787., 1776., 1323.,\n",
       "        5183.,  179., 1524.,  110.]),\n",
       " array([ 0.        ,  0.92307692,  1.84615385,  2.76923077,  3.69230769,\n",
       "         4.61538462,  5.53846154,  6.46153846,  7.38461538,  8.30769231,\n",
       "         9.23076923, 10.15384615, 11.07692308, 12.        ]),\n",
       " <BarContainer object of 13 artists>)"
      ]
     },
     "execution_count": 35,
     "metadata": {},
     "output_type": "execute_result"
    },
    {
     "data": {
      "image/png": "[encoded data removed]",
      "text/plain": [
       "<Figure size 1008x360 with 1 Axes>"
      ]
     },
     "metadata": {
      "needs_background": "light"
     },
     "output_type": "display_data"
    }
   ],
   "source": [
    "fig, ax = plt.subplots(nrows = 1, ncols = 1, figsize = (14,5))  # создание рабочей области\n",
    "\n",
    "ax.set_title('Гистограмма распределения эмоций', color = 'darkcyan', size = 17)   # названия графика\n",
    "ax.hist(\n",
    "    data['sentiment'], \n",
    "    edgecolor = 'black',  # обводка колонок \n",
    "    color ='aquamarine', \n",
    "    bins = 13,   # кол-во колонок\n",
    "    width  = 0.8   # ширина колонок\n",
    "    ) "
   ]
  },
  {
   "cell_type": "markdown",
   "metadata": {
    "id": "Mp7UXEDJU59J"
   },
   "source": [
    ">Наиболее часто встречается класс ```neutral\t```\\\n",
    "Самый редкий - ```anger```\\\n",
    "Можно сделать вывод о *несбалансированности* набора данных, тк некоторые классы представлены значительно меньшим количеством данных"
   ]
  },
  {
   "cell_type": "code",
   "execution_count": 36,
   "metadata": {
    "colab": {
     "base_uri": "https://localhost:8080/"
    },
    "id": "vljkVOgwRIje",
    "outputId": "f03105d3-3df7-41f7-ae45-d143ca77ef7e"
   },
   "outputs": [
    {
     "data": {
      "text/plain": [
       "neutral       0.215895\n",
       "worry         0.211931\n",
       "happiness     0.130024\n",
       "sadness       0.129321\n",
       "love          0.095003\n",
       "surprise      0.054839\n",
       "fun           0.044554\n",
       "relief        0.038232\n",
       "hate          0.033190\n",
       "empty         0.020721\n",
       "enthusiasm    0.019041\n",
       "boredom       0.004490\n",
       "anger         0.002760\n",
       "Name: sentiment, dtype: float64"
      ]
     },
     "execution_count": 36,
     "metadata": {},
     "output_type": "execute_result"
    }
   ],
   "source": [
    "frequency = data['sentiment'].value_counts(normalize = True); frequency   # относительная частота каждого класса"
   ]
  },
  {
   "cell_type": "code",
   "execution_count": 37,
   "metadata": {
    "colab": {
     "base_uri": "https://localhost:8080/"
    },
    "id": "v_gSlRNytvzK",
    "outputId": "e7271842-1181-4982-add5-177b512b9ab9"
   },
   "outputs": [
    {
     "data": {
      "text/plain": [
       "Index(['neutral', 'worry', 'happiness', 'sadness', 'love', 'surprise', 'fun',\n",
       "       'relief', 'hate', 'empty', 'enthusiasm', 'boredom', 'anger'],\n",
       "      dtype='object')"
      ]
     },
     "execution_count": 37,
     "metadata": {},
     "output_type": "execute_result"
    }
   ],
   "source": [
    "frequency.index   "
   ]
  },
  {
   "cell_type": "code",
   "execution_count": 46,
   "metadata": {
    "colab": {
     "base_uri": "https://localhost:8080/",
     "height": 667
    },
    "id": "l9UWbRe6tbnD",
    "outputId": "b2cba6f5-93ed-4c3e-a19e-e54da59d8999"
   },
   "outputs": [
    {
     "data": {
      "text/plain": [
       "<BarContainer object of 13 artists>"
      ]
     },
     "execution_count": 46,
     "metadata": {},
     "output_type": "execute_result"
    },
    {
     "data": {
      "image/png": "[encoded data removed]",
      "text/plain": [
       "<Figure size 1008x432 with 1 Axes>"
      ]
     },
     "metadata": {
      "needs_background": "light"
     },
     "output_type": "display_data"
    }
   ],
   "source": [
    "fig, ax = plt.subplots(nrows = 1, ncols = 1, figsize = (14,6))  # создание рабочей области\n",
    "\n",
    "ax.set_title('относительная частота каждого класса', color = 'black', size = 17)   # названия графика\n",
    "ax.bar(frequency.index, frequency, color = 'darkviolet')\n",
    "\n",
    "# ax.bar_label(ax.containers[0], label_type='edge')"
   ]
  },
  {
   "cell_type": "markdown",
   "metadata": {
    "id": "ZD0hipg1VwfH"
   },
   "source": [
    "Вычисление относительной частоты показало аналогичные результаты"
   ]
  },
  {
   "cell_type": "markdown",
   "metadata": {
    "id": "yy4e2sBOKTD-"
   },
   "source": [
    "---\n",
    "\n",
    "Проанализируем поле ```content``` по длине символов\n",
    "\n",
    "\n",
    "\n"
   ]
  },
  {
   "cell_type": "code",
   "execution_count": 47,
   "metadata": {
    "colab": {
     "base_uri": "https://localhost:8080/"
    },
    "id": "z09ONBzAKhZX",
    "outputId": "b53afd98-a52f-4b0e-eb80-c96216708ffa"
   },
   "outputs": [
    {
     "data": {
      "text/plain": [
       "0         92\n",
       "1         60\n",
       "2         35\n",
       "3         36\n",
       "4         86\n",
       "        ... \n",
       "39995     16\n",
       "39996     30\n",
       "39997    123\n",
       "39998    122\n",
       "39999    132\n",
       "Name: content, Length: 39862, dtype: int64"
      ]
     },
     "execution_count": 47,
     "metadata": {},
     "output_type": "execute_result"
    }
   ],
   "source": [
    "text_length = data['content'].str.len(); text_length    #длина каждого текстового сообщения"
   ]
  },
  {
   "cell_type": "code",
   "execution_count": 48,
   "metadata": {
    "colab": {
     "base_uri": "https://localhost:8080/"
    },
    "id": "Mo8hI3-VPfMy",
    "outputId": "2052a3fb-a27a-48ad-ed14-b2d3982028c6"
   },
   "outputs": [
    {
     "data": {
      "text/plain": [
       "count    39862.000000\n",
       "mean        73.535021\n",
       "std         36.492918\n",
       "min          6.000000\n",
       "25%         43.000000\n",
       "50%         69.000000\n",
       "75%        103.000000\n",
       "max        167.000000\n",
       "Name: content, dtype: float64"
      ]
     },
     "execution_count": 48,
     "metadata": {},
     "output_type": "execute_result"
    }
   ],
   "source": [
    "text_length.describe()   # описательная статистика "
   ]
  },
  {
   "cell_type": "markdown",
   "metadata": {
    "id": "oNQcui-1QSYF"
   },
   "source": [
    "Максимальное значение длины текста $= 167$, медианное значение $= 73$. Это говорит о том, что в наборе данных присутствует незначительная асимметрия"
   ]
  },
  {
   "cell_type": "code",
   "execution_count": 49,
   "metadata": {
    "colab": {
     "base_uri": "https://localhost:8080/",
     "height": 447
    },
    "id": "zRIBKUqlPfJK",
    "outputId": "0de2535e-1f7a-4e28-ff61-e5e0edeb9fb3"
   },
   "outputs": [
    {
     "name": "stderr",
     "output_type": "stream",
     "text": [
      "C:\\Users\\Admin\\anaconda3\\lib\\site-packages\\seaborn\\_decorators.py:36: FutureWarning: Pass the following variable as a keyword arg: x. From version 0.12, the only valid positional argument will be `data`, and passing other arguments without an explicit keyword will result in an error or misinterpretation.\n",
      "  warnings.warn(\n"
     ]
    },
    {
     "data": {
      "text/plain": [
       "<AxesSubplot:xlabel='content'>"
      ]
     },
     "execution_count": 49,
     "metadata": {},
     "output_type": "execute_result"
    },
    {
     "data": {
      "image/png": "[encoded data removed]",
      "text/plain": [
       "<Figure size 432x288 with 1 Axes>"
      ]
     },
     "metadata": {
      "needs_background": "light"
     },
     "output_type": "display_data"
    }
   ],
   "source": [
    "sns.boxplot(text_length)"
   ]
  },
  {
   "cell_type": "markdown",
   "metadata": {
    "id": "5a0Vmi4fSrL2"
   },
   "source": [
    "На графике видно, что максимальное значение чуть больше $160$, минимальное ~ $6$,среднее значение колеблется около $70$. Выбросов (сильно выбивающихся значений) не имеется"
   ]
  },
  {
   "cell_type": "markdown",
   "metadata": {
    "id": "ojiwqKEjoJqt"
   },
   "source": [
    "Посмотрим среднее количество слов текста для каждой категории"
   ]
  },
  {
   "cell_type": "code",
   "execution_count": 50,
   "metadata": {
    "colab": {
     "base_uri": "https://localhost:8080/"
    },
    "id": "88VWmp5yoJVD",
    "outputId": "c8d55cd1-2ae9-473f-b8fc-4cf3d5749372"
   },
   "outputs": [
    {
     "data": {
      "text/plain": [
       "0        18\n",
       "1        10\n",
       "2         3\n",
       "3         7\n",
       "4        15\n",
       "         ..\n",
       "39995     1\n",
       "39996     6\n",
       "39997    25\n",
       "39998    19\n",
       "39999    18\n",
       "Name: content, Length: 39862, dtype: int64"
      ]
     },
     "execution_count": 50,
     "metadata": {},
     "output_type": "execute_result"
    }
   ],
   "source": [
    "words = data['content'].apply(lambda x: len(x.split())); words   # количество слов в каждой строке поля сontent"
   ]
  },
  {
   "cell_type": "code",
   "execution_count": 51,
   "metadata": {
    "colab": {
     "base_uri": "https://localhost:8080/",
     "height": 206
    },
    "id": "lLc166JvoVkH",
    "outputId": "b17d038a-68f9-45ab-c9a8-8826325c688e"
   },
   "outputs": [
    {
     "data": {
      "text/html": [
       "<div>\n",
       "<style scoped>\n",
       "    .dataframe tbody tr th:only-of-type {\n",
       "        vertical-align: middle;\n",
       "    }\n",
       "\n",
       "    .dataframe tbody tr th {\n",
       "        vertical-align: top;\n",
       "    }\n",
       "\n",
       "    .dataframe thead th {\n",
       "        text-align: right;\n",
       "    }\n",
       "</style>\n",
       "<table border=\"1\" class=\"dataframe\">\n",
       "  <thead>\n",
       "    <tr style=\"text-align: right;\">\n",
       "      <th></th>\n",
       "      <th>tweet_id</th>\n",
       "      <th>sentiment</th>\n",
       "      <th>content</th>\n",
       "    </tr>\n",
       "  </thead>\n",
       "  <tbody>\n",
       "    <tr>\n",
       "      <th>0</th>\n",
       "      <td>1956967341</td>\n",
       "      <td>empty</td>\n",
       "      <td>18</td>\n",
       "    </tr>\n",
       "    <tr>\n",
       "      <th>1</th>\n",
       "      <td>1956967666</td>\n",
       "      <td>sadness</td>\n",
       "      <td>10</td>\n",
       "    </tr>\n",
       "    <tr>\n",
       "      <th>2</th>\n",
       "      <td>1956967696</td>\n",
       "      <td>sadness</td>\n",
       "      <td>3</td>\n",
       "    </tr>\n",
       "    <tr>\n",
       "      <th>3</th>\n",
       "      <td>1956967789</td>\n",
       "      <td>enthusiasm</td>\n",
       "      <td>7</td>\n",
       "    </tr>\n",
       "    <tr>\n",
       "      <th>4</th>\n",
       "      <td>1956968416</td>\n",
       "      <td>neutral</td>\n",
       "      <td>15</td>\n",
       "    </tr>\n",
       "  </tbody>\n",
       "</table>\n",
       "</div>"
      ],
      "text/plain": [
       "     tweet_id   sentiment  content\n",
       "0  1956967341       empty       18\n",
       "1  1956967666     sadness       10\n",
       "2  1956967696     sadness        3\n",
       "3  1956967789  enthusiasm        7\n",
       "4  1956968416     neutral       15"
      ]
     },
     "execution_count": 51,
     "metadata": {},
     "output_type": "execute_result"
    }
   ],
   "source": [
    "new_data = data.copy()\n",
    "new_data['content'] = words\n",
    "new_data.head()   # новый датасет, у которого текст заменен на количество слов в тексте"
   ]
  },
  {
   "cell_type": "code",
   "execution_count": 52,
   "metadata": {
    "colab": {
     "base_uri": "https://localhost:8080/",
     "height": 488
    },
    "id": "pxDEAq7-uciI",
    "outputId": "10dc7eba-4786-4156-b4ab-77fef9d0a8a1"
   },
   "outputs": [
    {
     "data": {
      "text/html": [
       "<div>\n",
       "<style scoped>\n",
       "    .dataframe tbody tr th:only-of-type {\n",
       "        vertical-align: middle;\n",
       "    }\n",
       "\n",
       "    .dataframe tbody tr th {\n",
       "        vertical-align: top;\n",
       "    }\n",
       "\n",
       "    .dataframe thead th {\n",
       "        text-align: right;\n",
       "    }\n",
       "</style>\n",
       "<table border=\"1\" class=\"dataframe\">\n",
       "  <thead>\n",
       "    <tr style=\"text-align: right;\">\n",
       "      <th></th>\n",
       "      <th>content</th>\n",
       "    </tr>\n",
       "    <tr>\n",
       "      <th>sentiment</th>\n",
       "      <th></th>\n",
       "    </tr>\n",
       "  </thead>\n",
       "  <tbody>\n",
       "    <tr>\n",
       "      <th>anger</th>\n",
       "      <td>14.100000</td>\n",
       "    </tr>\n",
       "    <tr>\n",
       "      <th>boredom</th>\n",
       "      <td>13.603352</td>\n",
       "    </tr>\n",
       "    <tr>\n",
       "      <th>empty</th>\n",
       "      <td>11.473366</td>\n",
       "    </tr>\n",
       "    <tr>\n",
       "      <th>enthusiasm</th>\n",
       "      <td>13.426877</td>\n",
       "    </tr>\n",
       "    <tr>\n",
       "      <th>fun</th>\n",
       "      <td>14.390203</td>\n",
       "    </tr>\n",
       "    <tr>\n",
       "      <th>happiness</th>\n",
       "      <td>13.410380</td>\n",
       "    </tr>\n",
       "    <tr>\n",
       "      <th>hate</th>\n",
       "      <td>14.360544</td>\n",
       "    </tr>\n",
       "    <tr>\n",
       "      <th>love</th>\n",
       "      <td>13.303670</td>\n",
       "    </tr>\n",
       "    <tr>\n",
       "      <th>neutral</th>\n",
       "      <td>11.370788</td>\n",
       "    </tr>\n",
       "    <tr>\n",
       "      <th>relief</th>\n",
       "      <td>13.844488</td>\n",
       "    </tr>\n",
       "    <tr>\n",
       "      <th>sadness</th>\n",
       "      <td>13.913288</td>\n",
       "    </tr>\n",
       "    <tr>\n",
       "      <th>surprise</th>\n",
       "      <td>13.540256</td>\n",
       "    </tr>\n",
       "    <tr>\n",
       "      <th>worry</th>\n",
       "      <td>14.144650</td>\n",
       "    </tr>\n",
       "  </tbody>\n",
       "</table>\n",
       "</div>"
      ],
      "text/plain": [
       "              content\n",
       "sentiment            \n",
       "anger       14.100000\n",
       "boredom     13.603352\n",
       "empty       11.473366\n",
       "enthusiasm  13.426877\n",
       "fun         14.390203\n",
       "happiness   13.410380\n",
       "hate        14.360544\n",
       "love        13.303670\n",
       "neutral     11.370788\n",
       "relief      13.844488\n",
       "sadness     13.913288\n",
       "surprise    13.540256\n",
       "worry       14.144650"
      ]
     },
     "execution_count": 52,
     "metadata": {},
     "output_type": "execute_result"
    }
   ],
   "source": [
    "mean_word = pd.DataFrame(new_data.groupby(['sentiment'])['content'].mean()); mean_word    # среднее значение количества слов в тексте для каждой категории"
   ]
  },
  {
   "cell_type": "code",
   "execution_count": 54,
   "metadata": {
    "colab": {
     "base_uri": "https://localhost:8080/",
     "height": 740
    },
    "id": "R0bipZWIdeKW",
    "outputId": "d0b4f294-4096-4694-f1ff-789000082387"
   },
   "outputs": [
    {
     "data": {
      "text/plain": [
       "<BarContainer object of 13 artists>"
      ]
     },
     "execution_count": 54,
     "metadata": {},
     "output_type": "execute_result"
    },
    {
     "data": {
      "image/png": "[encoded data removed]",
      "text/plain": [
       "<Figure size 864x432 with 1 Axes>"
      ]
     },
     "metadata": {
      "needs_background": "light"
     },
     "output_type": "display_data"
    }
   ],
   "source": [
    "fig, ax = plt.subplots(nrows = 1, ncols = 1, figsize = (12,6))  # создание рабочей области\n",
    "\n",
    "ax.set_title('Среднее количество слов в тексте для каждой категории', color = 'green', size = 17)   # названия графика\n",
    "ax.bar(mean_word.index,mean_word['content'], color = 'lawngreen')\n",
    "\n",
    "# ax.bar_label(ax.containers[0], label_type='edge')"
   ]
  },
  {
   "cell_type": "code",
   "execution_count": 55,
   "metadata": {
    "colab": {
     "base_uri": "https://localhost:8080/"
    },
    "id": "Z9SV2v-K1lH2",
    "outputId": "7f7b1fb9-cc5d-4300-8a64-34806cefc2cf"
   },
   "outputs": [
    {
     "data": {
      "text/plain": [
       "(13.45245095245531, 14.390202702702704, 11.370787822449454)"
      ]
     },
     "execution_count": 55,
     "metadata": {},
     "output_type": "execute_result"
    }
   ],
   "source": [
    "mean_word['content'].mean(), mean_word['content'].max(), mean_word['content'].min()    # среднее значение слов в тексте для всего датасета"
   ]
  },
  {
   "cell_type": "markdown",
   "metadata": {
    "id": "HlNi5FiU1h6P"
   },
   "source": [
    "В среднем каждый текст состоит из $13-14$ слов\\\n",
    "Самое большое среднее количество слов у категории ```fun```, меньше всего слов в среднем у категории ```neutral```"
   ]
  },
  {
   "cell_type": "markdown",
   "metadata": {
    "id": "iQbAAA84ijF0"
   },
   "source": [
    "## Разделение переменных"
   ]
  },
  {
   "cell_type": "markdown",
   "metadata": {
    "id": "N2LVbjgC8FOF"
   },
   "source": [
    "\n",
    "Разделим переменные на целевую $y$ и факторы $X$\\\n",
    "$y$ -- зависимая от $X$ переменная\n",
    " \n",
    "Получим единственный фактор $X$, оказывающий влияние на $y$\n"
   ]
  },
  {
   "cell_type": "code",
   "execution_count": 56,
   "metadata": {
    "colab": {
     "base_uri": "https://localhost:8080/",
     "height": 206
    },
    "id": "sdBXrVKQ8H-T",
    "outputId": "720a6efe-52d7-4e38-f6d9-f2ac20456f11"
   },
   "outputs": [
    {
     "data": {
      "text/html": [
       "<div>\n",
       "<style scoped>\n",
       "    .dataframe tbody tr th:only-of-type {\n",
       "        vertical-align: middle;\n",
       "    }\n",
       "\n",
       "    .dataframe tbody tr th {\n",
       "        vertical-align: top;\n",
       "    }\n",
       "\n",
       "    .dataframe thead th {\n",
       "        text-align: right;\n",
       "    }\n",
       "</style>\n",
       "<table border=\"1\" class=\"dataframe\">\n",
       "  <thead>\n",
       "    <tr style=\"text-align: right;\">\n",
       "      <th></th>\n",
       "      <th>content</th>\n",
       "    </tr>\n",
       "  </thead>\n",
       "  <tbody>\n",
       "    <tr>\n",
       "      <th>0</th>\n",
       "      <td>@tiffanylue i know  i was listenin to bad habi...</td>\n",
       "    </tr>\n",
       "    <tr>\n",
       "      <th>1</th>\n",
       "      <td>layin n bed with a headache  ughhhh...waitin o...</td>\n",
       "    </tr>\n",
       "    <tr>\n",
       "      <th>2</th>\n",
       "      <td>funeral ceremony...gloomy friday...</td>\n",
       "    </tr>\n",
       "    <tr>\n",
       "      <th>3</th>\n",
       "      <td>wants to hang out with friends soon!</td>\n",
       "    </tr>\n",
       "    <tr>\n",
       "      <th>4</th>\n",
       "      <td>@dannycastillo we want to trade with someone w...</td>\n",
       "    </tr>\n",
       "  </tbody>\n",
       "</table>\n",
       "</div>"
      ],
      "text/plain": [
       "                                             content\n",
       "0  @tiffanylue i know  i was listenin to bad habi...\n",
       "1  layin n bed with a headache  ughhhh...waitin o...\n",
       "2                funeral ceremony...gloomy friday...\n",
       "3               wants to hang out with friends soon!\n",
       "4  @dannycastillo we want to trade with someone w..."
      ]
     },
     "execution_count": 56,
     "metadata": {},
     "output_type": "execute_result"
    }
   ],
   "source": [
    "y = pd.DataFrame(data['sentiment'])\n",
    "X = pd.DataFrame(data['content'])\n",
    "X.head()"
   ]
  },
  {
   "cell_type": "code",
   "execution_count": 57,
   "metadata": {
    "colab": {
     "base_uri": "https://localhost:8080/",
     "height": 206
    },
    "id": "yzeagP_w8H-V",
    "outputId": "9a5bf2d3-f85c-4aef-f5e2-f14891ea9df2"
   },
   "outputs": [
    {
     "data": {
      "text/html": [
       "<div>\n",
       "<style scoped>\n",
       "    .dataframe tbody tr th:only-of-type {\n",
       "        vertical-align: middle;\n",
       "    }\n",
       "\n",
       "    .dataframe tbody tr th {\n",
       "        vertical-align: top;\n",
       "    }\n",
       "\n",
       "    .dataframe thead th {\n",
       "        text-align: right;\n",
       "    }\n",
       "</style>\n",
       "<table border=\"1\" class=\"dataframe\">\n",
       "  <thead>\n",
       "    <tr style=\"text-align: right;\">\n",
       "      <th></th>\n",
       "      <th>sentiment</th>\n",
       "    </tr>\n",
       "  </thead>\n",
       "  <tbody>\n",
       "    <tr>\n",
       "      <th>0</th>\n",
       "      <td>empty</td>\n",
       "    </tr>\n",
       "    <tr>\n",
       "      <th>1</th>\n",
       "      <td>sadness</td>\n",
       "    </tr>\n",
       "    <tr>\n",
       "      <th>2</th>\n",
       "      <td>sadness</td>\n",
       "    </tr>\n",
       "    <tr>\n",
       "      <th>3</th>\n",
       "      <td>enthusiasm</td>\n",
       "    </tr>\n",
       "    <tr>\n",
       "      <th>4</th>\n",
       "      <td>neutral</td>\n",
       "    </tr>\n",
       "  </tbody>\n",
       "</table>\n",
       "</div>"
      ],
      "text/plain": [
       "    sentiment\n",
       "0       empty\n",
       "1     sadness\n",
       "2     sadness\n",
       "3  enthusiasm\n",
       "4     neutral"
      ]
     },
     "execution_count": 57,
     "metadata": {},
     "output_type": "execute_result"
    }
   ],
   "source": [
    "y.head()    # целевая переменная"
   ]
  },
  {
   "cell_type": "markdown",
   "metadata": {
    "id": "W6ysMbw_8jHm"
   },
   "source": [
    "В итоге получается $1$ фактор $X$, оказывающий влияние на целевую переменную $y$"
   ]
  },
  {
   "cell_type": "code",
   "execution_count": 58,
   "metadata": {
    "colab": {
     "base_uri": "https://localhost:8080/"
    },
    "id": "49lTyzkO8H-W",
    "outputId": "319378fa-67d6-4914-8a4e-c0533509b84b"
   },
   "outputs": [
    {
     "data": {
      "text/plain": [
       "array(['empty', 'sadness', 'enthusiasm', 'neutral', 'worry', 'surprise',\n",
       "       'love', 'fun', 'hate', 'happiness', 'boredom', 'relief', 'anger'],\n",
       "      dtype=object)"
      ]
     },
     "execution_count": 58,
     "metadata": {},
     "output_type": "execute_result"
    }
   ],
   "source": [
    "y['sentiment'].unique()    # все классы эмоций"
   ]
  },
  {
   "cell_type": "code",
   "execution_count": 59,
   "metadata": {
    "colab": {
     "base_uri": "https://localhost:8080/"
    },
    "id": "8hvu3V1y8H-X",
    "outputId": "b288c055-17fe-42f2-dd8f-ea2a6fecf3d3"
   },
   "outputs": [
    {
     "data": {
      "text/plain": [
       "13"
      ]
     },
     "execution_count": 59,
     "metadata": {},
     "output_type": "execute_result"
    }
   ],
   "source": [
    "len(y['sentiment'].unique())\n",
    "# классификация на 13 классов эмоций"
   ]
  },
  {
   "cell_type": "markdown",
   "metadata": {
    "id": "NfXXt3CPzEW-"
   },
   "source": [
    "# Обработка естественного языка"
   ]
  },
  {
   "cell_type": "markdown",
   "metadata": {
    "id": "R7C7dVy7zPEC"
   },
   "source": [
    "> Для получения более качественных моделей и получения более точных результатов необходимо обработать текстовые данные."
   ]
  },
  {
   "cell_type": "markdown",
   "metadata": {
    "id": "-g4TRaDxb8Ll"
   },
   "source": [
    "Для этого:\n",
    "* Удалим стоп-слова из датасета;\n",
    "* Избавимся от чисел, знаков препинания и всех ненужных (незначимых) символов\n",
    "* Разобьем текст на токены (токенизация);\n",
    "* Проведем лемматизацию, получив нормальную (начальную) форму слова;\n",
    "* Построим облако слов;"
   ]
  },
  {
   "cell_type": "markdown",
   "metadata": {
    "id": "kVOmQE0yU_FF"
   },
   "source": [
    "##Удаление стоп-слов\n",
    "\n",
    "\n",
    "\n"
   ]
  },
  {
   "cell_type": "markdown",
   "metadata": {
    "id": "Pbdx9FhLJZv5"
   },
   "source": [
    "> Для начала почистим датасет от стоп-слов, которые в естественном языке не несут смысловой нагрузки и не влияют на классификацию машинного обучения. Стоп-слова игнорируются, чтобы выдать более точные результаты."
   ]
  },
  {
   "cell_type": "code",
   "execution_count": 60,
   "metadata": {
    "colab": {
     "base_uri": "https://localhost:8080/",
     "height": 206
    },
    "id": "WkvGt4qfP5Rv",
    "outputId": "580a0f9c-562c-4106-c8df-0f4cf021cb35"
   },
   "outputs": [
    {
     "data": {
      "text/html": [
       "<div>\n",
       "<style scoped>\n",
       "    .dataframe tbody tr th:only-of-type {\n",
       "        vertical-align: middle;\n",
       "    }\n",
       "\n",
       "    .dataframe tbody tr th {\n",
       "        vertical-align: top;\n",
       "    }\n",
       "\n",
       "    .dataframe thead th {\n",
       "        text-align: right;\n",
       "    }\n",
       "</style>\n",
       "<table border=\"1\" class=\"dataframe\">\n",
       "  <thead>\n",
       "    <tr style=\"text-align: right;\">\n",
       "      <th></th>\n",
       "      <th>content</th>\n",
       "    </tr>\n",
       "  </thead>\n",
       "  <tbody>\n",
       "    <tr>\n",
       "      <th>0</th>\n",
       "      <td>@tiffanylue i know  i was listenin to bad habi...</td>\n",
       "    </tr>\n",
       "    <tr>\n",
       "      <th>1</th>\n",
       "      <td>layin n bed with a headache  ughhhh...waitin o...</td>\n",
       "    </tr>\n",
       "    <tr>\n",
       "      <th>2</th>\n",
       "      <td>funeral ceremony...gloomy friday...</td>\n",
       "    </tr>\n",
       "    <tr>\n",
       "      <th>3</th>\n",
       "      <td>wants to hang out with friends soon!</td>\n",
       "    </tr>\n",
       "    <tr>\n",
       "      <th>4</th>\n",
       "      <td>@dannycastillo we want to trade with someone w...</td>\n",
       "    </tr>\n",
       "  </tbody>\n",
       "</table>\n",
       "</div>"
      ],
      "text/plain": [
       "                                             content\n",
       "0  @tiffanylue i know  i was listenin to bad habi...\n",
       "1  layin n bed with a headache  ughhhh...waitin o...\n",
       "2                funeral ceremony...gloomy friday...\n",
       "3               wants to hang out with friends soon!\n",
       "4  @dannycastillo we want to trade with someone w..."
      ]
     },
     "execution_count": 60,
     "metadata": {},
     "output_type": "execute_result"
    }
   ],
   "source": [
    "X.head()   # для наглядного сравнения"
   ]
  },
  {
   "cell_type": "code",
   "execution_count": 61,
   "metadata": {
    "colab": {
     "base_uri": "https://localhost:8080/",
     "height": 206
    },
    "id": "AywQE7iOPhZc",
    "outputId": "2eaedfdb-acfd-4034-e6d5-fc41c3f88b18"
   },
   "outputs": [
    {
     "data": {
      "text/html": [
       "<div>\n",
       "<style scoped>\n",
       "    .dataframe tbody tr th:only-of-type {\n",
       "        vertical-align: middle;\n",
       "    }\n",
       "\n",
       "    .dataframe tbody tr th {\n",
       "        vertical-align: top;\n",
       "    }\n",
       "\n",
       "    .dataframe thead th {\n",
       "        text-align: right;\n",
       "    }\n",
       "</style>\n",
       "<table border=\"1\" class=\"dataframe\">\n",
       "  <thead>\n",
       "    <tr style=\"text-align: right;\">\n",
       "      <th></th>\n",
       "      <th>content</th>\n",
       "    </tr>\n",
       "  </thead>\n",
       "  <tbody>\n",
       "    <tr>\n",
       "      <th>0</th>\n",
       "      <td>@tiffanylue know listenin bad habit earlier st...</td>\n",
       "    </tr>\n",
       "    <tr>\n",
       "      <th>1</th>\n",
       "      <td>layin n bed headache ughhhh...waitin call...</td>\n",
       "    </tr>\n",
       "    <tr>\n",
       "      <th>2</th>\n",
       "      <td>funeral ceremony...gloomy friday...</td>\n",
       "    </tr>\n",
       "    <tr>\n",
       "      <th>3</th>\n",
       "      <td>wants hang friends soon!</td>\n",
       "    </tr>\n",
       "    <tr>\n",
       "      <th>4</th>\n",
       "      <td>@dannycastillo want trade houston tickets, will.</td>\n",
       "    </tr>\n",
       "  </tbody>\n",
       "</table>\n",
       "</div>"
      ],
      "text/plain": [
       "                                             content\n",
       "0  @tiffanylue know listenin bad habit earlier st...\n",
       "1       layin n bed headache ughhhh...waitin call...\n",
       "2                funeral ceremony...gloomy friday...\n",
       "3                           wants hang friends soon!\n",
       "4   @dannycastillo want trade houston tickets, will."
      ]
     },
     "execution_count": 61,
     "metadata": {},
     "output_type": "execute_result"
    }
   ],
   "source": [
    "X = pd.DataFrame(X['content'].apply(lambda x: remove_stopwords(x))); X.head()   # удаление стоп-слов"
   ]
  },
  {
   "cell_type": "markdown",
   "metadata": {
    "id": "7XXtZK-iQCcj"
   },
   "source": [
    "Видно, что из датасета удалились стоп-слова, такие как \"$i\",\"to\",\"we\", \"was\",\"with\"$ и тд. Это упростит процесс обучения и классификации модели"
   ]
  },
  {
   "cell_type": "markdown",
   "metadata": {
    "id": "gQiozty5eUXa"
   },
   "source": [
    "## Очистка от неалфавитных символов"
   ]
  },
  {
   "cell_type": "markdown",
   "metadata": {
    "id": "4-WoM9a6UPzs"
   },
   "source": [
    "Twitter использует разметку твитов с помощью “www”, “#” и “@”. Для более правильной классификации эмоций, необходимо предварительно обработать текст, чтобы нормализовать язык. "
   ]
  },
  {
   "cell_type": "markdown",
   "metadata": {
    "id": "QkQav1gt2vVD"
   },
   "source": [
    "Большинство твиттов -- это ответы на твитты других пользователей, поэтому они начинаются с ```@```, после чего следует имя пользователя, которому идет ответ"
   ]
  },
  {
   "cell_type": "code",
   "execution_count": 62,
   "metadata": {
    "colab": {
     "base_uri": "https://localhost:8080/"
    },
    "id": "TQRuo7JIcI4o",
    "outputId": "30f87796-c497-4098-a65b-80e3acf0fc51"
   },
   "outputs": [
    {
     "data": {
      "text/plain": [
       "18144"
      ]
     },
     "execution_count": 62,
     "metadata": {},
     "output_type": "execute_result"
    }
   ],
   "source": [
    "X['content'].str.startswith('@').sum()    # теги пользователей"
   ]
  },
  {
   "cell_type": "code",
   "execution_count": 63,
   "metadata": {
    "colab": {
     "base_uri": "https://localhost:8080/"
    },
    "id": "0wRKhIbY9JPN",
    "outputId": "8b9613d8-d448-4682-9075-c2aafdb145b5"
   },
   "outputs": [
    {
     "data": {
      "text/plain": [
       "107"
      ]
     },
     "execution_count": 63,
     "metadata": {},
     "output_type": "execute_result"
    }
   ],
   "source": [
    "X['content'].str.startswith('#').sum()    # хештеги"
   ]
  },
  {
   "cell_type": "code",
   "execution_count": 64,
   "metadata": {
    "colab": {
     "base_uri": "https://localhost:8080/"
    },
    "id": "ZvrVQdB64xfE",
    "outputId": "dcae23c6-09ec-404b-e3cb-3d65173f8ee0"
   },
   "outputs": [
    {
     "data": {
      "text/plain": [
       "3"
      ]
     },
     "execution_count": 64,
     "metadata": {},
     "output_type": "execute_result"
    }
   ],
   "source": [
    "X['content'].str.startswith('www').sum()   # ссылки на сайт"
   ]
  },
  {
   "cell_type": "code",
   "execution_count": 65,
   "metadata": {
    "colab": {
     "base_uri": "https://localhost:8080/"
    },
    "id": "yPWC93YLn9UK",
    "outputId": "9c9966ef-fce5-4d2c-9763-9eec7d39f393"
   },
   "outputs": [
    {
     "data": {
      "text/plain": [
       "0"
      ]
     },
     "execution_count": 65,
     "metadata": {},
     "output_type": "execute_result"
    }
   ],
   "source": [
    "X['content'].str.startswith('https').sum()   # ссылки на сайт"
   ]
  },
  {
   "cell_type": "markdown",
   "metadata": {
    "id": "iIQ3WZ763ZkF"
   },
   "source": [
    "* $18144$ твиттов начинаются с символа @, что означает ответ другому пользователю\\\n",
    "После символа @ следует имя пользователя. Для нас оно не важно для классификации и является лишней информацией в текстовом сообщении, поэтому все никнеймы можно удалить\n",
    "\n",
    "* $107$ твиттов начинаются с символа ```#```, после чего идет определенный тег\n",
    "* $3$ твитта начинаются с ```www```, то есть идет ссылка на сайт. Сайт также не представляет эмоцию"
   ]
  },
  {
   "cell_type": "code",
   "execution_count": 66,
   "metadata": {
    "colab": {
     "base_uri": "https://localhost:8080/",
     "height": 206
    },
    "id": "oLLjFvzvlZsm",
    "outputId": "0845218c-603a-4802-ec10-0c30d2a96ee0"
   },
   "outputs": [
    {
     "data": {
      "text/html": [
       "<div>\n",
       "<style scoped>\n",
       "    .dataframe tbody tr th:only-of-type {\n",
       "        vertical-align: middle;\n",
       "    }\n",
       "\n",
       "    .dataframe tbody tr th {\n",
       "        vertical-align: top;\n",
       "    }\n",
       "\n",
       "    .dataframe thead th {\n",
       "        text-align: right;\n",
       "    }\n",
       "</style>\n",
       "<table border=\"1\" class=\"dataframe\">\n",
       "  <thead>\n",
       "    <tr style=\"text-align: right;\">\n",
       "      <th></th>\n",
       "      <th>content</th>\n",
       "    </tr>\n",
       "  </thead>\n",
       "  <tbody>\n",
       "    <tr>\n",
       "      <th>0</th>\n",
       "      <td>@tiffanylue know listenin bad habit earlier st...</td>\n",
       "    </tr>\n",
       "    <tr>\n",
       "      <th>1</th>\n",
       "      <td>layin n bed headache ughhhh...waitin call...</td>\n",
       "    </tr>\n",
       "    <tr>\n",
       "      <th>2</th>\n",
       "      <td>funeral ceremony...gloomy friday...</td>\n",
       "    </tr>\n",
       "    <tr>\n",
       "      <th>3</th>\n",
       "      <td>wants hang friends soon!</td>\n",
       "    </tr>\n",
       "    <tr>\n",
       "      <th>4</th>\n",
       "      <td>@dannycastillo want trade houston tickets, will.</td>\n",
       "    </tr>\n",
       "  </tbody>\n",
       "</table>\n",
       "</div>"
      ],
      "text/plain": [
       "                                             content\n",
       "0  @tiffanylue know listenin bad habit earlier st...\n",
       "1       layin n bed headache ughhhh...waitin call...\n",
       "2                funeral ceremony...gloomy friday...\n",
       "3                           wants hang friends soon!\n",
       "4   @dannycastillo want trade houston tickets, will."
      ]
     },
     "execution_count": 66,
     "metadata": {},
     "output_type": "execute_result"
    }
   ],
   "source": [
    "X.head()   # для наглядного сравнения"
   ]
  },
  {
   "cell_type": "code",
   "execution_count": 67,
   "metadata": {
    "colab": {
     "base_uri": "https://localhost:8080/",
     "height": 206
    },
    "id": "AlCWigpslvIE",
    "outputId": "9e3b4466-5ce2-487e-b5d6-edcb26e1b6a8"
   },
   "outputs": [
    {
     "data": {
      "text/html": [
       "<div>\n",
       "<style scoped>\n",
       "    .dataframe tbody tr th:only-of-type {\n",
       "        vertical-align: middle;\n",
       "    }\n",
       "\n",
       "    .dataframe tbody tr th {\n",
       "        vertical-align: top;\n",
       "    }\n",
       "\n",
       "    .dataframe thead th {\n",
       "        text-align: right;\n",
       "    }\n",
       "</style>\n",
       "<table border=\"1\" class=\"dataframe\">\n",
       "  <thead>\n",
       "    <tr style=\"text-align: right;\">\n",
       "      <th></th>\n",
       "      <th>content</th>\n",
       "    </tr>\n",
       "  </thead>\n",
       "  <tbody>\n",
       "    <tr>\n",
       "      <th>0</th>\n",
       "      <td>know listenin bad habit earlier started freak...</td>\n",
       "    </tr>\n",
       "    <tr>\n",
       "      <th>1</th>\n",
       "      <td>layin n bed headache ughhhh...waitin call...</td>\n",
       "    </tr>\n",
       "    <tr>\n",
       "      <th>2</th>\n",
       "      <td>funeral ceremony...gloomy friday...</td>\n",
       "    </tr>\n",
       "    <tr>\n",
       "      <th>3</th>\n",
       "      <td>wants hang friends soon!</td>\n",
       "    </tr>\n",
       "    <tr>\n",
       "      <th>4</th>\n",
       "      <td>want trade houston tickets, will.</td>\n",
       "    </tr>\n",
       "  </tbody>\n",
       "</table>\n",
       "</div>"
      ],
      "text/plain": [
       "                                             content\n",
       "0   know listenin bad habit earlier started freak...\n",
       "1       layin n bed headache ughhhh...waitin call...\n",
       "2                funeral ceremony...gloomy friday...\n",
       "3                           wants hang friends soon!\n",
       "4                  want trade houston tickets, will."
      ]
     },
     "execution_count": 67,
     "metadata": {},
     "output_type": "execute_result"
    }
   ],
   "source": [
    "# Функция re.sub позволяет заменить все, что подходит под шаблон на указанную строку.\n",
    "\n",
    "\n",
    "X = pd.DataFrame(X['content'].apply(lambda x: re.sub(r\"@\\w+\\s?\",\" \",x))); X.head() \n",
    "# удаляет все слова, начинающиеся на @\n",
    "# \\w — заменяет любую цифру, букву, а также _\n",
    "# \\s — соответствует любому пробельному символу;\n",
    "# \"?\" означает, что после слова может следовать необязательный пробел"
   ]
  },
  {
   "cell_type": "code",
   "execution_count": 68,
   "metadata": {
    "id": "wF3bjxhVplMJ"
   },
   "outputs": [],
   "source": [
    "X = pd.DataFrame(X['content'].apply(lambda x: re.sub(r\"@\\s+\\w?\",\" \",x)))\n",
    "# сначала идет @, после нее пробел, а потом тег (@ name)"
   ]
  },
  {
   "cell_type": "markdown",
   "metadata": {
    "id": "U7Gjhn9CmpgE"
   },
   "source": [
    "Данный код позволяет удалить из текста все упоминания пользователей в социальных сетях, которые начинаются с символа \"@\"."
   ]
  },
  {
   "cell_type": "markdown",
   "metadata": {
    "id": "o0XXE7Ngtsug"
   },
   "source": [
    "Удаляем все сообщение, начинающиеся с хэштегов"
   ]
  },
  {
   "cell_type": "code",
   "execution_count": 69,
   "metadata": {
    "id": "iGACysGlnuMi"
   },
   "outputs": [],
   "source": [
    "X = pd.DataFrame(X['content'].apply(lambda x: re.sub(r\"#\\w+\\s?\",\" \",x)))   # без пробельного символа: #tag\n",
    "X = pd.DataFrame(X['content'].apply(lambda x: re.sub(r\"#\\s+\\w?\",\" \",x)))   # пробельный символ после хэштега: # tag"
   ]
  },
  {
   "cell_type": "markdown",
   "metadata": {
    "id": "ZOOz_TYqtSLZ"
   },
   "source": [
    "Удаляем все неалфавитные символы"
   ]
  },
  {
   "cell_type": "code",
   "execution_count": 70,
   "metadata": {
    "id": "gLTYcP4qsp9t"
   },
   "outputs": [],
   "source": [
    "X = pd.DataFrame(X['content'].apply(lambda x: re.sub(r\"[^a-z\\s\\(\\-:\\)\\\\\\/\\];='#]\",\" \",x)))\n",
    "# ^ - любой символ кроме перечисленных(то есть не буква алфавита)\n",
    "# \\s - любой пробельный символ\n",
    "# удаляет любой символ из (\\-:\\)\\\\\\/\\];='#]"
   ]
  },
  {
   "cell_type": "markdown",
   "metadata": {
    "id": "dB4d0IZptNpd"
   },
   "source": [
    "Удаляем все сообщения, содержашие ссылку на сайт"
   ]
  },
  {
   "cell_type": "code",
   "execution_count": 71,
   "metadata": {
    "id": "yAoX-2ZgmPbG"
   },
   "outputs": [],
   "source": [
    "X = pd.DataFrame(X['content'].apply(lambda x: re.sub('www.\\w+\\s',\" \",x)))\n",
    "X = pd.DataFrame(X['content'].apply(lambda x: re.sub('www.\\s+\\w',\" \",x)))\n",
    "# re.sub(r'www\\.[a-z]?\\.?(com)+|[a-z]+\\.(com)', '', clean_text)"
   ]
  },
  {
   "cell_type": "markdown",
   "metadata": {
    "id": "ZXihjVvhtX9U"
   },
   "source": [
    "Убедимся в корректности удаления данных"
   ]
  },
  {
   "cell_type": "code",
   "execution_count": 72,
   "metadata": {
    "colab": {
     "base_uri": "https://localhost:8080/"
    },
    "id": "5cPsfjjHnli9",
    "outputId": "2c6e6839-8958-4cd8-9e5c-ca76bb99ea9a"
   },
   "outputs": [
    {
     "data": {
      "text/plain": [
       "(0, 0, 0)"
      ]
     },
     "execution_count": 72,
     "metadata": {},
     "output_type": "execute_result"
    }
   ],
   "source": [
    "X['content'].str.startswith('@').sum(), X['content'].str.startswith('#').sum(), X['content'].str.startswith('www').sum()"
   ]
  },
  {
   "cell_type": "markdown",
   "metadata": {
    "id": "Wz035oqpsvd4"
   },
   "source": [
    "Теперь датасет не содержит тегов пользователей, хэштегов и ссылок на сайт"
   ]
  },
  {
   "cell_type": "markdown",
   "metadata": {
    "id": "oYFrCI8Gdc3C"
   },
   "source": [
    "## Токенизация текста"
   ]
  },
  {
   "cell_type": "markdown",
   "metadata": {
    "id": "aL_0pC5meMnu"
   },
   "source": [
    "> Для того, чтобы осуществить лемматизацию предварительно проведем токенизацию текста -- разбиение на более мелкие фрагменты (слова)"
   ]
  },
  {
   "cell_type": "code",
   "execution_count": 73,
   "metadata": {
    "colab": {
     "base_uri": "https://localhost:8080/",
     "height": 241
    },
    "id": "lm1vtzuPdpDT",
    "outputId": "6edb06ac-9a4b-4153-f47b-7f49a83046da"
   },
   "outputs": [
    {
     "name": "stderr",
     "output_type": "stream",
     "text": [
      "[nltk_data] Downloading package punkt to\n",
      "[nltk_data]     C:\\Users\\Admin\\AppData\\Roaming\\nltk_data...\n",
      "[nltk_data]   Unzipping tokenizers\\punkt.zip.\n"
     ]
    },
    {
     "data": {
      "text/html": [
       "<div>\n",
       "<style scoped>\n",
       "    .dataframe tbody tr th:only-of-type {\n",
       "        vertical-align: middle;\n",
       "    }\n",
       "\n",
       "    .dataframe tbody tr th {\n",
       "        vertical-align: top;\n",
       "    }\n",
       "\n",
       "    .dataframe thead th {\n",
       "        text-align: right;\n",
       "    }\n",
       "</style>\n",
       "<table border=\"1\" class=\"dataframe\">\n",
       "  <thead>\n",
       "    <tr style=\"text-align: right;\">\n",
       "      <th></th>\n",
       "      <th>content</th>\n",
       "    </tr>\n",
       "  </thead>\n",
       "  <tbody>\n",
       "    <tr>\n",
       "      <th>0</th>\n",
       "      <td>[know, listenin, bad, habit, earlier, started,...</td>\n",
       "    </tr>\n",
       "    <tr>\n",
       "      <th>1</th>\n",
       "      <td>[layin, n, bed, headache, ughhhh, waitin, call]</td>\n",
       "    </tr>\n",
       "    <tr>\n",
       "      <th>2</th>\n",
       "      <td>[funeral, ceremony, gloomy, friday]</td>\n",
       "    </tr>\n",
       "    <tr>\n",
       "      <th>3</th>\n",
       "      <td>[wants, hang, friends, soon]</td>\n",
       "    </tr>\n",
       "    <tr>\n",
       "      <th>4</th>\n",
       "      <td>[want, trade, houston, tickets, will]</td>\n",
       "    </tr>\n",
       "  </tbody>\n",
       "</table>\n",
       "</div>"
      ],
      "text/plain": [
       "                                             content\n",
       "0  [know, listenin, bad, habit, earlier, started,...\n",
       "1    [layin, n, bed, headache, ughhhh, waitin, call]\n",
       "2                [funeral, ceremony, gloomy, friday]\n",
       "3                       [wants, hang, friends, soon]\n",
       "4              [want, trade, houston, tickets, will]"
      ]
     },
     "execution_count": 73,
     "metadata": {},
     "output_type": "execute_result"
    }
   ],
   "source": [
    "nltk.download('punkt')\n",
    "\n",
    "X = pd.DataFrame(X['content'].apply(lambda x: word_tokenize(x))); X.head()   # разбивает текст на отдельные слова по пробелам в список"
   ]
  },
  {
   "cell_type": "markdown",
   "metadata": {
    "id": "d7NkYqstQhIM"
   },
   "source": [
    "## **Лемматизация текста**"
   ]
  },
  {
   "cell_type": "markdown",
   "metadata": {
    "id": "SwkWPZwGY2SJ"
   },
   "source": [
    "> Лемматизация является процессом приведения слова к его основной форме. Это позволяет упростить обработку естественного языка и улучшить качество анализа текстов."
   ]
  },
  {
   "cell_type": "code",
   "execution_count": 75,
   "metadata": {
    "colab": {
     "base_uri": "https://localhost:8080/",
     "height": 241
    },
    "id": "2YTY_W7-QRHM",
    "outputId": "eaadb1b5-651f-4ed5-b6e8-92c15c3e574b"
   },
   "outputs": [
    {
     "name": "stderr",
     "output_type": "stream",
     "text": [
      "[nltk_data] Downloading package wordnet to\n",
      "[nltk_data]     C:\\Users\\Admin\\AppData\\Roaming\\nltk_data...\n",
      "[nltk_data]   Package wordnet is already up-to-date!\n"
     ]
    },
    {
     "data": {
      "text/html": [
       "<div>\n",
       "<style scoped>\n",
       "    .dataframe tbody tr th:only-of-type {\n",
       "        vertical-align: middle;\n",
       "    }\n",
       "\n",
       "    .dataframe tbody tr th {\n",
       "        vertical-align: top;\n",
       "    }\n",
       "\n",
       "    .dataframe thead th {\n",
       "        text-align: right;\n",
       "    }\n",
       "</style>\n",
       "<table border=\"1\" class=\"dataframe\">\n",
       "  <thead>\n",
       "    <tr style=\"text-align: right;\">\n",
       "      <th></th>\n",
       "      <th>content</th>\n",
       "    </tr>\n",
       "  </thead>\n",
       "  <tbody>\n",
       "    <tr>\n",
       "      <th>0</th>\n",
       "      <td>k n o w   l i s t e n i n   b a d   h a b i t ...</td>\n",
       "    </tr>\n",
       "    <tr>\n",
       "      <th>1</th>\n",
       "      <td>l a y i n   n   b e d   h e a d a c h e   u g ...</td>\n",
       "    </tr>\n",
       "    <tr>\n",
       "      <th>2</th>\n",
       "      <td>f u n e r a l   c e r e m o n y   g l o o m y ...</td>\n",
       "    </tr>\n",
       "    <tr>\n",
       "      <th>3</th>\n",
       "      <td>w a n t   h a n g   f r i e n d   s o o n</td>\n",
       "    </tr>\n",
       "    <tr>\n",
       "      <th>4</th>\n",
       "      <td>w a n t   t r a d e   h o u s t o n   t i c k ...</td>\n",
       "    </tr>\n",
       "  </tbody>\n",
       "</table>\n",
       "</div>"
      ],
      "text/plain": [
       "                                             content\n",
       "0  k n o w   l i s t e n i n   b a d   h a b i t ...\n",
       "1  l a y i n   n   b e d   h e a d a c h e   u g ...\n",
       "2  f u n e r a l   c e r e m o n y   g l o o m y ...\n",
       "3          w a n t   h a n g   f r i e n d   s o o n\n",
       "4  w a n t   t r a d e   h o u s t o n   t i c k ..."
      ]
     },
     "execution_count": 75,
     "metadata": {},
     "output_type": "execute_result"
    }
   ],
   "source": [
    "nltk.download('wordnet')\n",
    "\n",
    "lemmatizer = WordNetLemmatizer()   # объект класса\n",
    "X = pd.DataFrame(X['content'].apply(lambda x: \" \".join([lemmatizer.lemmatize(i) for i in x]))); X.head()"
   ]
  },
  {
   "cell_type": "markdown",
   "metadata": {
    "id": "B1uB5tElPu9K"
   },
   "source": [
    "Посмотрим как изменилось среднее количество слов в наборе данных"
   ]
  },
  {
   "cell_type": "code",
   "execution_count": 77,
   "metadata": {
    "colab": {
     "base_uri": "https://localhost:8080/"
    },
    "id": "vo9R8QS8PjR5",
    "outputId": "9669a4d0-2694-4a42-8572-e36351708a4d"
   },
   "outputs": [
    {
     "data": {
      "text/plain": [
       "0        42\n",
       "1        33\n",
       "2        27\n",
       "3        18\n",
       "4        26\n",
       "         ..\n",
       "39995     0\n",
       "39996    18\n",
       "39997    54\n",
       "39998    62\n",
       "39999    73\n",
       "Name: content, Length: 39862, dtype: int64"
      ]
     },
     "execution_count": 77,
     "metadata": {},
     "output_type": "execute_result"
    }
   ],
   "source": [
    "words = X['content'].apply(lambda x: len(x.split())); words   # количество слов в каждой строке поля сontent"
   ]
  },
  {
   "cell_type": "code",
   "execution_count": 78,
   "metadata": {
    "colab": {
     "base_uri": "https://localhost:8080/",
     "height": 206
    },
    "id": "-fsn2PeJPV82",
    "outputId": "6997f4f2-83a3-4fdb-daea-e16281ca8ad8"
   },
   "outputs": [
    {
     "data": {
      "text/html": [
       "<div>\n",
       "<style scoped>\n",
       "    .dataframe tbody tr th:only-of-type {\n",
       "        vertical-align: middle;\n",
       "    }\n",
       "\n",
       "    .dataframe tbody tr th {\n",
       "        vertical-align: top;\n",
       "    }\n",
       "\n",
       "    .dataframe thead th {\n",
       "        text-align: right;\n",
       "    }\n",
       "</style>\n",
       "<table border=\"1\" class=\"dataframe\">\n",
       "  <thead>\n",
       "    <tr style=\"text-align: right;\">\n",
       "      <th></th>\n",
       "      <th>content</th>\n",
       "    </tr>\n",
       "  </thead>\n",
       "  <tbody>\n",
       "    <tr>\n",
       "      <th>0</th>\n",
       "      <td>42</td>\n",
       "    </tr>\n",
       "    <tr>\n",
       "      <th>1</th>\n",
       "      <td>33</td>\n",
       "    </tr>\n",
       "    <tr>\n",
       "      <th>2</th>\n",
       "      <td>27</td>\n",
       "    </tr>\n",
       "    <tr>\n",
       "      <th>3</th>\n",
       "      <td>18</td>\n",
       "    </tr>\n",
       "    <tr>\n",
       "      <th>4</th>\n",
       "      <td>26</td>\n",
       "    </tr>\n",
       "  </tbody>\n",
       "</table>\n",
       "</div>"
      ],
      "text/plain": [
       "   content\n",
       "0       42\n",
       "1       33\n",
       "2       27\n",
       "3       18\n",
       "4       26"
      ]
     },
     "execution_count": 78,
     "metadata": {},
     "output_type": "execute_result"
    }
   ],
   "source": [
    "X_word = X.copy()\n",
    "X_word['content'] = words\n",
    "X_word.head()   # новый датасет, у которого текст заменен на количество слов в тексте"
   ]
  },
  {
   "cell_type": "code",
   "execution_count": 79,
   "metadata": {
    "colab": {
     "base_uri": "https://localhost:8080/",
     "height": 81
    },
    "id": "L7u7Nvc3PV83",
    "outputId": "b2e1bffe-1775-417e-80c4-9a7a47020743"
   },
   "outputs": [
    {
     "data": {
      "text/html": [
       "<div>\n",
       "<style scoped>\n",
       "    .dataframe tbody tr th:only-of-type {\n",
       "        vertical-align: middle;\n",
       "    }\n",
       "\n",
       "    .dataframe tbody tr th {\n",
       "        vertical-align: top;\n",
       "    }\n",
       "\n",
       "    .dataframe thead th {\n",
       "        text-align: right;\n",
       "    }\n",
       "</style>\n",
       "<table border=\"1\" class=\"dataframe\">\n",
       "  <thead>\n",
       "    <tr style=\"text-align: right;\">\n",
       "      <th></th>\n",
       "      <th>0</th>\n",
       "    </tr>\n",
       "  </thead>\n",
       "  <tbody>\n",
       "    <tr>\n",
       "      <th>content</th>\n",
       "      <td>35.458607</td>\n",
       "    </tr>\n",
       "  </tbody>\n",
       "</table>\n",
       "</div>"
      ],
      "text/plain": [
       "                 0\n",
       "content  35.458607"
      ]
     },
     "execution_count": 79,
     "metadata": {},
     "output_type": "execute_result"
    }
   ],
   "source": [
    "mean_word = pd.DataFrame(X_word.mean()); mean_word    # среднее значение количества слов в тексте для каждой категории"
   ]
  },
  {
   "cell_type": "markdown",
   "metadata": {
    "id": "Ji6DCW8aQSjD"
   },
   "source": [
    "В среднем текст содержит теперь по 8 слов"
   ]
  },
  {
   "cell_type": "markdown",
   "metadata": {
    "id": "uSHVY2p8vAko"
   },
   "source": [
    "## Облако слов"
   ]
  },
  {
   "cell_type": "markdown",
   "metadata": {
    "id": "Soae6ZGJvJkt"
   },
   "source": [
    ">Визуализация популярности слов в виде облака, которое  показывает самые частовстречающиеся слова текста"
   ]
  },
  {
   "cell_type": "code",
   "execution_count": 94,
   "metadata": {
    "colab": {
     "base_uri": "https://localhost:8080/",
     "height": 324
    },
    "id": "HSn92A5TwQw_",
    "outputId": "19170845-f603-47fe-a51f-dcb5651ed545"
   },
   "outputs": [
    {
     "ename": "AttributeError",
     "evalue": "'TransposedFont' object has no attribute 'getbbox'",
     "output_type": "error",
     "traceback": [
      "\u001b[1;31m---------------------------------------------------------------------------\u001b[0m",
      "\u001b[1;31mAttributeError\u001b[0m                            Traceback (most recent call last)",
      "\u001b[1;32m<ipython-input-94-3950f4fdbaad>\u001b[0m in \u001b[0;36m<module>\u001b[1;34m\u001b[0m\n\u001b[0;32m      1\u001b[0m \u001b[0mtext\u001b[0m \u001b[1;33m=\u001b[0m \u001b[1;34m\"\"\u001b[0m\u001b[1;33m.\u001b[0m\u001b[0mjoin\u001b[0m\u001b[1;33m(\u001b[0m\u001b[0mX\u001b[0m\u001b[1;33m[\u001b[0m\u001b[1;34m'content'\u001b[0m\u001b[1;33m]\u001b[0m\u001b[1;33m)\u001b[0m\u001b[1;33m\u001b[0m\u001b[1;33m\u001b[0m\u001b[0m\n\u001b[0;32m      2\u001b[0m \u001b[1;33m\u001b[0m\u001b[0m\n\u001b[1;32m----> 3\u001b[1;33m \u001b[0mcloud\u001b[0m \u001b[1;33m=\u001b[0m \u001b[0mWordCloud\u001b[0m\u001b[1;33m(\u001b[0m\u001b[1;33m)\u001b[0m\u001b[1;33m.\u001b[0m\u001b[0mgenerate\u001b[0m\u001b[1;33m(\u001b[0m\u001b[0mtext\u001b[0m\u001b[1;33m)\u001b[0m    \u001b[1;31m# генерация облака слов\u001b[0m\u001b[1;33m\u001b[0m\u001b[1;33m\u001b[0m\u001b[0m\n\u001b[0m\u001b[0;32m      4\u001b[0m \u001b[0mplt\u001b[0m\u001b[1;33m.\u001b[0m\u001b[0mimshow\u001b[0m\u001b[1;33m(\u001b[0m\u001b[0mcloud\u001b[0m\u001b[1;33m)\u001b[0m\u001b[1;33m\u001b[0m\u001b[1;33m\u001b[0m\u001b[0m\n\u001b[0;32m      5\u001b[0m \u001b[0mplt\u001b[0m\u001b[1;33m.\u001b[0m\u001b[0maxis\u001b[0m\u001b[1;33m(\u001b[0m\u001b[1;34m'off'\u001b[0m\u001b[1;33m)\u001b[0m   \u001b[1;31m# убирает разметку (шкалу измерения) у осей\u001b[0m\u001b[1;33m\u001b[0m\u001b[1;33m\u001b[0m\u001b[0m\n",
      "\u001b[1;32m~\\anaconda3\\lib\\site-packages\\wordcloud\\wordcloud.py\u001b[0m in \u001b[0;36mgenerate\u001b[1;34m(self, text)\u001b[0m\n\u001b[0;32m    637\u001b[0m         \u001b[0mself\u001b[0m\u001b[1;33m\u001b[0m\u001b[1;33m\u001b[0m\u001b[0m\n\u001b[0;32m    638\u001b[0m         \"\"\"\n\u001b[1;32m--> 639\u001b[1;33m         \u001b[1;32mreturn\u001b[0m \u001b[0mself\u001b[0m\u001b[1;33m.\u001b[0m\u001b[0mgenerate_from_text\u001b[0m\u001b[1;33m(\u001b[0m\u001b[0mtext\u001b[0m\u001b[1;33m)\u001b[0m\u001b[1;33m\u001b[0m\u001b[1;33m\u001b[0m\u001b[0m\n\u001b[0m\u001b[0;32m    640\u001b[0m \u001b[1;33m\u001b[0m\u001b[0m\n\u001b[0;32m    641\u001b[0m     \u001b[1;32mdef\u001b[0m \u001b[0m_check_generated\u001b[0m\u001b[1;33m(\u001b[0m\u001b[0mself\u001b[0m\u001b[1;33m)\u001b[0m\u001b[1;33m:\u001b[0m\u001b[1;33m\u001b[0m\u001b[1;33m\u001b[0m\u001b[0m\n",
      "\u001b[1;32m~\\anaconda3\\lib\\site-packages\\wordcloud\\wordcloud.py\u001b[0m in \u001b[0;36mgenerate_from_text\u001b[1;34m(self, text)\u001b[0m\n\u001b[0;32m    619\u001b[0m         \"\"\"\n\u001b[0;32m    620\u001b[0m         \u001b[0mwords\u001b[0m \u001b[1;33m=\u001b[0m \u001b[0mself\u001b[0m\u001b[1;33m.\u001b[0m\u001b[0mprocess_text\u001b[0m\u001b[1;33m(\u001b[0m\u001b[0mtext\u001b[0m\u001b[1;33m)\u001b[0m\u001b[1;33m\u001b[0m\u001b[1;33m\u001b[0m\u001b[0m\n\u001b[1;32m--> 621\u001b[1;33m         \u001b[0mself\u001b[0m\u001b[1;33m.\u001b[0m\u001b[0mgenerate_from_frequencies\u001b[0m\u001b[1;33m(\u001b[0m\u001b[0mwords\u001b[0m\u001b[1;33m)\u001b[0m\u001b[1;33m\u001b[0m\u001b[1;33m\u001b[0m\u001b[0m\n\u001b[0m\u001b[0;32m    622\u001b[0m         \u001b[1;32mreturn\u001b[0m \u001b[0mself\u001b[0m\u001b[1;33m\u001b[0m\u001b[1;33m\u001b[0m\u001b[0m\n\u001b[0;32m    623\u001b[0m \u001b[1;33m\u001b[0m\u001b[0m\n",
      "\u001b[1;32m~\\anaconda3\\lib\\site-packages\\wordcloud\\wordcloud.py\u001b[0m in \u001b[0;36mgenerate_from_frequencies\u001b[1;34m(self, frequencies, max_font_size)\u001b[0m\n\u001b[0;32m    451\u001b[0m                 \u001b[0mfont_size\u001b[0m \u001b[1;33m=\u001b[0m \u001b[0mself\u001b[0m\u001b[1;33m.\u001b[0m\u001b[0mheight\u001b[0m\u001b[1;33m\u001b[0m\u001b[1;33m\u001b[0m\u001b[0m\n\u001b[0;32m    452\u001b[0m             \u001b[1;32melse\u001b[0m\u001b[1;33m:\u001b[0m\u001b[1;33m\u001b[0m\u001b[1;33m\u001b[0m\u001b[0m\n\u001b[1;32m--> 453\u001b[1;33m                 self.generate_from_frequencies(dict(frequencies[:2]),\n\u001b[0m\u001b[0;32m    454\u001b[0m                                                max_font_size=self.height)\n\u001b[0;32m    455\u001b[0m                 \u001b[1;31m# find font sizes\u001b[0m\u001b[1;33m\u001b[0m\u001b[1;33m\u001b[0m\u001b[1;33m\u001b[0m\u001b[0m\n",
      "\u001b[1;32m~\\anaconda3\\lib\\site-packages\\wordcloud\\wordcloud.py\u001b[0m in \u001b[0;36mgenerate_from_frequencies\u001b[1;34m(self, frequencies, max_font_size)\u001b[0m\n\u001b[0;32m    506\u001b[0m                     font, orientation=orientation)\n\u001b[0;32m    507\u001b[0m                 \u001b[1;31m# get size of resulting text\u001b[0m\u001b[1;33m\u001b[0m\u001b[1;33m\u001b[0m\u001b[1;33m\u001b[0m\u001b[0m\n\u001b[1;32m--> 508\u001b[1;33m                 \u001b[0mbox_size\u001b[0m \u001b[1;33m=\u001b[0m \u001b[0mdraw\u001b[0m\u001b[1;33m.\u001b[0m\u001b[0mtextbbox\u001b[0m\u001b[1;33m(\u001b[0m\u001b[1;33m(\u001b[0m\u001b[1;36m0\u001b[0m\u001b[1;33m,\u001b[0m \u001b[1;36m0\u001b[0m\u001b[1;33m)\u001b[0m\u001b[1;33m,\u001b[0m \u001b[0mword\u001b[0m\u001b[1;33m,\u001b[0m \u001b[0mfont\u001b[0m\u001b[1;33m=\u001b[0m\u001b[0mtransposed_font\u001b[0m\u001b[1;33m,\u001b[0m \u001b[0manchor\u001b[0m\u001b[1;33m=\u001b[0m\u001b[1;34m\"lt\"\u001b[0m\u001b[1;33m)\u001b[0m\u001b[1;33m\u001b[0m\u001b[1;33m\u001b[0m\u001b[0m\n\u001b[0m\u001b[0;32m    509\u001b[0m                 \u001b[1;31m# find possible places using integral image:\u001b[0m\u001b[1;33m\u001b[0m\u001b[1;33m\u001b[0m\u001b[1;33m\u001b[0m\u001b[0m\n\u001b[0;32m    510\u001b[0m                 result = occupancy.sample_position(box_size[3] + self.margin,\n",
      "\u001b[1;32m~\\anaconda3\\lib\\site-packages\\PIL\\ImageDraw.py\u001b[0m in \u001b[0;36mtextbbox\u001b[1;34m(self, xy, text, font, anchor, spacing, align, direction, features, language, stroke_width, embedded_color)\u001b[0m\n\u001b[0;32m    655\u001b[0m             \u001b[0mfont\u001b[0m \u001b[1;33m=\u001b[0m \u001b[0mself\u001b[0m\u001b[1;33m.\u001b[0m\u001b[0mgetfont\u001b[0m\u001b[1;33m(\u001b[0m\u001b[1;33m)\u001b[0m\u001b[1;33m\u001b[0m\u001b[1;33m\u001b[0m\u001b[0m\n\u001b[0;32m    656\u001b[0m         \u001b[0mmode\u001b[0m \u001b[1;33m=\u001b[0m \u001b[1;34m\"RGBA\"\u001b[0m \u001b[1;32mif\u001b[0m \u001b[0membedded_color\u001b[0m \u001b[1;32melse\u001b[0m \u001b[0mself\u001b[0m\u001b[1;33m.\u001b[0m\u001b[0mfontmode\u001b[0m\u001b[1;33m\u001b[0m\u001b[1;33m\u001b[0m\u001b[0m\n\u001b[1;32m--> 657\u001b[1;33m         bbox = font.getbbox(\n\u001b[0m\u001b[0;32m    658\u001b[0m             \u001b[0mtext\u001b[0m\u001b[1;33m,\u001b[0m \u001b[0mmode\u001b[0m\u001b[1;33m,\u001b[0m \u001b[0mdirection\u001b[0m\u001b[1;33m,\u001b[0m \u001b[0mfeatures\u001b[0m\u001b[1;33m,\u001b[0m \u001b[0mlanguage\u001b[0m\u001b[1;33m,\u001b[0m \u001b[0mstroke_width\u001b[0m\u001b[1;33m,\u001b[0m \u001b[0manchor\u001b[0m\u001b[1;33m\u001b[0m\u001b[1;33m\u001b[0m\u001b[0m\n\u001b[0;32m    659\u001b[0m         )\n",
      "\u001b[1;31mAttributeError\u001b[0m: 'TransposedFont' object has no attribute 'getbbox'"
     ]
    }
   ],
   "source": [
    "text = \"\".join(X['content'])\n",
    " \n",
    "cloud = WordCloud().generate(text)    # генерация облака слов\n",
    "plt.imshow(cloud)\n",
    "plt.axis('off')   # убирает разметку (шкалу измерения) у осей\n",
    "plt.title('Облако слов')"
   ]
  },
  {
   "cell_type": "markdown",
   "metadata": {
    "id": "t855CxUoTeiN"
   },
   "source": [
    "# Преобразование текстовых данных в числовые. Векторизация текста"
   ]
  },
  {
   "cell_type": "markdown",
   "metadata": {
    "id": "MTsRFnxnTvwd"
   },
   "source": [
    " Алгоритмы машинного обучения не умеют работать с текстом, поэтому для дальнейшей классификации необходимо представить текстовые данные числами. Для этого потребуется преобразовать столбцы ```content``` и ```sentiment```"
   ]
  },
  {
   "cell_type": "markdown",
   "metadata": {
    "id": "MweOGRhv0Krk"
   },
   "source": [
    "## Разделение данных на тестовую и обучающую выборки"
   ]
  },
  {
   "cell_type": "markdown",
   "metadata": {
    "id": "Ig_2xVzk1IRL"
   },
   "source": [
    ">Предварительно разделим набор данных на тестовую и обучащиеся выборки для того, чтобы в будущем при обучении моделей более точно оценить качество модели и снизить риск пере- или недо обучения модели.\\\n",
    "Из выборки данных отделим часть данных на обучение, оставшаяся часть данных будет использоваться для оценки качества "
   ]
  },
  {
   "cell_type": "code",
   "execution_count": 82,
   "metadata": {
    "colab": {
     "base_uri": "https://localhost:8080/"
    },
    "id": "Ie1fhtRWFFF4",
    "outputId": "776cf30c-98db-4af2-c1ba-37ce8addf632"
   },
   "outputs": [
    {
     "ename": "IndexError",
     "evalue": "only integers, slices (`:`), ellipsis (`...`), numpy.newaxis (`None`) and integer or boolean arrays are valid indices",
     "output_type": "error",
     "traceback": [
      "\u001b[1;31m---------------------------------------------------------------------------\u001b[0m",
      "\u001b[1;31mIndexError\u001b[0m                                Traceback (most recent call last)",
      "\u001b[1;32m<ipython-input-82-f336d77f51ba>\u001b[0m in \u001b[0;36m<module>\u001b[1;34m\u001b[0m\n\u001b[0;32m      1\u001b[0m \u001b[0mx\u001b[0m \u001b[1;33m=\u001b[0m \u001b[0mX\u001b[0m\u001b[1;33m[\u001b[0m\u001b[1;34m'content'\u001b[0m\u001b[1;33m]\u001b[0m\u001b[1;33m.\u001b[0m\u001b[0mvalues\u001b[0m\u001b[1;33m\u001b[0m\u001b[1;33m\u001b[0m\u001b[0m\n\u001b[1;32m----> 2\u001b[1;33m \u001b[0my\u001b[0m \u001b[1;33m=\u001b[0m \u001b[0my\u001b[0m\u001b[1;33m[\u001b[0m\u001b[1;34m'sentiment'\u001b[0m\u001b[1;33m]\u001b[0m\u001b[1;33m.\u001b[0m\u001b[0mvalues\u001b[0m\u001b[1;33m\u001b[0m\u001b[1;33m\u001b[0m\u001b[0m\n\u001b[0m\u001b[0;32m      3\u001b[0m \u001b[0mx\u001b[0m\u001b[1;33m,\u001b[0m \u001b[0my\u001b[0m   \u001b[1;31m# получение значений, каждое предложение/категория отдельным элементом списка\u001b[0m\u001b[1;33m\u001b[0m\u001b[1;33m\u001b[0m\u001b[0m\n",
      "\u001b[1;31mIndexError\u001b[0m: only integers, slices (`:`), ellipsis (`...`), numpy.newaxis (`None`) and integer or boolean arrays are valid indices"
     ]
    }
   ],
   "source": [
    "x = X['content'].values\n",
    "y = y['sentiment'].values\n",
    "x, y   # получение значений, каждое предложение/категория отдельным элементом списка"
   ]
  },
  {
   "cell_type": "markdown",
   "metadata": {
    "id": "xRvJcOVCGSJp"
   },
   "source": [
    "Поскольку мы имеем всего 13 уникальных классов для переменной $y$, можно произвести кодирование целевой переменной при помощи ```LabelEncoder```, который преобразует каждую категорию в числа от $1$ до числа, равного количеству категорий (то есть до &13&). Применим его к целевой переменной."
   ]
  },
  {
   "cell_type": "code",
   "execution_count": 83,
   "metadata": {
    "colab": {
     "base_uri": "https://localhost:8080/"
    },
    "id": "Q4E0OkBRi94C",
    "outputId": "923706ea-6aca-4257-eee7-52b5aa97b978"
   },
   "outputs": [
    {
     "data": {
      "text/plain": [
       "{0: 'anger',\n",
       " 1: 'boredom',\n",
       " 2: 'empty',\n",
       " 3: 'enthusiasm',\n",
       " 4: 'fun',\n",
       " 5: 'happiness',\n",
       " 6: 'hate',\n",
       " 7: 'love',\n",
       " 8: 'neutral',\n",
       " 9: 'relief',\n",
       " 10: 'sadness',\n",
       " 11: 'surprise',\n",
       " 12: 'worry'}"
      ]
     },
     "execution_count": 83,
     "metadata": {},
     "output_type": "execute_result"
    }
   ],
   "source": [
    "dict_emotion = {i: np.unique(y)[i] for i in range(13)}\n",
    "dict_emotion    # словарь соотношения категории и его номера"
   ]
  },
  {
   "cell_type": "code",
   "execution_count": 84,
   "metadata": {
    "colab": {
     "base_uri": "https://localhost:8080/"
    },
    "id": "gH-d1FGfFFCU",
    "outputId": "8a33662d-c3e9-4a10-d8fb-7b4905e7fc5c"
   },
   "outputs": [
    {
     "data": {
      "text/plain": [
       "(array([ 2, 10, 10, ...,  7,  5,  7]),\n",
       " array(['anger', 'boredom', 'empty', 'enthusiasm', 'fun', 'happiness',\n",
       "        'hate', 'love', 'neutral', 'relief', 'sadness', 'surprise',\n",
       "        'worry'], dtype=object))"
      ]
     },
     "execution_count": 84,
     "metadata": {},
     "output_type": "execute_result"
    }
   ],
   "source": [
    "encoder = LabelEncoder()\n",
    "y = encoder.fit_transform(y)    # всевозможные уникальные значения переменной y\n",
    "y, encoder.classes_   # всевозможные уникальные значения y"
   ]
  },
  {
   "cell_type": "code",
   "execution_count": 85,
   "metadata": {
    "id": "JEn09NIdFh34"
   },
   "outputs": [],
   "source": [
    "# произведем разбиение выборки на тестовую и обучающуюся\n",
    "\n",
    "X_train, X_test, y_train, y_test = train_test_split(\n",
    "    x, y, \n",
    "    test_size=0.25, # проентная доля объема тестовой выборки от всего объема выборки\n",
    "    random_state=42    # рандомное распределение данных по выборкам\n",
    "    )"
   ]
  },
  {
   "cell_type": "code",
   "execution_count": 86,
   "metadata": {
    "colab": {
     "base_uri": "https://localhost:8080/"
    },
    "id": "3cO7VuOEFFAH",
    "outputId": "f63ed797-4d8a-454f-c277-8fdc46369136"
   },
   "outputs": [
    {
     "data": {
      "text/plain": [
       "((29896,), (9966,))"
      ]
     },
     "execution_count": 86,
     "metadata": {},
     "output_type": "execute_result"
    }
   ],
   "source": [
    "X_train.shape, X_test.shape"
   ]
  },
  {
   "cell_type": "markdown",
   "metadata": {
    "id": "qytIyhir8aP6"
   },
   "source": [
    "Модель обучается на $29896$ примерах, оставшиеся $9966$ идут на тестирование и оценку качества/производительности модели\n",
    "\n"
   ]
  },
  {
   "cell_type": "markdown",
   "metadata": {
    "id": "kpRWGIPW4HNo"
   },
   "source": [
    "Визаулизируем распределение тестовой и обучающейся выборки по категориям"
   ]
  },
  {
   "cell_type": "code",
   "execution_count": 87,
   "metadata": {
    "colab": {
     "base_uri": "https://localhost:8080/"
    },
    "id": "upXWRk1hyksF",
    "outputId": "3f56ac30-d2c5-4843-fff0-16dd7b8bc774"
   },
   "outputs": [
    {
     "data": {
      "text/plain": [
       "(0       84\n",
       " 1      139\n",
       " 2      591\n",
       " 3      574\n",
       " 4     1345\n",
       " 5     3879\n",
       " 6      985\n",
       " 7     2841\n",
       " 8     6448\n",
       " 9     1140\n",
       " 10    3847\n",
       " 11    1683\n",
       " 12    6340\n",
       " dtype: int64,\n",
       " 0       26\n",
       " 1       40\n",
       " 2      235\n",
       " 3      185\n",
       " 4      431\n",
       " 5     1304\n",
       " 6      338\n",
       " 7      946\n",
       " 8     2158\n",
       " 9      384\n",
       " 10    1308\n",
       " 11     503\n",
       " 12    2108\n",
       " dtype: int64)"
      ]
     },
     "execution_count": 87,
     "metadata": {},
     "output_type": "execute_result"
    }
   ],
   "source": [
    "y_train_val = pd.DataFrame(y_train).value_counts().sort_index()\n",
    "y_test_val = pd.DataFrame(y_test).value_counts().sort_index()\n",
    "index = y_train_val.index\n",
    "index = [dict_emotion[i] for i in range(13)]\n",
    "y_train_val, y_test_val"
   ]
  },
  {
   "cell_type": "code",
   "execution_count": 88,
   "metadata": {
    "colab": {
     "base_uri": "https://localhost:8080/",
     "height": 667
    },
    "id": "DSGjdw4mykon",
    "outputId": "08ef18d9-cf7b-412f-d3d2-27fad8607c12"
   },
   "outputs": [
    {
     "ename": "AttributeError",
     "evalue": "'AxesSubplot' object has no attribute 'bar_label'",
     "output_type": "error",
     "traceback": [
      "\u001b[1;31m---------------------------------------------------------------------------\u001b[0m",
      "\u001b[1;31mAttributeError\u001b[0m                            Traceback (most recent call last)",
      "\u001b[1;32m<ipython-input-88-e0a2ec50ca2d>\u001b[0m in \u001b[0;36m<module>\u001b[1;34m\u001b[0m\n\u001b[0;32m      4\u001b[0m \u001b[0max\u001b[0m\u001b[1;33m.\u001b[0m\u001b[0mbar\u001b[0m\u001b[1;33m(\u001b[0m\u001b[0mindex\u001b[0m\u001b[1;33m,\u001b[0m \u001b[0my_train_val\u001b[0m\u001b[1;33m,\u001b[0m \u001b[0mcolor\u001b[0m \u001b[1;33m=\u001b[0m \u001b[1;34m'cyan'\u001b[0m\u001b[1;33m)\u001b[0m\u001b[1;33m\u001b[0m\u001b[1;33m\u001b[0m\u001b[0m\n\u001b[0;32m      5\u001b[0m \u001b[0max\u001b[0m\u001b[1;33m.\u001b[0m\u001b[0mbar\u001b[0m\u001b[1;33m(\u001b[0m\u001b[0mindex\u001b[0m\u001b[1;33m,\u001b[0m \u001b[0my_test_val\u001b[0m\u001b[1;33m,\u001b[0m \u001b[0mcolor\u001b[0m \u001b[1;33m=\u001b[0m \u001b[1;34m'greenyellow'\u001b[0m\u001b[1;33m)\u001b[0m\u001b[1;33m\u001b[0m\u001b[1;33m\u001b[0m\u001b[0m\n\u001b[1;32m----> 6\u001b[1;33m \u001b[0max\u001b[0m\u001b[1;33m.\u001b[0m\u001b[0mbar_label\u001b[0m\u001b[1;33m(\u001b[0m\u001b[0max\u001b[0m\u001b[1;33m.\u001b[0m\u001b[0mcontainers\u001b[0m\u001b[1;33m[\u001b[0m\u001b[1;36m0\u001b[0m\u001b[1;33m]\u001b[0m\u001b[1;33m,\u001b[0m \u001b[0mlabel_type\u001b[0m\u001b[1;33m=\u001b[0m\u001b[1;34m'edge'\u001b[0m\u001b[1;33m)\u001b[0m\u001b[1;33m\u001b[0m\u001b[1;33m\u001b[0m\u001b[0m\n\u001b[0m\u001b[0;32m      7\u001b[0m \u001b[0max\u001b[0m\u001b[1;33m.\u001b[0m\u001b[0mbar_label\u001b[0m\u001b[1;33m(\u001b[0m\u001b[0max\u001b[0m\u001b[1;33m.\u001b[0m\u001b[0mcontainers\u001b[0m\u001b[1;33m[\u001b[0m\u001b[1;36m1\u001b[0m\u001b[1;33m]\u001b[0m\u001b[1;33m,\u001b[0m \u001b[0mlabel_type\u001b[0m\u001b[1;33m=\u001b[0m\u001b[1;34m'edge'\u001b[0m\u001b[1;33m)\u001b[0m\u001b[1;33m\u001b[0m\u001b[1;33m\u001b[0m\u001b[0m\n",
      "\u001b[1;31mAttributeError\u001b[0m: 'AxesSubplot' object has no attribute 'bar_label'"
     ]
    },
    {
     "data": {
      "image/png": "[encoded data removed]",
      "text/plain": [
       "<Figure size 1008x432 with 1 Axes>"
      ]
     },
     "metadata": {
      "needs_background": "light"
     },
     "output_type": "display_data"
    }
   ],
   "source": [
    "fig, ax = plt.subplots(nrows = 1, ncols = 1, figsize = (14,6))  # создание рабочей области\n",
    "\n",
    "ax.set_title('Распределение тестовой и обучающейся выборки', color = 'black', size = 17)   # названия графика\n",
    "ax.bar(index, y_train_val, color = 'cyan')\n",
    "ax.bar(index, y_test_val, color = 'greenyellow')\n",
    "# ax.bar_label(ax.containers[0], label_type='edge')\n",
    "# ax.bar_label(ax.containers[1], label_type='edge')"
   ]
  },
  {
   "cell_type": "markdown",
   "metadata": {
    "id": "CfYtW_R4OUOj"
   },
   "source": [
    "## Векторизация текста \n",
    "\n",
    "\n",
    "\n"
   ]
  },
  {
   "cell_type": "markdown",
   "metadata": {
    "id": "eTPHy8OJSx0p"
   },
   "source": [
    "> Осуществим преобразование данных при помощи ```TfidfVectorizer```, который оценивает частоту появления как в отдельных фрагментах текста, так и во всем тексте,  а также при помощи ```CountVectorizer```, который  в матрицу количества токенов"
   ]
  },
  {
   "cell_type": "code",
   "execution_count": 89,
   "metadata": {
    "colab": {
     "base_uri": "https://localhost:8080/"
    },
    "id": "Wsm9EYZEPB2s",
    "outputId": "89964041-f12c-40ac-dbc3-165604eb0599"
   },
   "outputs": [
    {
     "ename": "ValueError",
     "evalue": "empty vocabulary; perhaps the documents only contain stop words",
     "output_type": "error",
     "traceback": [
      "\u001b[1;31m---------------------------------------------------------------------------\u001b[0m",
      "\u001b[1;31mValueError\u001b[0m                                Traceback (most recent call last)",
      "\u001b[1;32m<timed exec>\u001b[0m in \u001b[0;36m<module>\u001b[1;34m\u001b[0m\n",
      "\u001b[1;32m~\\anaconda3\\lib\\site-packages\\sklearn\\feature_extraction\\text.py\u001b[0m in \u001b[0;36mfit_transform\u001b[1;34m(self, raw_documents, y)\u001b[0m\n\u001b[0;32m   1848\u001b[0m         \"\"\"\n\u001b[0;32m   1849\u001b[0m         \u001b[0mself\u001b[0m\u001b[1;33m.\u001b[0m\u001b[0m_check_params\u001b[0m\u001b[1;33m(\u001b[0m\u001b[1;33m)\u001b[0m\u001b[1;33m\u001b[0m\u001b[1;33m\u001b[0m\u001b[0m\n\u001b[1;32m-> 1850\u001b[1;33m         \u001b[0mX\u001b[0m \u001b[1;33m=\u001b[0m \u001b[0msuper\u001b[0m\u001b[1;33m(\u001b[0m\u001b[1;33m)\u001b[0m\u001b[1;33m.\u001b[0m\u001b[0mfit_transform\u001b[0m\u001b[1;33m(\u001b[0m\u001b[0mraw_documents\u001b[0m\u001b[1;33m)\u001b[0m\u001b[1;33m\u001b[0m\u001b[1;33m\u001b[0m\u001b[0m\n\u001b[0m\u001b[0;32m   1851\u001b[0m         \u001b[0mself\u001b[0m\u001b[1;33m.\u001b[0m\u001b[0m_tfidf\u001b[0m\u001b[1;33m.\u001b[0m\u001b[0mfit\u001b[0m\u001b[1;33m(\u001b[0m\u001b[0mX\u001b[0m\u001b[1;33m)\u001b[0m\u001b[1;33m\u001b[0m\u001b[1;33m\u001b[0m\u001b[0m\n\u001b[0;32m   1852\u001b[0m         \u001b[1;31m# X is already a transformed view of raw_documents so\u001b[0m\u001b[1;33m\u001b[0m\u001b[1;33m\u001b[0m\u001b[1;33m\u001b[0m\u001b[0m\n",
      "\u001b[1;32m~\\anaconda3\\lib\\site-packages\\sklearn\\feature_extraction\\text.py\u001b[0m in \u001b[0;36mfit_transform\u001b[1;34m(self, raw_documents, y)\u001b[0m\n\u001b[0;32m   1201\u001b[0m         \u001b[0mmax_features\u001b[0m \u001b[1;33m=\u001b[0m \u001b[0mself\u001b[0m\u001b[1;33m.\u001b[0m\u001b[0mmax_features\u001b[0m\u001b[1;33m\u001b[0m\u001b[1;33m\u001b[0m\u001b[0m\n\u001b[0;32m   1202\u001b[0m \u001b[1;33m\u001b[0m\u001b[0m\n\u001b[1;32m-> 1203\u001b[1;33m         vocabulary, X = self._count_vocab(raw_documents,\n\u001b[0m\u001b[0;32m   1204\u001b[0m                                           self.fixed_vocabulary_)\n\u001b[0;32m   1205\u001b[0m \u001b[1;33m\u001b[0m\u001b[0m\n",
      "\u001b[1;32m~\\anaconda3\\lib\\site-packages\\sklearn\\feature_extraction\\text.py\u001b[0m in \u001b[0;36m_count_vocab\u001b[1;34m(self, raw_documents, fixed_vocab)\u001b[0m\n\u001b[0;32m   1132\u001b[0m             \u001b[0mvocabulary\u001b[0m \u001b[1;33m=\u001b[0m \u001b[0mdict\u001b[0m\u001b[1;33m(\u001b[0m\u001b[0mvocabulary\u001b[0m\u001b[1;33m)\u001b[0m\u001b[1;33m\u001b[0m\u001b[1;33m\u001b[0m\u001b[0m\n\u001b[0;32m   1133\u001b[0m             \u001b[1;32mif\u001b[0m \u001b[1;32mnot\u001b[0m \u001b[0mvocabulary\u001b[0m\u001b[1;33m:\u001b[0m\u001b[1;33m\u001b[0m\u001b[1;33m\u001b[0m\u001b[0m\n\u001b[1;32m-> 1134\u001b[1;33m                 raise ValueError(\"empty vocabulary; perhaps the documents only\"\n\u001b[0m\u001b[0;32m   1135\u001b[0m                                  \" contain stop words\")\n\u001b[0;32m   1136\u001b[0m \u001b[1;33m\u001b[0m\u001b[0m\n",
      "\u001b[1;31mValueError\u001b[0m: empty vocabulary; perhaps the documents only contain stop words"
     ]
    }
   ],
   "source": [
    "%%time\n",
    "\n",
    "vectorizer = TfidfVectorizer()   # объект класса\n",
    "x_train_tf = vectorizer.fit_transform(X_train).toarray()   # преобразование данных + обучение для обучaющихся данных\n",
    "x_test_tf = vectorizer.transform(X_test).toarray()      # только преобразование для тестовых данных"
   ]
  },
  {
   "cell_type": "code",
   "execution_count": 90,
   "metadata": {
    "colab": {
     "base_uri": "https://localhost:8080/"
    },
    "id": "yMFFEKzw8syo",
    "outputId": "2474126b-80b5-4ef3-e0ec-fe39cc8592be"
   },
   "outputs": [
    {
     "ename": "ValueError",
     "evalue": "empty vocabulary; perhaps the documents only contain stop words",
     "output_type": "error",
     "traceback": [
      "\u001b[1;31m---------------------------------------------------------------------------\u001b[0m",
      "\u001b[1;31mValueError\u001b[0m                                Traceback (most recent call last)",
      "\u001b[1;32m<timed exec>\u001b[0m in \u001b[0;36m<module>\u001b[1;34m\u001b[0m\n",
      "\u001b[1;32m~\\anaconda3\\lib\\site-packages\\sklearn\\feature_extraction\\text.py\u001b[0m in \u001b[0;36mfit_transform\u001b[1;34m(self, raw_documents, y)\u001b[0m\n\u001b[0;32m   1201\u001b[0m         \u001b[0mmax_features\u001b[0m \u001b[1;33m=\u001b[0m \u001b[0mself\u001b[0m\u001b[1;33m.\u001b[0m\u001b[0mmax_features\u001b[0m\u001b[1;33m\u001b[0m\u001b[1;33m\u001b[0m\u001b[0m\n\u001b[0;32m   1202\u001b[0m \u001b[1;33m\u001b[0m\u001b[0m\n\u001b[1;32m-> 1203\u001b[1;33m         vocabulary, X = self._count_vocab(raw_documents,\n\u001b[0m\u001b[0;32m   1204\u001b[0m                                           self.fixed_vocabulary_)\n\u001b[0;32m   1205\u001b[0m \u001b[1;33m\u001b[0m\u001b[0m\n",
      "\u001b[1;32m~\\anaconda3\\lib\\site-packages\\sklearn\\feature_extraction\\text.py\u001b[0m in \u001b[0;36m_count_vocab\u001b[1;34m(self, raw_documents, fixed_vocab)\u001b[0m\n\u001b[0;32m   1132\u001b[0m             \u001b[0mvocabulary\u001b[0m \u001b[1;33m=\u001b[0m \u001b[0mdict\u001b[0m\u001b[1;33m(\u001b[0m\u001b[0mvocabulary\u001b[0m\u001b[1;33m)\u001b[0m\u001b[1;33m\u001b[0m\u001b[1;33m\u001b[0m\u001b[0m\n\u001b[0;32m   1133\u001b[0m             \u001b[1;32mif\u001b[0m \u001b[1;32mnot\u001b[0m \u001b[0mvocabulary\u001b[0m\u001b[1;33m:\u001b[0m\u001b[1;33m\u001b[0m\u001b[1;33m\u001b[0m\u001b[0m\n\u001b[1;32m-> 1134\u001b[1;33m                 raise ValueError(\"empty vocabulary; perhaps the documents only\"\n\u001b[0m\u001b[0;32m   1135\u001b[0m                                  \" contain stop words\")\n\u001b[0;32m   1136\u001b[0m \u001b[1;33m\u001b[0m\u001b[0m\n",
      "\u001b[1;31mValueError\u001b[0m: empty vocabulary; perhaps the documents only contain stop words"
     ]
    }
   ],
   "source": [
    "%%time\n",
    "\n",
    "vectorizer = CountVectorizer()   # объект класса \n",
    "x_train_cv = vectorizer.fit_transform(X_train).toarray()   # преобразование данных + обучение для обучaющихся данных\n",
    "x_test_cv = vectorizer.transform(X_test).toarray()      # только преобразование для тестовых данных"
   ]
  },
  {
   "cell_type": "code",
   "execution_count": 91,
   "metadata": {
    "colab": {
     "base_uri": "https://localhost:8080/"
    },
    "id": "SxSOS9AFRH_9",
    "outputId": "4b79cb5c-9347-4c59-8a70-173d41519a8b"
   },
   "outputs": [
    {
     "ename": "NameError",
     "evalue": "name 'x_train_tf' is not defined",
     "output_type": "error",
     "traceback": [
      "\u001b[1;31m---------------------------------------------------------------------------\u001b[0m",
      "\u001b[1;31mNameError\u001b[0m                                 Traceback (most recent call last)",
      "\u001b[1;32m<ipython-input-91-fd94b0f59bb4>\u001b[0m in \u001b[0;36m<module>\u001b[1;34m\u001b[0m\n\u001b[1;32m----> 1\u001b[1;33m \u001b[0mx_train_tf\u001b[0m\u001b[1;33m,\u001b[0m \u001b[0mx_test_cv\u001b[0m    \u001b[1;31m# представление текста в виде числовой матрицы\u001b[0m\u001b[1;33m\u001b[0m\u001b[1;33m\u001b[0m\u001b[0m\n\u001b[0m",
      "\u001b[1;31mNameError\u001b[0m: name 'x_train_tf' is not defined"
     ]
    }
   ],
   "source": [
    "x_train_tf, x_test_cv    # представление текста в виде числовой матрицы"
   ]
  },
  {
   "cell_type": "markdown",
   "metadata": {
    "id": "ZbUHvmx_A-7u"
   },
   "source": [
    "При обучении моделей будем применять данные, векторизированные обоими способами"
   ]
  },
  {
   "cell_type": "markdown",
   "metadata": {
    "id": "5oMERUimTp4o"
   },
   "source": [
    "# Построение моделей классификации"
   ]
  },
  {
   "cell_type": "code",
   "execution_count": 92,
   "metadata": {
    "id": "CPR_gJj3yL7L"
   },
   "outputs": [],
   "source": [
    "# словарь со всеми полученными метриками точности для дальнейшего сравнения моделей\n",
    "\n",
    "metrics = pd.DataFrame(columns = ['Logistic Regression', 'Random Forest', 'SVM', 'Neighbors', 'MLP', 'Tree', 'Gaussian', 'Passive Agressive', 'Ridge', 'Begging'], \n",
    "                       index = ['accuracy_score'])"
   ]
  },
  {
   "cell_type": "markdown",
   "metadata": {
    "id": "K7VUdbGeTvlh"
   },
   "source": [
    "## Логистическая регрессия ```LogisticRegression```"
   ]
  },
  {
   "cell_type": "markdown",
   "metadata": {
    "id": "Kim7jS2Y_8fQ"
   },
   "source": [
    "> ```TfdifVectorizer```"
   ]
  },
  {
   "cell_type": "code",
   "execution_count": 93,
   "metadata": {
    "colab": {
     "base_uri": "https://localhost:8080/"
    },
    "id": "n9y5KUP4_3Ta",
    "outputId": "daab1d87-de9b-49d5-dfa5-b5a99c55ad38"
   },
   "outputs": [
    {
     "ename": "ValueError",
     "evalue": "empty vocabulary; perhaps the documents only contain stop words",
     "output_type": "error",
     "traceback": [
      "\u001b[1;31m---------------------------------------------------------------------------\u001b[0m",
      "\u001b[1;31mValueError\u001b[0m                                Traceback (most recent call last)",
      "\u001b[1;32m<timed exec>\u001b[0m in \u001b[0;36m<module>\u001b[1;34m\u001b[0m\n",
      "\u001b[1;32m~\\anaconda3\\lib\\site-packages\\sklearn\\pipeline.py\u001b[0m in \u001b[0;36mfit\u001b[1;34m(self, X, y, **fit_params)\u001b[0m\n\u001b[0;32m    339\u001b[0m         \"\"\"\n\u001b[0;32m    340\u001b[0m         \u001b[0mfit_params_steps\u001b[0m \u001b[1;33m=\u001b[0m \u001b[0mself\u001b[0m\u001b[1;33m.\u001b[0m\u001b[0m_check_fit_params\u001b[0m\u001b[1;33m(\u001b[0m\u001b[1;33m**\u001b[0m\u001b[0mfit_params\u001b[0m\u001b[1;33m)\u001b[0m\u001b[1;33m\u001b[0m\u001b[1;33m\u001b[0m\u001b[0m\n\u001b[1;32m--> 341\u001b[1;33m         \u001b[0mXt\u001b[0m \u001b[1;33m=\u001b[0m \u001b[0mself\u001b[0m\u001b[1;33m.\u001b[0m\u001b[0m_fit\u001b[0m\u001b[1;33m(\u001b[0m\u001b[0mX\u001b[0m\u001b[1;33m,\u001b[0m \u001b[0my\u001b[0m\u001b[1;33m,\u001b[0m \u001b[1;33m**\u001b[0m\u001b[0mfit_params_steps\u001b[0m\u001b[1;33m)\u001b[0m\u001b[1;33m\u001b[0m\u001b[1;33m\u001b[0m\u001b[0m\n\u001b[0m\u001b[0;32m    342\u001b[0m         with _print_elapsed_time('Pipeline',\n\u001b[0;32m    343\u001b[0m                                  self._log_message(len(self.steps) - 1)):\n",
      "\u001b[1;32m~\\anaconda3\\lib\\site-packages\\sklearn\\pipeline.py\u001b[0m in \u001b[0;36m_fit\u001b[1;34m(self, X, y, **fit_params_steps)\u001b[0m\n\u001b[0;32m    301\u001b[0m                 \u001b[0mcloned_transformer\u001b[0m \u001b[1;33m=\u001b[0m \u001b[0mclone\u001b[0m\u001b[1;33m(\u001b[0m\u001b[0mtransformer\u001b[0m\u001b[1;33m)\u001b[0m\u001b[1;33m\u001b[0m\u001b[1;33m\u001b[0m\u001b[0m\n\u001b[0;32m    302\u001b[0m             \u001b[1;31m# Fit or load from cache the current transformer\u001b[0m\u001b[1;33m\u001b[0m\u001b[1;33m\u001b[0m\u001b[1;33m\u001b[0m\u001b[0m\n\u001b[1;32m--> 303\u001b[1;33m             X, fitted_transformer = fit_transform_one_cached(\n\u001b[0m\u001b[0;32m    304\u001b[0m                 \u001b[0mcloned_transformer\u001b[0m\u001b[1;33m,\u001b[0m \u001b[0mX\u001b[0m\u001b[1;33m,\u001b[0m \u001b[0my\u001b[0m\u001b[1;33m,\u001b[0m \u001b[1;32mNone\u001b[0m\u001b[1;33m,\u001b[0m\u001b[1;33m\u001b[0m\u001b[1;33m\u001b[0m\u001b[0m\n\u001b[0;32m    305\u001b[0m                 \u001b[0mmessage_clsname\u001b[0m\u001b[1;33m=\u001b[0m\u001b[1;34m'Pipeline'\u001b[0m\u001b[1;33m,\u001b[0m\u001b[1;33m\u001b[0m\u001b[1;33m\u001b[0m\u001b[0m\n",
      "\u001b[1;32m~\\anaconda3\\lib\\site-packages\\joblib\\memory.py\u001b[0m in \u001b[0;36m__call__\u001b[1;34m(self, *args, **kwargs)\u001b[0m\n\u001b[0;32m    350\u001b[0m \u001b[1;33m\u001b[0m\u001b[0m\n\u001b[0;32m    351\u001b[0m     \u001b[1;32mdef\u001b[0m \u001b[0m__call__\u001b[0m\u001b[1;33m(\u001b[0m\u001b[0mself\u001b[0m\u001b[1;33m,\u001b[0m \u001b[1;33m*\u001b[0m\u001b[0margs\u001b[0m\u001b[1;33m,\u001b[0m \u001b[1;33m**\u001b[0m\u001b[0mkwargs\u001b[0m\u001b[1;33m)\u001b[0m\u001b[1;33m:\u001b[0m\u001b[1;33m\u001b[0m\u001b[1;33m\u001b[0m\u001b[0m\n\u001b[1;32m--> 352\u001b[1;33m         \u001b[1;32mreturn\u001b[0m \u001b[0mself\u001b[0m\u001b[1;33m.\u001b[0m\u001b[0mfunc\u001b[0m\u001b[1;33m(\u001b[0m\u001b[1;33m*\u001b[0m\u001b[0margs\u001b[0m\u001b[1;33m,\u001b[0m \u001b[1;33m**\u001b[0m\u001b[0mkwargs\u001b[0m\u001b[1;33m)\u001b[0m\u001b[1;33m\u001b[0m\u001b[1;33m\u001b[0m\u001b[0m\n\u001b[0m\u001b[0;32m    353\u001b[0m \u001b[1;33m\u001b[0m\u001b[0m\n\u001b[0;32m    354\u001b[0m     \u001b[1;32mdef\u001b[0m \u001b[0mcall_and_shelve\u001b[0m\u001b[1;33m(\u001b[0m\u001b[0mself\u001b[0m\u001b[1;33m,\u001b[0m \u001b[1;33m*\u001b[0m\u001b[0margs\u001b[0m\u001b[1;33m,\u001b[0m \u001b[1;33m**\u001b[0m\u001b[0mkwargs\u001b[0m\u001b[1;33m)\u001b[0m\u001b[1;33m:\u001b[0m\u001b[1;33m\u001b[0m\u001b[1;33m\u001b[0m\u001b[0m\n",
      "\u001b[1;32m~\\anaconda3\\lib\\site-packages\\sklearn\\pipeline.py\u001b[0m in \u001b[0;36m_fit_transform_one\u001b[1;34m(transformer, X, y, weight, message_clsname, message, **fit_params)\u001b[0m\n\u001b[0;32m    752\u001b[0m     \u001b[1;32mwith\u001b[0m \u001b[0m_print_elapsed_time\u001b[0m\u001b[1;33m(\u001b[0m\u001b[0mmessage_clsname\u001b[0m\u001b[1;33m,\u001b[0m \u001b[0mmessage\u001b[0m\u001b[1;33m)\u001b[0m\u001b[1;33m:\u001b[0m\u001b[1;33m\u001b[0m\u001b[1;33m\u001b[0m\u001b[0m\n\u001b[0;32m    753\u001b[0m         \u001b[1;32mif\u001b[0m \u001b[0mhasattr\u001b[0m\u001b[1;33m(\u001b[0m\u001b[0mtransformer\u001b[0m\u001b[1;33m,\u001b[0m \u001b[1;34m'fit_transform'\u001b[0m\u001b[1;33m)\u001b[0m\u001b[1;33m:\u001b[0m\u001b[1;33m\u001b[0m\u001b[1;33m\u001b[0m\u001b[0m\n\u001b[1;32m--> 754\u001b[1;33m             \u001b[0mres\u001b[0m \u001b[1;33m=\u001b[0m \u001b[0mtransformer\u001b[0m\u001b[1;33m.\u001b[0m\u001b[0mfit_transform\u001b[0m\u001b[1;33m(\u001b[0m\u001b[0mX\u001b[0m\u001b[1;33m,\u001b[0m \u001b[0my\u001b[0m\u001b[1;33m,\u001b[0m \u001b[1;33m**\u001b[0m\u001b[0mfit_params\u001b[0m\u001b[1;33m)\u001b[0m\u001b[1;33m\u001b[0m\u001b[1;33m\u001b[0m\u001b[0m\n\u001b[0m\u001b[0;32m    755\u001b[0m         \u001b[1;32melse\u001b[0m\u001b[1;33m:\u001b[0m\u001b[1;33m\u001b[0m\u001b[1;33m\u001b[0m\u001b[0m\n\u001b[0;32m    756\u001b[0m             \u001b[0mres\u001b[0m \u001b[1;33m=\u001b[0m \u001b[0mtransformer\u001b[0m\u001b[1;33m.\u001b[0m\u001b[0mfit\u001b[0m\u001b[1;33m(\u001b[0m\u001b[0mX\u001b[0m\u001b[1;33m,\u001b[0m \u001b[0my\u001b[0m\u001b[1;33m,\u001b[0m \u001b[1;33m**\u001b[0m\u001b[0mfit_params\u001b[0m\u001b[1;33m)\u001b[0m\u001b[1;33m.\u001b[0m\u001b[0mtransform\u001b[0m\u001b[1;33m(\u001b[0m\u001b[0mX\u001b[0m\u001b[1;33m)\u001b[0m\u001b[1;33m\u001b[0m\u001b[1;33m\u001b[0m\u001b[0m\n",
      "\u001b[1;32m~\\anaconda3\\lib\\site-packages\\sklearn\\feature_extraction\\text.py\u001b[0m in \u001b[0;36mfit_transform\u001b[1;34m(self, raw_documents, y)\u001b[0m\n\u001b[0;32m   1848\u001b[0m         \"\"\"\n\u001b[0;32m   1849\u001b[0m         \u001b[0mself\u001b[0m\u001b[1;33m.\u001b[0m\u001b[0m_check_params\u001b[0m\u001b[1;33m(\u001b[0m\u001b[1;33m)\u001b[0m\u001b[1;33m\u001b[0m\u001b[1;33m\u001b[0m\u001b[0m\n\u001b[1;32m-> 1850\u001b[1;33m         \u001b[0mX\u001b[0m \u001b[1;33m=\u001b[0m \u001b[0msuper\u001b[0m\u001b[1;33m(\u001b[0m\u001b[1;33m)\u001b[0m\u001b[1;33m.\u001b[0m\u001b[0mfit_transform\u001b[0m\u001b[1;33m(\u001b[0m\u001b[0mraw_documents\u001b[0m\u001b[1;33m)\u001b[0m\u001b[1;33m\u001b[0m\u001b[1;33m\u001b[0m\u001b[0m\n\u001b[0m\u001b[0;32m   1851\u001b[0m         \u001b[0mself\u001b[0m\u001b[1;33m.\u001b[0m\u001b[0m_tfidf\u001b[0m\u001b[1;33m.\u001b[0m\u001b[0mfit\u001b[0m\u001b[1;33m(\u001b[0m\u001b[0mX\u001b[0m\u001b[1;33m)\u001b[0m\u001b[1;33m\u001b[0m\u001b[1;33m\u001b[0m\u001b[0m\n\u001b[0;32m   1852\u001b[0m         \u001b[1;31m# X is already a transformed view of raw_documents so\u001b[0m\u001b[1;33m\u001b[0m\u001b[1;33m\u001b[0m\u001b[1;33m\u001b[0m\u001b[0m\n",
      "\u001b[1;32m~\\anaconda3\\lib\\site-packages\\sklearn\\feature_extraction\\text.py\u001b[0m in \u001b[0;36mfit_transform\u001b[1;34m(self, raw_documents, y)\u001b[0m\n\u001b[0;32m   1201\u001b[0m         \u001b[0mmax_features\u001b[0m \u001b[1;33m=\u001b[0m \u001b[0mself\u001b[0m\u001b[1;33m.\u001b[0m\u001b[0mmax_features\u001b[0m\u001b[1;33m\u001b[0m\u001b[1;33m\u001b[0m\u001b[0m\n\u001b[0;32m   1202\u001b[0m \u001b[1;33m\u001b[0m\u001b[0m\n\u001b[1;32m-> 1203\u001b[1;33m         vocabulary, X = self._count_vocab(raw_documents,\n\u001b[0m\u001b[0;32m   1204\u001b[0m                                           self.fixed_vocabulary_)\n\u001b[0;32m   1205\u001b[0m \u001b[1;33m\u001b[0m\u001b[0m\n",
      "\u001b[1;32m~\\anaconda3\\lib\\site-packages\\sklearn\\feature_extraction\\text.py\u001b[0m in \u001b[0;36m_count_vocab\u001b[1;34m(self, raw_documents, fixed_vocab)\u001b[0m\n\u001b[0;32m   1132\u001b[0m             \u001b[0mvocabulary\u001b[0m \u001b[1;33m=\u001b[0m \u001b[0mdict\u001b[0m\u001b[1;33m(\u001b[0m\u001b[0mvocabulary\u001b[0m\u001b[1;33m)\u001b[0m\u001b[1;33m\u001b[0m\u001b[1;33m\u001b[0m\u001b[0m\n\u001b[0;32m   1133\u001b[0m             \u001b[1;32mif\u001b[0m \u001b[1;32mnot\u001b[0m \u001b[0mvocabulary\u001b[0m\u001b[1;33m:\u001b[0m\u001b[1;33m\u001b[0m\u001b[1;33m\u001b[0m\u001b[0m\n\u001b[1;32m-> 1134\u001b[1;33m                 raise ValueError(\"empty vocabulary; perhaps the documents only\"\n\u001b[0m\u001b[0;32m   1135\u001b[0m                                  \" contain stop words\")\n\u001b[0;32m   1136\u001b[0m \u001b[1;33m\u001b[0m\u001b[0m\n",
      "\u001b[1;31mValueError\u001b[0m: empty vocabulary; perhaps the documents only contain stop words"
     ]
    }
   ],
   "source": [
    "%%time\n",
    "\n",
    "lr1 = Pipeline([('tfidf', TfidfVectorizer()), ('lr', LogisticRegression(max_iter=500000))])    # последовательное применение методов из списка\n",
    "\n",
    "start_time = time.time()    # для подсчета времени обучения модели\n",
    "lr1.fit(X_train, y_train)    # обучение модели\n",
    "end_time =time.time()\n",
    "y_pred_tf = lr1.predict(X_test)    # предсказание для тестовых данных\n",
    "y_train_pred_tf = lr1.predict(X_train)   # предсказание обучающих данных\n",
    "print(f\"Training score: {round(accuracy_score(y_train, y_train_pred_tf),4)*100}%\")   # метрика - показатель точности спрогнозированных данных, \n",
    "                                                                                  # рассчитывается как отношение количества правильных прогнозов к их общему количеству.\n",
    "print(f\"Test score: {round(accuracy_score(y_test, y_pred_tf),4)*100}%\")   # метрика точности спрогнозированных данных для тестовой выборки\n",
    "print(f'Time fit: {round(end_time - start_time, 2)} s')"
   ]
  },
  {
   "cell_type": "markdown",
   "metadata": {
    "id": "jIpS2HSC6LKc"
   },
   "source": [
    "На основе полученных результатов точностей моделей можно сделать вывод о недообучении модели, поскольку значение метрики точности обучающейся выборки довольно низкое. Модель делает верный прогноз с точностью ~35%"
   ]
  },
  {
   "cell_type": "code",
   "execution_count": null,
   "metadata": {
    "id": "eBoKVWsuvFFK"
   },
   "outputs": [],
   "source": [
    "from yellowbrick.model_selection import LearningCurve\n",
    "\n",
    "x_ = np.vstack((x_train_tf, x_test_tf))\n",
    "y_ = np.hstack((y_train, y_test))\n",
    "visualizer = LearningCurve(\n",
    "    LogisticRegression(max_iter=500000), train_sizes=np.linspace(0.1, 1.0, 10)\n",
    ").fit(X, y) .show()"
   ]
  },
  {
   "cell_type": "code",
   "execution_count": null,
   "metadata": {
    "colab": {
     "base_uri": "https://localhost:8080/"
    },
    "id": "SD562WADCBbO",
    "outputId": "2b3ff6ee-1e56-4284-be0f-8ac11e3ab589"
   },
   "outputs": [
    {
     "name": "stdout",
     "output_type": "stream",
     "text": [
      "              precision    recall  f1-score   support\n",
      "\n",
      "           0       0.00      0.00      0.00        26\n",
      "           1       0.00      0.00      0.00        40\n",
      "           2       0.25      0.00      0.01       235\n",
      "           3       0.00      0.00      0.00       185\n",
      "           4       0.13      0.01      0.02       431\n",
      "           5       0.34      0.35      0.34      1304\n",
      "           6       0.40      0.12      0.18       338\n",
      "           7       0.47      0.39      0.43       946\n",
      "           8       0.34      0.57      0.43      2158\n",
      "           9       0.31      0.03      0.05       384\n",
      "          10       0.33      0.22      0.27      1308\n",
      "          11       0.23      0.03      0.06       503\n",
      "          12       0.34      0.50      0.40      2108\n",
      "\n",
      "    accuracy                           0.35      9966\n",
      "   macro avg       0.24      0.17      0.17      9966\n",
      "weighted avg       0.33      0.35      0.31      9966\n",
      "\n"
     ]
    },
    {
     "name": "stderr",
     "output_type": "stream",
     "text": [
      "/usr/local/lib/python3.10/dist-packages/sklearn/metrics/_classification.py:1344: UndefinedMetricWarning: Precision and F-score are ill-defined and being set to 0.0 in labels with no predicted samples. Use `zero_division` parameter to control this behavior.\n",
      "  _warn_prf(average, modifier, msg_start, len(result))\n",
      "/usr/local/lib/python3.10/dist-packages/sklearn/metrics/_classification.py:1344: UndefinedMetricWarning: Precision and F-score are ill-defined and being set to 0.0 in labels with no predicted samples. Use `zero_division` parameter to control this behavior.\n",
      "  _warn_prf(average, modifier, msg_start, len(result))\n",
      "/usr/local/lib/python3.10/dist-packages/sklearn/metrics/_classification.py:1344: UndefinedMetricWarning: Precision and F-score are ill-defined and being set to 0.0 in labels with no predicted samples. Use `zero_division` parameter to control this behavior.\n",
      "  _warn_prf(average, modifier, msg_start, len(result))\n"
     ]
    }
   ],
   "source": [
    "print(classification_report(y_test, y_pred_tf))"
   ]
  },
  {
   "cell_type": "markdown",
   "metadata": {
    "id": "6DbM5ennFmDp"
   },
   "source": [
    ">```CountVectorizer```"
   ]
  },
  {
   "cell_type": "code",
   "execution_count": null,
   "metadata": {
    "colab": {
     "base_uri": "https://localhost:8080/"
    },
    "id": "ejM6Q4yzFqRO",
    "outputId": "80f6fc60-15bf-41f3-a401-b72dc17089ef"
   },
   "outputs": [
    {
     "name": "stdout",
     "output_type": "stream",
     "text": [
      "Training score: 70.1%\n",
      "Test score: 33.29%\n",
      "Time fit: 34.38 s\n",
      "CPU times: user 28.8 s, sys: 32.8 s, total: 1min 1s\n",
      "Wall time: 34.8 s\n"
     ]
    }
   ],
   "source": [
    "%%time\n",
    "\n",
    "lr2 = Pipeline([('cv', CountVectorizer()), ('lr', LogisticRegression(max_iter=500000))])    # последовательное применение методов из списка\n",
    "\n",
    "start_time = time.time()    # для подсчета времени обучения модели\n",
    "lr2.fit(X_train, y_train)    # обучение модели\n",
    "end_time =time.time()\n",
    "y_pred_cv = lr2.predict(X_test)    # предсказание для тестовых данных\n",
    "y_train_pred_cv = lr2.predict(X_train)   # предсказание обучающих данных\n",
    "print(f\"Training score: {round(accuracy_score(y_train, y_train_pred_cv),4)*100}%\")   # метрика - показатель точности спрогнозированных данных, \n",
    "                                                                                  # рассчитывается как отношение количества правильных прогнозов к их общему количеству.\n",
    "print(f\"Test score: {round(accuracy_score(y_test, y_pred_cv),4)*100}%\")   # метрика точности спрогнозированных данных для тестовой выборки\n",
    "print(f'Time fit: {round(end_time - start_time, 2)} s')"
   ]
  },
  {
   "cell_type": "code",
   "execution_count": null,
   "metadata": {
    "id": "pigQ6ez_qb9D"
   },
   "outputs": [],
   "source": [
    "print(classification_report(y_test, y_pred_cv))"
   ]
  },
  {
   "cell_type": "markdown",
   "metadata": {
    "id": "2CJTeBeiG_qi"
   },
   "source": [
    "Видим значительную разницу между результатми тестовой и обучающейся выборок => можем предположить, что модель переобучилась"
   ]
  },
  {
   "cell_type": "markdown",
   "metadata": {
    "id": "7oXKoxeSWses"
   },
   "source": [
    "Модель ```TfdifVectorizer``` показала результаты лучше\\\n",
    "Посмотрим на другие метрики для этой модели"
   ]
  },
  {
   "cell_type": "code",
   "execution_count": null,
   "metadata": {
    "colab": {
     "base_uri": "https://localhost:8080/"
    },
    "id": "1cH9n4okHZU2",
    "outputId": "c9c5dd48-000d-4139-8030-dcb7167625ac"
   },
   "outputs": [
    {
     "data": {
      "text/plain": [
       "{'anger': array([[9940,    0],\n",
       "        [  26,    0]]),\n",
       " 'boredom': array([[9926,    0],\n",
       "        [  40,    0]]),\n",
       " 'empty': array([[9728,    3],\n",
       "        [ 234,    1]]),\n",
       " 'enthusiasm': array([[9781,    0],\n",
       "        [ 185,    0]]),\n",
       " 'fun': array([[9502,   33],\n",
       "        [ 426,    5]]),\n",
       " 'happiness': array([[7773,  889],\n",
       "        [ 848,  456]]),\n",
       " 'hate': array([[9567,   61],\n",
       "        [ 298,   40]]),\n",
       " 'love': array([[8604,  416],\n",
       "        [ 577,  369]]),\n",
       " 'neutral': array([[5438, 2370],\n",
       "        [ 923, 1235]]),\n",
       " 'relief': array([[9560,   22],\n",
       "        [ 374,   10]]),\n",
       " 'sadness': array([[8078,  580],\n",
       "        [1019,  289]]),\n",
       " 'surprise': array([[9406,   57],\n",
       "        [ 486,   17]]),\n",
       " 'worry': array([[5798, 2060],\n",
       "        [1055, 1053]])}"
      ]
     },
     "execution_count": 155,
     "metadata": {},
     "output_type": "execute_result"
    }
   ],
   "source": [
    "conf_matrix1 = {\n",
    "    dict_emotion[i]: multilabel_confusion_matrix(y_true = y_test, y_pred = y_pred_tf, labels = [j for j in range(13)])[i]\n",
    "    for i in range(13)\n",
    "}\n",
    "conf_matrix1   #  матрица ошибок для каждого класса для мультиклассовой классификации"
   ]
  },
  {
   "cell_type": "code",
   "execution_count": null,
   "metadata": {
    "colab": {
     "base_uri": "https://localhost:8080/",
     "height": 539
    },
    "id": "BJ5hYVbfHi0D",
    "outputId": "6880bf8a-53a3-4e8f-fa88-74fe993aa7c0"
   },
   "outputs": [
    {
     "data": {
      "text/plain": [
       "<Axes: >"
      ]
     },
     "execution_count": 156,
     "metadata": {},
     "output_type": "execute_result"
    },
    {
     "data": {
      "image/png": "[encoded data removed]",
      "text/plain": [
       "<Figure size 1000x600 with 2 Axes>"
      ]
     },
     "metadata": {},
     "output_type": "display_data"
    }
   ],
   "source": [
    "plt.figure(figsize = (10,6))\n",
    "sns.heatmap(confusion_matrix(y_test, y_pred_tf),cmap=\"coolwarm\")"
   ]
  },
  {
   "cell_type": "code",
   "execution_count": null,
   "metadata": {
    "id": "4Xzl9oO2CBbP"
   },
   "outputs": [],
   "source": [
    "# модель TFIDF показали результаты лучше, поэтому добавляе ее значения метрик м в итоговый датафрэйм \n",
    "metrics['Logistic Regression']['accuracy_score'] = round(accuracy_score(y_test, y_pred_tf),4)*100   # заполнение датафрейма с метриками"
   ]
  },
  {
   "cell_type": "markdown",
   "metadata": {
    "id": "t7bLripcn0kW"
   },
   "source": [
    "Сложность устройства данных выше, чем сложность устройства модели ```LogisticRegression```, поэтому модель недобучается. Построим более сложные модели"
   ]
  },
  {
   "cell_type": "markdown",
   "metadata": {
    "id": "iiwBxIqyIXVo"
   },
   "source": [
    "## Случайный лес ```RandomForest```"
   ]
  },
  {
   "cell_type": "markdown",
   "metadata": {
    "id": "2nIvEFsWJDdF"
   },
   "source": [
    "> ```TfdifVectorizer```"
   ]
  },
  {
   "cell_type": "code",
   "execution_count": null,
   "metadata": {
    "colab": {
     "base_uri": "https://localhost:8080/"
    },
    "id": "2Wb3jLXkJDdG",
    "outputId": "30ffb583-d32c-4f91-9859-e6a89b6684c4"
   },
   "outputs": [
    {
     "name": "stdout",
     "output_type": "stream",
     "text": [
      "Training score: 98.05%\n",
      "Test score: 34.22%\n",
      "Time fit: 154.81 s\n",
      "CPU times: user 2min 42s, sys: 388 ms, total: 2min 43s\n",
      "Wall time: 2min 43s\n"
     ]
    }
   ],
   "source": [
    "%%time\n",
    "\n",
    "rf1 = Pipeline([('tfidf', TfidfVectorizer()), ('classifier', RandomForestClassifier(random_state = 42))])    # последовательное применение методов из списка\n",
    "\n",
    "start_time = time.time()    # для подсчета времени обучения модели\n",
    "rf1.fit(X_train, y_train)    # обучение модели\n",
    "end_time =time.time()\n",
    "y_pred_tf = rf1.predict(X_test)    # предсказание для тестовых данных\n",
    "y_train_pred_tf = rf1.predict(X_train)   # предсказание обучающих данных\n",
    "print(f\"Training score: {round(accuracy_score(y_train, y_train_pred_tf),4)*100}%\")   # метрика - показатель точности спрогнозированных данных, \n",
    "                                                                                  # рассчитывается как отношение количества правильных прогнозов к их общему количеству.\n",
    "print(f\"Test score: {round(accuracy_score(y_test, y_pred_tf),4)*100}%\")   # метрика точности спрогнозированных данных для тестовой выборки\n",
    "print(f'Time fit: {round(end_time - start_time, 2)} s')"
   ]
  },
  {
   "cell_type": "markdown",
   "metadata": {
    "id": "uCud6HKRJDdG"
   },
   "source": [
    "Разница в показаниях тестовой и обучающейся выборок большая, то есть модель переобучилась"
   ]
  },
  {
   "cell_type": "code",
   "execution_count": null,
   "metadata": {
    "colab": {
     "base_uri": "https://localhost:8080/"
    },
    "id": "W3lGkz1pJDdG",
    "outputId": "03036286-f3b7-44ea-ae89-30befa1a16e0"
   },
   "outputs": [
    {
     "name": "stdout",
     "output_type": "stream",
     "text": [
      "              precision    recall  f1-score   support\n",
      "\n",
      "           0       0.00      0.00      0.00        26\n",
      "           1       0.00      0.00      0.00        40\n",
      "           2       0.00      0.00      0.00       235\n",
      "           3       0.00      0.00      0.00       185\n",
      "           4       0.20      0.03      0.06       431\n",
      "           5       0.31      0.33      0.32      1304\n",
      "           6       0.37      0.17      0.23       338\n",
      "           7       0.45      0.42      0.43       946\n",
      "           8       0.33      0.56      0.42      2158\n",
      "           9       0.21      0.03      0.05       384\n",
      "          10       0.37      0.22      0.28      1308\n",
      "          11       0.24      0.05      0.08       503\n",
      "          12       0.34      0.47      0.39      2108\n",
      "\n",
      "    accuracy                           0.34      9966\n",
      "   macro avg       0.22      0.17      0.17      9966\n",
      "weighted avg       0.32      0.34      0.31      9966\n",
      "\n"
     ]
    },
    {
     "name": "stderr",
     "output_type": "stream",
     "text": [
      "/usr/local/lib/python3.10/dist-packages/sklearn/metrics/_classification.py:1344: UndefinedMetricWarning: Precision and F-score are ill-defined and being set to 0.0 in labels with no predicted samples. Use `zero_division` parameter to control this behavior.\n",
      "  _warn_prf(average, modifier, msg_start, len(result))\n",
      "/usr/local/lib/python3.10/dist-packages/sklearn/metrics/_classification.py:1344: UndefinedMetricWarning: Precision and F-score are ill-defined and being set to 0.0 in labels with no predicted samples. Use `zero_division` parameter to control this behavior.\n",
      "  _warn_prf(average, modifier, msg_start, len(result))\n",
      "/usr/local/lib/python3.10/dist-packages/sklearn/metrics/_classification.py:1344: UndefinedMetricWarning: Precision and F-score are ill-defined and being set to 0.0 in labels with no predicted samples. Use `zero_division` parameter to control this behavior.\n",
      "  _warn_prf(average, modifier, msg_start, len(result))\n"
     ]
    }
   ],
   "source": [
    "print(classification_report(y_test, y_pred_tf))"
   ]
  },
  {
   "cell_type": "markdown",
   "metadata": {
    "id": "2E6ll-kpJDdG"
   },
   "source": [
    ">```CountVectorizer```"
   ]
  },
  {
   "cell_type": "code",
   "execution_count": null,
   "metadata": {
    "colab": {
     "base_uri": "https://localhost:8080/"
    },
    "id": "xiIu5bjxJDdG",
    "outputId": "b155dfd4-af41-4d7e-f2f4-ad920708305a"
   },
   "outputs": [
    {
     "name": "stdout",
     "output_type": "stream",
     "text": [
      "Training score: 98.06%\n",
      "Test score: 31.879999999999995%\n",
      "Time fit: 169.86 s\n",
      "CPU times: user 2min 57s, sys: 555 ms, total: 2min 57s\n",
      "Wall time: 2min 57s\n"
     ]
    }
   ],
   "source": [
    "%%time\n",
    "\n",
    "rf2 = Pipeline([('cv', CountVectorizer()), ('classifier', RandomForestClassifier(random_state = 42))])    # последовательное применение методов из списка\n",
    "\n",
    "start_time = time.time()    # для подсчета времени обучения модели\n",
    "rf2.fit(X_train, y_train)    # обучение модели\n",
    "end_time =time.time()\n",
    "y_pred_cv = rf2.predict(X_test)    # предсказание для тестовых данных\n",
    "y_train_pred_cv = rf2.predict(X_train)   # предсказание обучающих данных\n",
    "print(f\"Training score: {round(accuracy_score(y_train, y_train_pred_cv),4)*100}%\")   # метрика - показатель точности спрогнозированных данных, \n",
    "                                                                                  # рассчитывается как отношение количества правильных прогнозов к их общему количеству.\n",
    "print(f\"Test score: {round(accuracy_score(y_test, y_pred_cv),4)*100}%\")   # метрика точности спрогнозированных данных для тестовой выборки\n",
    "print(f'Time fit: {round(end_time - start_time, 2)} s')"
   ]
  },
  {
   "cell_type": "markdown",
   "metadata": {
    "id": "fFIdmhhMJDdH"
   },
   "source": [
    "Видим значительную разницу между результатми тестовой и обучающейся выборок => модель тоже переобучилась"
   ]
  },
  {
   "cell_type": "markdown",
   "metadata": {
    "id": "M-kcZWsXXLNY"
   },
   "source": [
    "Результаты ```TfidfVectorizer``` оказались лучше"
   ]
  },
  {
   "cell_type": "code",
   "execution_count": null,
   "metadata": {
    "colab": {
     "base_uri": "https://localhost:8080/"
    },
    "id": "S4kQ3lpoXZ_Z",
    "outputId": "feb61060-27d6-44ca-ebbc-a3fc1479bb7e"
   },
   "outputs": [
    {
     "data": {
      "text/plain": [
       "{'anger': array([[9940,    0],\n",
       "        [  26,    0]]),\n",
       " 'boredom': array([[9923,    3],\n",
       "        [  40,    0]]),\n",
       " 'empty': array([[9711,   20],\n",
       "        [ 235,    0]]),\n",
       " 'enthusiasm': array([[9773,    8],\n",
       "        [ 185,    0]]),\n",
       " 'fun': array([[9478,   57],\n",
       "        [ 417,   14]]),\n",
       " 'happiness': array([[7698,  964],\n",
       "        [ 870,  434]]),\n",
       " 'hate': array([[9531,   97],\n",
       "        [ 282,   56]]),\n",
       " 'love': array([[8529,  491],\n",
       "        [ 552,  394]]),\n",
       " 'neutral': array([[5398, 2410],\n",
       "        [ 954, 1204]]),\n",
       " 'relief': array([[9537,   45],\n",
       "        [ 372,   12]]),\n",
       " 'sadness': array([[8179,  479],\n",
       "        [1021,  287]]),\n",
       " 'surprise': array([[9389,   74],\n",
       "        [ 479,   24]]),\n",
       " 'worry': array([[5950, 1908],\n",
       "        [1123,  985]])}"
      ]
     },
     "execution_count": 164,
     "metadata": {},
     "output_type": "execute_result"
    }
   ],
   "source": [
    "conf_matrix1 = {\n",
    "    dict_emotion[i]: multilabel_confusion_matrix(y_true = y_test, y_pred = y_pred_tf, labels = [j for j in range(13)])[i]\n",
    "    for i in range(13)\n",
    "}\n",
    "conf_matrix1   #  матрица ошибок для каждого класса для мультиклассовой классификации"
   ]
  },
  {
   "cell_type": "code",
   "execution_count": null,
   "metadata": {
    "colab": {
     "base_uri": "https://localhost:8080/",
     "height": 543
    },
    "id": "sIDtAPBEXZ_Z",
    "outputId": "a82a41b3-916b-4184-dc34-f4edc2445e5c"
   },
   "outputs": [
    {
     "data": {
      "text/plain": [
       "<Axes: >"
      ]
     },
     "execution_count": 165,
     "metadata": {},
     "output_type": "execute_result"
    },
    {
     "data": {
      "image/png": "[encoded data removed]",
      "text/plain": [
       "<Figure size 1000x600 with 2 Axes>"
      ]
     },
     "metadata": {},
     "output_type": "display_data"
    }
   ],
   "source": [
    "plt.figure(figsize = (10,6))\n",
    "sns.heatmap(confusion_matrix(y_test, y_pred_tf),cmap=\"coolwarm\")"
   ]
  },
  {
   "cell_type": "code",
   "execution_count": null,
   "metadata": {
    "colab": {
     "base_uri": "https://localhost:8080/"
    },
    "id": "DKBEfEqHXZ_Z",
    "outputId": "e7055e55-4f70-4fa1-e229-f7087b5be87f"
   },
   "outputs": [
    {
     "name": "stdout",
     "output_type": "stream",
     "text": [
      "0.34216335540838855\n"
     ]
    }
   ],
   "source": [
    "print(f1_score(y_test, y_pred_tf, average = 'micro'))     #  Гармоническое среднее значение 77 и отзыва (Отзыв = истинно положительный / (истинно положительный + ложноотрицательный))"
   ]
  },
  {
   "cell_type": "code",
   "execution_count": null,
   "metadata": {
    "id": "IxeiW5ulJDdH"
   },
   "outputs": [],
   "source": [
    "# модель TFIDF показали результаты лучше, поэтому добавляе ее значения метрик м в итоговый датафрэйм \n",
    "metrics['Random Forest']['accuracy_score'] = round(accuracy_score(y_test, y_pred_tf),4)*100   # заполнение датафрейма с метриками"
   ]
  },
  {
   "cell_type": "markdown",
   "metadata": {
    "id": "A5USJ0HspCig"
   },
   "source": [
    "Для борьбы с переобчением модели попробуем использовать методы *регуляризации*"
   ]
  },
  {
   "cell_type": "code",
   "execution_count": null,
   "metadata": {
    "id": "V9cVikCnrImd"
   },
   "outputs": [],
   "source": []
  },
  {
   "cell_type": "markdown",
   "metadata": {
    "id": "WL0Srdo7Ocit"
   },
   "source": [
    "##Метод опорных векторов"
   ]
  },
  {
   "cell_type": "markdown",
   "metadata": {
    "id": "RIY-Fuu5PFSv"
   },
   "source": [
    "> ```TfdifVectorizer```"
   ]
  },
  {
   "cell_type": "code",
   "execution_count": null,
   "metadata": {
    "colab": {
     "base_uri": "https://localhost:8080/"
    },
    "id": "ieZ9OVk3PFSw",
    "outputId": "77b16904-0ecd-45d8-ee37-c4e89d11d149"
   },
   "outputs": [
    {
     "name": "stdout",
     "output_type": "stream",
     "text": [
      "Training score: 74.56%\n",
      "Test score: 35.35%\n",
      "Time fit: 244.53 s\n",
      "CPU times: user 6min 18s, sys: 369 ms, total: 6min 18s\n",
      "Wall time: 6min 18s\n"
     ]
    }
   ],
   "source": [
    "%%time\n",
    "\n",
    "svm1 = Pipeline([('tfidf', TfidfVectorizer()), ('clf', svm.SVC())])    # последовательное применение методов из списка\n",
    "\n",
    "start_time = time.time()    # для подсчета времени обучения модели\n",
    "svm1.fit(X_train, y_train)    # обучение модели\n",
    "end_time =time.time()\n",
    "y_pred_tf = svm1.predict(X_test)    # предсказание для тестовых данных\n",
    "y_train_pred_tf = svm1.predict(X_train)   # предсказание обучающих данных\n",
    "print(f\"Training score: {round(accuracy_score(y_train, y_train_pred_tf),4)*100}%\")   # метрика - показатель точности спрогнозированных данных, \n",
    "                                                                                  # рассчитывается как отношение количества правильных прогнозов к их общему количеству.\n",
    "print(f\"Test score: {round(accuracy_score(y_test, y_pred_tf),4)*100}%\")   # метрика точности спрогнозированных данных для тестовой выборки\n",
    "print(f'Time fit: {round(end_time - start_time, 2)} s')"
   ]
  },
  {
   "cell_type": "markdown",
   "metadata": {
    "id": "kWi4dG0gPFSw"
   },
   "source": [
    "Значение метрики точности у этой модели чуть больше, но по-прежнему низкое. Модель недообучена"
   ]
  },
  {
   "cell_type": "code",
   "execution_count": null,
   "metadata": {
    "colab": {
     "base_uri": "https://localhost:8080/"
    },
    "id": "LVnwtZN7PFSw",
    "outputId": "a0571e95-1040-47c9-af46-d29d50e1c5a9"
   },
   "outputs": [
    {
     "name": "stdout",
     "output_type": "stream",
     "text": [
      "              precision    recall  f1-score   support\n",
      "\n",
      "           0       0.00      0.00      0.00        26\n",
      "           1       0.00      0.00      0.00        40\n",
      "           2       0.33      0.00      0.01       235\n",
      "           3       0.00      0.00      0.00       185\n",
      "           4       0.17      0.00      0.00       431\n",
      "           5       0.35      0.33      0.34      1304\n",
      "           6       0.45      0.13      0.20       338\n",
      "           7       0.48      0.39      0.43       946\n",
      "           8       0.33      0.62      0.43      2158\n",
      "           9       0.31      0.01      0.03       384\n",
      "          10       0.41      0.16      0.23      1308\n",
      "          11       0.45      0.02      0.04       503\n",
      "          12       0.34      0.53      0.42      2108\n",
      "\n",
      "    accuracy                           0.35      9966\n",
      "   macro avg       0.28      0.17      0.16      9966\n",
      "weighted avg       0.35      0.35      0.31      9966\n",
      "\n"
     ]
    },
    {
     "name": "stderr",
     "output_type": "stream",
     "text": [
      "/usr/local/lib/python3.10/dist-packages/sklearn/metrics/_classification.py:1344: UndefinedMetricWarning: Precision and F-score are ill-defined and being set to 0.0 in labels with no predicted samples. Use `zero_division` parameter to control this behavior.\n",
      "  _warn_prf(average, modifier, msg_start, len(result))\n",
      "/usr/local/lib/python3.10/dist-packages/sklearn/metrics/_classification.py:1344: UndefinedMetricWarning: Precision and F-score are ill-defined and being set to 0.0 in labels with no predicted samples. Use `zero_division` parameter to control this behavior.\n",
      "  _warn_prf(average, modifier, msg_start, len(result))\n",
      "/usr/local/lib/python3.10/dist-packages/sklearn/metrics/_classification.py:1344: UndefinedMetricWarning: Precision and F-score are ill-defined and being set to 0.0 in labels with no predicted samples. Use `zero_division` parameter to control this behavior.\n",
      "  _warn_prf(average, modifier, msg_start, len(result))\n"
     ]
    }
   ],
   "source": [
    "print(classification_report(y_test, y_pred_tf))"
   ]
  },
  {
   "cell_type": "markdown",
   "metadata": {
    "id": "8BW3wk85PFSx"
   },
   "source": [
    ">```CountVectorizer```"
   ]
  },
  {
   "cell_type": "code",
   "execution_count": null,
   "metadata": {
    "colab": {
     "base_uri": "https://localhost:8080/"
    },
    "id": "PSZQh0c1PFSx",
    "outputId": "01c1bfa1-96aa-466d-9531-cc4fb26f0dc5"
   },
   "outputs": [
    {
     "name": "stdout",
     "output_type": "stream",
     "text": [
      "Training score: 67.86999999999999%\n",
      "Test score: 35.54%\n",
      "Time fit: 225.16 s\n",
      "CPU times: user 5min 58s, sys: 310 ms, total: 5min 58s\n",
      "Wall time: 5min 58s\n"
     ]
    }
   ],
   "source": [
    "%%time\n",
    "\n",
    "svm2 = Pipeline([('cv', CountVectorizer()),  ('clf', svm.SVC())])   # последовательное применение методов из списка\n",
    "\n",
    "start_time = time.time()    # для подсчета времени обучения модели\n",
    "svm2.fit(X_train, y_train)    # обучение модели\n",
    "end_time =time.time()\n",
    "y_pred_cv = svm2.predict(X_test)    # предсказание для тестовых данных\n",
    "y_train_pred_cv = svm2.predict(X_train)   # предсказание обучающих данных\n",
    "print(f\"Training score: {round(accuracy_score(y_train, y_train_pred_cv),4)*100}%\")   # метрика - показатель точности спрогнозированных данных, \n",
    "                                                                                  # рассчитывается как отношение количества правильных прогнозов к их общему количеству.\n",
    "print(f\"Test score: {round(accuracy_score(y_test, y_pred_cv),4)*100}%\")   # метрика точности спрогнозированных данных для тестовой выборки\n",
    "print(f'Time fit: {round(end_time - start_time, 2)} s')"
   ]
  },
  {
   "cell_type": "markdown",
   "metadata": {
    "id": "F3PnO-jKPFSx"
   },
   "source": [
    "```CountVectorizer``` показал результат лучше"
   ]
  },
  {
   "cell_type": "code",
   "execution_count": null,
   "metadata": {
    "colab": {
     "base_uri": "https://localhost:8080/"
    },
    "id": "R-Rkc_VcPFSx",
    "outputId": "95647fc7-96b9-4ed5-e73d-2a571f779fb4"
   },
   "outputs": [
    {
     "name": "stdout",
     "output_type": "stream",
     "text": [
      "              precision    recall  f1-score   support\n",
      "\n",
      "           0       0.00      0.00      0.00        26\n",
      "           1       0.00      0.00      0.00        40\n",
      "           2       0.00      0.00      0.00       235\n",
      "           3       0.00      0.00      0.00       185\n",
      "           4       0.33      0.00      0.01       431\n",
      "           5       0.32      0.35      0.34      1304\n",
      "           6       0.52      0.14      0.22       338\n",
      "           7       0.49      0.36      0.42       946\n",
      "           8       0.34      0.63      0.44      2158\n",
      "           9       0.25      0.01      0.02       384\n",
      "          10       0.41      0.18      0.25      1308\n",
      "          11       0.33      0.02      0.03       503\n",
      "          12       0.34      0.52      0.41      2108\n",
      "\n",
      "    accuracy                           0.36      9966\n",
      "   macro avg       0.26      0.17      0.16      9966\n",
      "weighted avg       0.35      0.36      0.31      9966\n",
      "\n"
     ]
    },
    {
     "name": "stderr",
     "output_type": "stream",
     "text": [
      "/usr/local/lib/python3.10/dist-packages/sklearn/metrics/_classification.py:1344: UndefinedMetricWarning: Precision and F-score are ill-defined and being set to 0.0 in labels with no predicted samples. Use `zero_division` parameter to control this behavior.\n",
      "  _warn_prf(average, modifier, msg_start, len(result))\n",
      "/usr/local/lib/python3.10/dist-packages/sklearn/metrics/_classification.py:1344: UndefinedMetricWarning: Precision and F-score are ill-defined and being set to 0.0 in labels with no predicted samples. Use `zero_division` parameter to control this behavior.\n",
      "  _warn_prf(average, modifier, msg_start, len(result))\n",
      "/usr/local/lib/python3.10/dist-packages/sklearn/metrics/_classification.py:1344: UndefinedMetricWarning: Precision and F-score are ill-defined and being set to 0.0 in labels with no predicted samples. Use `zero_division` parameter to control this behavior.\n",
      "  _warn_prf(average, modifier, msg_start, len(result))\n"
     ]
    }
   ],
   "source": [
    "print(classification_report(y_test, y_pred_cv))"
   ]
  },
  {
   "cell_type": "code",
   "execution_count": null,
   "metadata": {
    "colab": {
     "base_uri": "https://localhost:8080/"
    },
    "id": "4Es9YbMjPFSx",
    "outputId": "9d526626-7b53-432a-8845-e31ab56bf752"
   },
   "outputs": [
    {
     "data": {
      "text/plain": [
       "{'anger': array([[9940,    0],\n",
       "        [  26,    0]]),\n",
       " 'boredom': array([[9926,    0],\n",
       "        [  40,    0]]),\n",
       " 'empty': array([[9731,    0],\n",
       "        [ 235,    0]]),\n",
       " 'enthusiasm': array([[9781,    0],\n",
       "        [ 185,    0]]),\n",
       " 'fun': array([[9531,    4],\n",
       "        [ 429,    2]]),\n",
       " 'happiness': array([[7689,  973],\n",
       "        [ 842,  462]]),\n",
       " 'hate': array([[9584,   44],\n",
       "        [ 290,   48]]),\n",
       " 'love': array([[8656,  364],\n",
       "        [ 601,  345]]),\n",
       " 'neutral': array([[5210, 2598],\n",
       "        [ 802, 1356]]),\n",
       " 'relief': array([[9573,    9],\n",
       "        [ 381,    3]]),\n",
       " 'sadness': array([[8324,  334],\n",
       "        [1077,  231]]),\n",
       " 'surprise': array([[9445,   18],\n",
       "        [ 494,    9]]),\n",
       " 'worry': array([[5778, 2080],\n",
       "        [1022, 1086]])}"
      ]
     },
     "execution_count": 172,
     "metadata": {},
     "output_type": "execute_result"
    }
   ],
   "source": [
    "conf_matrix2 = {\n",
    "    dict_emotion[i]: multilabel_confusion_matrix(y_true = y_test, y_pred = y_pred_cv, labels = [j for j in range(13)])[i]\n",
    "    for i in range(13)\n",
    "}\n",
    "conf_matrix2    #  матрица ошибок для каждого класса для мультиклассовой классификации"
   ]
  },
  {
   "cell_type": "code",
   "execution_count": null,
   "metadata": {
    "colab": {
     "base_uri": "https://localhost:8080/",
     "height": 539
    },
    "id": "7z0L5bZDPFSx",
    "outputId": "f866ec0b-d519-4643-c043-819fe9ec89e5"
   },
   "outputs": [
    {
     "data": {
      "text/plain": [
       "<Axes: >"
      ]
     },
     "execution_count": 173,
     "metadata": {},
     "output_type": "execute_result"
    },
    {
     "data": {
      "image/png": "[encoded data removed]",
      "text/plain": [
       "<Figure size 1000x600 with 2 Axes>"
      ]
     },
     "metadata": {},
     "output_type": "display_data"
    }
   ],
   "source": [
    "plt.figure(figsize = (10,6))\n",
    "sns.heatmap(confusion_matrix(y_test, y_pred_cv),cmap=\"coolwarm\")"
   ]
  },
  {
   "cell_type": "code",
   "execution_count": null,
   "metadata": {
    "colab": {
     "base_uri": "https://localhost:8080/"
    },
    "id": "-OmHKzTDPFSy",
    "outputId": "46b074c5-6051-414d-ace5-9d35bc26fec7"
   },
   "outputs": [
    {
     "name": "stdout",
     "output_type": "stream",
     "text": [
      "0.3554083885209713\n"
     ]
    }
   ],
   "source": [
    "print(f1_score(y_test, y_pred_cv, average = 'micro'))     #  Гармоническое среднее значение 77 и отзыва (Отзыв = истинно положительный / (истинно положительный + ложноотрицательный))"
   ]
  },
  {
   "cell_type": "code",
   "execution_count": null,
   "metadata": {
    "id": "md31FiakPFSy"
   },
   "outputs": [],
   "source": [
    "# модель TFIDF показали результаты лучше, поэтому добавляе ее значения метрик м в итоговый датафрэйм \n",
    "metrics['SVM']['accuracy_score'] = round(accuracy_score(y_test, y_pred_tf),4)*100   # заполнение датафрейма с метриками\n",
    "metrics['SVM']['f1_score'] = round(f1_score(y_test, y_pred_tf, average = 'micro'),4)*100   "
   ]
  },
  {
   "cell_type": "markdown",
   "metadata": {
    "id": "Lq5sZLInU3QA"
   },
   "source": [
    "## Метод ближайших соседей"
   ]
  },
  {
   "cell_type": "markdown",
   "metadata": {
    "id": "REY1dOMnYJR8"
   },
   "source": [
    "> ```TfdifVectorizer```"
   ]
  },
  {
   "cell_type": "code",
   "execution_count": null,
   "metadata": {
    "colab": {
     "base_uri": "https://localhost:8080/"
    },
    "id": "kYu-UgkSYJR8",
    "outputId": "af3c777c-ec1f-4db9-f75d-e9549359775a"
   },
   "outputs": [
    {
     "name": "stdout",
     "output_type": "stream",
     "text": [
      "Training score: 74.56%\n",
      "Test score: 35.35%\n",
      "Time fit: 245.3 s\n",
      "CPU times: user 6min 18s, sys: 339 ms, total: 6min 18s\n",
      "Wall time: 6min 18s\n"
     ]
    }
   ],
   "source": [
    "%%time\n",
    "\n",
    "svm1 = Pipeline([('tfidf', TfidfVectorizer()), ('clf', svm.SVC())])    # последовательное применение методов из списка\n",
    "\n",
    "start_time = time.time()    # для подсчета времени обучения модели\n",
    "svm1.fit(X_train, y_train)    # обучение модели\n",
    "end_time =time.time()\n",
    "y_pred_tf = svm1.predict(X_test)    # предсказание для тестовых данных\n",
    "y_train_pred_tf = svm1.predict(X_train)   # предсказание обучающих данных\n",
    "print(f\"Training score: {round(accuracy_score(y_train, y_train_pred_tf),4)*100}%\")   # метрика - показатель точности спрогнозированных данных, \n",
    "                                                                                  # рассчитывается как отношение количества правильных прогнозов к их общему количеству.\n",
    "print(f\"Test score: {round(accuracy_score(y_test, y_pred_tf),4)*100}%\")   # метрика точности спрогнозированных данных для тестовой выборки\n",
    "print(f'Time fit: {round(end_time - start_time, 2)} s')"
   ]
  },
  {
   "cell_type": "markdown",
   "metadata": {
    "id": "pcROh7U6YJR9"
   },
   "source": [
    "Значение метрики у жтой модели чуть больше"
   ]
  },
  {
   "cell_type": "code",
   "execution_count": null,
   "metadata": {
    "colab": {
     "base_uri": "https://localhost:8080/"
    },
    "id": "08Sc2WXmYJR9",
    "outputId": "bfe1cfc7-0839-4846-f568-9eaa472c85e2"
   },
   "outputs": [
    {
     "name": "stdout",
     "output_type": "stream",
     "text": [
      "              precision    recall  f1-score   support\n",
      "\n",
      "           0       0.00      0.00      0.00        26\n",
      "           1       0.00      0.00      0.00        40\n",
      "           2       0.33      0.00      0.01       235\n",
      "           3       0.00      0.00      0.00       185\n",
      "           4       0.17      0.00      0.00       431\n",
      "           5       0.35      0.33      0.34      1304\n",
      "           6       0.45      0.13      0.20       338\n",
      "           7       0.48      0.39      0.43       946\n",
      "           8       0.33      0.62      0.43      2158\n",
      "           9       0.31      0.01      0.03       384\n",
      "          10       0.41      0.16      0.23      1308\n",
      "          11       0.45      0.02      0.04       503\n",
      "          12       0.34      0.53      0.42      2108\n",
      "\n",
      "    accuracy                           0.35      9966\n",
      "   macro avg       0.28      0.17      0.16      9966\n",
      "weighted avg       0.35      0.35      0.31      9966\n",
      "\n"
     ]
    },
    {
     "name": "stderr",
     "output_type": "stream",
     "text": [
      "/usr/local/lib/python3.10/dist-packages/sklearn/metrics/_classification.py:1344: UndefinedMetricWarning: Precision and F-score are ill-defined and being set to 0.0 in labels with no predicted samples. Use `zero_division` parameter to control this behavior.\n",
      "  _warn_prf(average, modifier, msg_start, len(result))\n",
      "/usr/local/lib/python3.10/dist-packages/sklearn/metrics/_classification.py:1344: UndefinedMetricWarning: Precision and F-score are ill-defined and being set to 0.0 in labels with no predicted samples. Use `zero_division` parameter to control this behavior.\n",
      "  _warn_prf(average, modifier, msg_start, len(result))\n",
      "/usr/local/lib/python3.10/dist-packages/sklearn/metrics/_classification.py:1344: UndefinedMetricWarning: Precision and F-score are ill-defined and being set to 0.0 in labels with no predicted samples. Use `zero_division` parameter to control this behavior.\n",
      "  _warn_prf(average, modifier, msg_start, len(result))\n"
     ]
    }
   ],
   "source": [
    "print(classification_report(y_test, y_pred_tf))"
   ]
  },
  {
   "cell_type": "markdown",
   "metadata": {
    "id": "f3z3P9_nYJR9"
   },
   "source": [
    ">```CountVectorizer```"
   ]
  },
  {
   "cell_type": "code",
   "execution_count": null,
   "metadata": {
    "colab": {
     "background_save": true
    },
    "id": "cNM-EVT8YJR9",
    "outputId": "e8150374-9c5f-4941-89cf-1fd80954b8db"
   },
   "outputs": [
    {
     "name": "stdout",
     "output_type": "stream",
     "text": [
      "Training score: 67.86999999999999%\n",
      "Test score: 35.54%\n",
      "Time fit: 226.55 s\n",
      "CPU times: user 5min 59s, sys: 343 ms, total: 5min 59s\n",
      "Wall time: 5min 59s\n"
     ]
    }
   ],
   "source": [
    "%%time\n",
    "\n",
    "svm2 = Pipeline([('cv', CountVectorizer()),  ('clf', svm.SVC())])   # последовательное применение методов из списка\n",
    "\n",
    "start_time = time.time()    # для подсчета времени обучения модели\n",
    "svm2.fit(X_train, y_train)    # обучение модели\n",
    "end_time =time.time()\n",
    "y_pred_cv = svm2.predict(X_test)    # предсказание для тестовых данных\n",
    "y_train_pred_cv = svm2.predict(X_train)   # предсказание обучающих данных\n",
    "print(f\"Training score: {round(accuracy_score(y_train, y_train_pred_cv),4)*100}%\")   # метрика - показатель точности спрогнозированных данных, \n",
    "                                                                                  # рассчитывается как отношение количества правильных прогнозов к их общему количеству.\n",
    "print(f\"Test score: {round(accuracy_score(y_test, y_pred_cv),4)*100}%\")   # метрика точности спрогнозированных данных для тестовой выборки\n",
    "print(f'Time fit: {round(end_time - start_time, 2)} s')"
   ]
  },
  {
   "cell_type": "markdown",
   "metadata": {
    "id": "DXvvUAIqYJR-"
   },
   "source": [
    "```CountVectorizer``` показал результат лучше"
   ]
  },
  {
   "cell_type": "markdown",
   "metadata": {
    "id": "z-9rkFW2VGlq"
   },
   "source": [
    "##Многослойный перцептрон"
   ]
  },
  {
   "cell_type": "code",
   "execution_count": null,
   "metadata": {
    "colab": {
     "background_save": true
    },
    "id": "jqDFzoXlVJkB"
   },
   "outputs": [],
   "source": []
  },
  {
   "cell_type": "markdown",
   "metadata": {
    "id": "egjZvKXIVO84"
   },
   "source": [
    "##Дерево решений"
   ]
  },
  {
   "cell_type": "code",
   "execution_count": null,
   "metadata": {
    "colab": {
     "background_save": true
    },
    "id": "oCnlzlycVQXo"
   },
   "outputs": [],
   "source": []
  },
  {
   "cell_type": "markdown",
   "metadata": {
    "id": "-IIfqQPlVUKd"
   },
   "source": [
    "##Наивный байесовский классификатор"
   ]
  },
  {
   "cell_type": "code",
   "execution_count": null,
   "metadata": {
    "colab": {
     "background_save": true
    },
    "id": "nMjChkOiVV1f"
   },
   "outputs": [],
   "source": []
  },
  {
   "cell_type": "markdown",
   "metadata": {
    "id": "pCyLyAX-VWaZ"
   },
   "source": [
    "##Пассивно -агрессивный классификатор"
   ]
  },
  {
   "cell_type": "code",
   "execution_count": null,
   "metadata": {
    "colab": {
     "background_save": true
    },
    "id": "SlPfE3seVcod"
   },
   "outputs": [],
   "source": []
  },
  {
   "cell_type": "markdown",
   "metadata": {
    "id": "fLMrC5ARVg6m"
   },
   "source": [
    "##Гребневый классификатор"
   ]
  },
  {
   "cell_type": "code",
   "execution_count": null,
   "metadata": {
    "colab": {
     "background_save": true
    },
    "id": "2fkYKLZEVjO3"
   },
   "outputs": [],
   "source": []
  },
  {
   "cell_type": "markdown",
   "metadata": {
    "id": "tvrICQWxY3KI"
   },
   "source": [
    "##Polynomyal Logistic Regreddio"
   ]
  }
 ],
 "metadata": {
  "colab": {
   "collapsed_sections": [
    "-CLVN4cP6mRv",
    "tWNfxKyTpOKe",
    "dvSSACWsXdSg"
   ],
   "provenance": []
  },
  "kernelspec": {
   "display_name": "Python 3",
   "language": "python",
   "name": "python3"
  },
  "language_info": {
   "codemirror_mode": {
    "name": "ipython",
    "version": 3
   },
   "file_extension": ".py",
   "mimetype": "text/x-python",
   "name": "python",
   "nbconvert_exporter": "python",
   "pygments_lexer": "ipython3",
   "version": "3.8.8"
  }
 },
 "nbformat": 4,
 "nbformat_minor": 1
}
